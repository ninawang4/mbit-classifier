{
  "nbformat": 4,
  "nbformat_minor": 0,
  "metadata": {
    "colab": {
      "provenance": [],
      "include_colab_link": true
    },
    "kernelspec": {
      "name": "python3",
      "display_name": "Python 3"
    },
    "accelerator": "GPU",
    "widgets": {
      "application/vnd.jupyter.widget-state+json": {
        "a7c800cb150a47efb681229fa8dcf4fb": {
          "model_module": "@jupyter-widgets/controls",
          "model_name": "HBoxModel",
          "model_module_version": "1.5.0",
          "state": {
            "_dom_classes": [],
            "_model_module": "@jupyter-widgets/controls",
            "_model_module_version": "1.5.0",
            "_model_name": "HBoxModel",
            "_view_count": null,
            "_view_module": "@jupyter-widgets/controls",
            "_view_module_version": "1.5.0",
            "_view_name": "HBoxView",
            "box_style": "",
            "children": [
              "IPY_MODEL_52585df02c014b6cb2598d6740ff1b3a",
              "IPY_MODEL_a744388fbd11403288ed053dbc009ba2",
              "IPY_MODEL_864a9f08ff7444ce9aad1003beda1b71"
            ],
            "layout": "IPY_MODEL_6f6e341546e34fa3a57b55c07ed58605"
          }
        },
        "52585df02c014b6cb2598d6740ff1b3a": {
          "model_module": "@jupyter-widgets/controls",
          "model_name": "HTMLModel",
          "model_module_version": "1.5.0",
          "state": {
            "_dom_classes": [],
            "_model_module": "@jupyter-widgets/controls",
            "_model_module_version": "1.5.0",
            "_model_name": "HTMLModel",
            "_view_count": null,
            "_view_module": "@jupyter-widgets/controls",
            "_view_module_version": "1.5.0",
            "_view_name": "HTMLView",
            "description": "",
            "description_tooltip": null,
            "layout": "IPY_MODEL_d4c049f542d64e8aa16ac1eab1a570d8",
            "placeholder": "​",
            "style": "IPY_MODEL_e984d3a021e6415f8a11aafae31998a6",
            "value": "tokenizer_config.json: 100%"
          }
        },
        "a744388fbd11403288ed053dbc009ba2": {
          "model_module": "@jupyter-widgets/controls",
          "model_name": "FloatProgressModel",
          "model_module_version": "1.5.0",
          "state": {
            "_dom_classes": [],
            "_model_module": "@jupyter-widgets/controls",
            "_model_module_version": "1.5.0",
            "_model_name": "FloatProgressModel",
            "_view_count": null,
            "_view_module": "@jupyter-widgets/controls",
            "_view_module_version": "1.5.0",
            "_view_name": "ProgressView",
            "bar_style": "success",
            "description": "",
            "description_tooltip": null,
            "layout": "IPY_MODEL_0da02d45b18648ce816957508b059956",
            "max": 29,
            "min": 0,
            "orientation": "horizontal",
            "style": "IPY_MODEL_a103be5c8e214f4aba404c7c5530842d",
            "value": 29
          }
        },
        "864a9f08ff7444ce9aad1003beda1b71": {
          "model_module": "@jupyter-widgets/controls",
          "model_name": "HTMLModel",
          "model_module_version": "1.5.0",
          "state": {
            "_dom_classes": [],
            "_model_module": "@jupyter-widgets/controls",
            "_model_module_version": "1.5.0",
            "_model_name": "HTMLModel",
            "_view_count": null,
            "_view_module": "@jupyter-widgets/controls",
            "_view_module_version": "1.5.0",
            "_view_name": "HTMLView",
            "description": "",
            "description_tooltip": null,
            "layout": "IPY_MODEL_970a4be7a6e54950a3e18e5e4aa3603a",
            "placeholder": "​",
            "style": "IPY_MODEL_c3d8a04dc5424da49e72cd3b481ed8b9",
            "value": " 29.0/29.0 [00:00&lt;00:00, 1.82kB/s]"
          }
        },
        "6f6e341546e34fa3a57b55c07ed58605": {
          "model_module": "@jupyter-widgets/base",
          "model_name": "LayoutModel",
          "model_module_version": "1.2.0",
          "state": {
            "_model_module": "@jupyter-widgets/base",
            "_model_module_version": "1.2.0",
            "_model_name": "LayoutModel",
            "_view_count": null,
            "_view_module": "@jupyter-widgets/base",
            "_view_module_version": "1.2.0",
            "_view_name": "LayoutView",
            "align_content": null,
            "align_items": null,
            "align_self": null,
            "border": null,
            "bottom": null,
            "display": null,
            "flex": null,
            "flex_flow": null,
            "grid_area": null,
            "grid_auto_columns": null,
            "grid_auto_flow": null,
            "grid_auto_rows": null,
            "grid_column": null,
            "grid_gap": null,
            "grid_row": null,
            "grid_template_areas": null,
            "grid_template_columns": null,
            "grid_template_rows": null,
            "height": null,
            "justify_content": null,
            "justify_items": null,
            "left": null,
            "margin": null,
            "max_height": null,
            "max_width": null,
            "min_height": null,
            "min_width": null,
            "object_fit": null,
            "object_position": null,
            "order": null,
            "overflow": null,
            "overflow_x": null,
            "overflow_y": null,
            "padding": null,
            "right": null,
            "top": null,
            "visibility": null,
            "width": null
          }
        },
        "d4c049f542d64e8aa16ac1eab1a570d8": {
          "model_module": "@jupyter-widgets/base",
          "model_name": "LayoutModel",
          "model_module_version": "1.2.0",
          "state": {
            "_model_module": "@jupyter-widgets/base",
            "_model_module_version": "1.2.0",
            "_model_name": "LayoutModel",
            "_view_count": null,
            "_view_module": "@jupyter-widgets/base",
            "_view_module_version": "1.2.0",
            "_view_name": "LayoutView",
            "align_content": null,
            "align_items": null,
            "align_self": null,
            "border": null,
            "bottom": null,
            "display": null,
            "flex": null,
            "flex_flow": null,
            "grid_area": null,
            "grid_auto_columns": null,
            "grid_auto_flow": null,
            "grid_auto_rows": null,
            "grid_column": null,
            "grid_gap": null,
            "grid_row": null,
            "grid_template_areas": null,
            "grid_template_columns": null,
            "grid_template_rows": null,
            "height": null,
            "justify_content": null,
            "justify_items": null,
            "left": null,
            "margin": null,
            "max_height": null,
            "max_width": null,
            "min_height": null,
            "min_width": null,
            "object_fit": null,
            "object_position": null,
            "order": null,
            "overflow": null,
            "overflow_x": null,
            "overflow_y": null,
            "padding": null,
            "right": null,
            "top": null,
            "visibility": null,
            "width": null
          }
        },
        "e984d3a021e6415f8a11aafae31998a6": {
          "model_module": "@jupyter-widgets/controls",
          "model_name": "DescriptionStyleModel",
          "model_module_version": "1.5.0",
          "state": {
            "_model_module": "@jupyter-widgets/controls",
            "_model_module_version": "1.5.0",
            "_model_name": "DescriptionStyleModel",
            "_view_count": null,
            "_view_module": "@jupyter-widgets/base",
            "_view_module_version": "1.2.0",
            "_view_name": "StyleView",
            "description_width": ""
          }
        },
        "0da02d45b18648ce816957508b059956": {
          "model_module": "@jupyter-widgets/base",
          "model_name": "LayoutModel",
          "model_module_version": "1.2.0",
          "state": {
            "_model_module": "@jupyter-widgets/base",
            "_model_module_version": "1.2.0",
            "_model_name": "LayoutModel",
            "_view_count": null,
            "_view_module": "@jupyter-widgets/base",
            "_view_module_version": "1.2.0",
            "_view_name": "LayoutView",
            "align_content": null,
            "align_items": null,
            "align_self": null,
            "border": null,
            "bottom": null,
            "display": null,
            "flex": null,
            "flex_flow": null,
            "grid_area": null,
            "grid_auto_columns": null,
            "grid_auto_flow": null,
            "grid_auto_rows": null,
            "grid_column": null,
            "grid_gap": null,
            "grid_row": null,
            "grid_template_areas": null,
            "grid_template_columns": null,
            "grid_template_rows": null,
            "height": null,
            "justify_content": null,
            "justify_items": null,
            "left": null,
            "margin": null,
            "max_height": null,
            "max_width": null,
            "min_height": null,
            "min_width": null,
            "object_fit": null,
            "object_position": null,
            "order": null,
            "overflow": null,
            "overflow_x": null,
            "overflow_y": null,
            "padding": null,
            "right": null,
            "top": null,
            "visibility": null,
            "width": null
          }
        },
        "a103be5c8e214f4aba404c7c5530842d": {
          "model_module": "@jupyter-widgets/controls",
          "model_name": "ProgressStyleModel",
          "model_module_version": "1.5.0",
          "state": {
            "_model_module": "@jupyter-widgets/controls",
            "_model_module_version": "1.5.0",
            "_model_name": "ProgressStyleModel",
            "_view_count": null,
            "_view_module": "@jupyter-widgets/base",
            "_view_module_version": "1.2.0",
            "_view_name": "StyleView",
            "bar_color": null,
            "description_width": ""
          }
        },
        "970a4be7a6e54950a3e18e5e4aa3603a": {
          "model_module": "@jupyter-widgets/base",
          "model_name": "LayoutModel",
          "model_module_version": "1.2.0",
          "state": {
            "_model_module": "@jupyter-widgets/base",
            "_model_module_version": "1.2.0",
            "_model_name": "LayoutModel",
            "_view_count": null,
            "_view_module": "@jupyter-widgets/base",
            "_view_module_version": "1.2.0",
            "_view_name": "LayoutView",
            "align_content": null,
            "align_items": null,
            "align_self": null,
            "border": null,
            "bottom": null,
            "display": null,
            "flex": null,
            "flex_flow": null,
            "grid_area": null,
            "grid_auto_columns": null,
            "grid_auto_flow": null,
            "grid_auto_rows": null,
            "grid_column": null,
            "grid_gap": null,
            "grid_row": null,
            "grid_template_areas": null,
            "grid_template_columns": null,
            "grid_template_rows": null,
            "height": null,
            "justify_content": null,
            "justify_items": null,
            "left": null,
            "margin": null,
            "max_height": null,
            "max_width": null,
            "min_height": null,
            "min_width": null,
            "object_fit": null,
            "object_position": null,
            "order": null,
            "overflow": null,
            "overflow_x": null,
            "overflow_y": null,
            "padding": null,
            "right": null,
            "top": null,
            "visibility": null,
            "width": null
          }
        },
        "c3d8a04dc5424da49e72cd3b481ed8b9": {
          "model_module": "@jupyter-widgets/controls",
          "model_name": "DescriptionStyleModel",
          "model_module_version": "1.5.0",
          "state": {
            "_model_module": "@jupyter-widgets/controls",
            "_model_module_version": "1.5.0",
            "_model_name": "DescriptionStyleModel",
            "_view_count": null,
            "_view_module": "@jupyter-widgets/base",
            "_view_module_version": "1.2.0",
            "_view_name": "StyleView",
            "description_width": ""
          }
        },
        "581c6ea6def94136986d4a4ed8ae9cb3": {
          "model_module": "@jupyter-widgets/controls",
          "model_name": "HBoxModel",
          "model_module_version": "1.5.0",
          "state": {
            "_dom_classes": [],
            "_model_module": "@jupyter-widgets/controls",
            "_model_module_version": "1.5.0",
            "_model_name": "HBoxModel",
            "_view_count": null,
            "_view_module": "@jupyter-widgets/controls",
            "_view_module_version": "1.5.0",
            "_view_name": "HBoxView",
            "box_style": "",
            "children": [
              "IPY_MODEL_de74b4eae52a48adbd4ae6d86f46f166",
              "IPY_MODEL_287c646f9e954f5e9eaa0e4262d05817",
              "IPY_MODEL_9947ea6d2a8446608c7d05edb52dc062"
            ],
            "layout": "IPY_MODEL_2dd40eec18d945c5acc9da14540fada5"
          }
        },
        "de74b4eae52a48adbd4ae6d86f46f166": {
          "model_module": "@jupyter-widgets/controls",
          "model_name": "HTMLModel",
          "model_module_version": "1.5.0",
          "state": {
            "_dom_classes": [],
            "_model_module": "@jupyter-widgets/controls",
            "_model_module_version": "1.5.0",
            "_model_name": "HTMLModel",
            "_view_count": null,
            "_view_module": "@jupyter-widgets/controls",
            "_view_module_version": "1.5.0",
            "_view_name": "HTMLView",
            "description": "",
            "description_tooltip": null,
            "layout": "IPY_MODEL_22cf6a2fad5a4a16ab240b036c2b34e7",
            "placeholder": "​",
            "style": "IPY_MODEL_e2e5ae4b236e48178ee5d4f603d57b78",
            "value": "vocab.txt: 100%"
          }
        },
        "287c646f9e954f5e9eaa0e4262d05817": {
          "model_module": "@jupyter-widgets/controls",
          "model_name": "FloatProgressModel",
          "model_module_version": "1.5.0",
          "state": {
            "_dom_classes": [],
            "_model_module": "@jupyter-widgets/controls",
            "_model_module_version": "1.5.0",
            "_model_name": "FloatProgressModel",
            "_view_count": null,
            "_view_module": "@jupyter-widgets/controls",
            "_view_module_version": "1.5.0",
            "_view_name": "ProgressView",
            "bar_style": "success",
            "description": "",
            "description_tooltip": null,
            "layout": "IPY_MODEL_aa56d16c5aae48289600f0a37fd8fee6",
            "max": 995526,
            "min": 0,
            "orientation": "horizontal",
            "style": "IPY_MODEL_931af5be91e04ce98f9b0cf05aae655a",
            "value": 995526
          }
        },
        "9947ea6d2a8446608c7d05edb52dc062": {
          "model_module": "@jupyter-widgets/controls",
          "model_name": "HTMLModel",
          "model_module_version": "1.5.0",
          "state": {
            "_dom_classes": [],
            "_model_module": "@jupyter-widgets/controls",
            "_model_module_version": "1.5.0",
            "_model_name": "HTMLModel",
            "_view_count": null,
            "_view_module": "@jupyter-widgets/controls",
            "_view_module_version": "1.5.0",
            "_view_name": "HTMLView",
            "description": "",
            "description_tooltip": null,
            "layout": "IPY_MODEL_e19bae40d1c94338a96fcf6ac5f1a43b",
            "placeholder": "​",
            "style": "IPY_MODEL_8ceae403998d46e899f713efcfb21783",
            "value": " 996k/996k [00:01&lt;00:00, 977kB/s]"
          }
        },
        "2dd40eec18d945c5acc9da14540fada5": {
          "model_module": "@jupyter-widgets/base",
          "model_name": "LayoutModel",
          "model_module_version": "1.2.0",
          "state": {
            "_model_module": "@jupyter-widgets/base",
            "_model_module_version": "1.2.0",
            "_model_name": "LayoutModel",
            "_view_count": null,
            "_view_module": "@jupyter-widgets/base",
            "_view_module_version": "1.2.0",
            "_view_name": "LayoutView",
            "align_content": null,
            "align_items": null,
            "align_self": null,
            "border": null,
            "bottom": null,
            "display": null,
            "flex": null,
            "flex_flow": null,
            "grid_area": null,
            "grid_auto_columns": null,
            "grid_auto_flow": null,
            "grid_auto_rows": null,
            "grid_column": null,
            "grid_gap": null,
            "grid_row": null,
            "grid_template_areas": null,
            "grid_template_columns": null,
            "grid_template_rows": null,
            "height": null,
            "justify_content": null,
            "justify_items": null,
            "left": null,
            "margin": null,
            "max_height": null,
            "max_width": null,
            "min_height": null,
            "min_width": null,
            "object_fit": null,
            "object_position": null,
            "order": null,
            "overflow": null,
            "overflow_x": null,
            "overflow_y": null,
            "padding": null,
            "right": null,
            "top": null,
            "visibility": null,
            "width": null
          }
        },
        "22cf6a2fad5a4a16ab240b036c2b34e7": {
          "model_module": "@jupyter-widgets/base",
          "model_name": "LayoutModel",
          "model_module_version": "1.2.0",
          "state": {
            "_model_module": "@jupyter-widgets/base",
            "_model_module_version": "1.2.0",
            "_model_name": "LayoutModel",
            "_view_count": null,
            "_view_module": "@jupyter-widgets/base",
            "_view_module_version": "1.2.0",
            "_view_name": "LayoutView",
            "align_content": null,
            "align_items": null,
            "align_self": null,
            "border": null,
            "bottom": null,
            "display": null,
            "flex": null,
            "flex_flow": null,
            "grid_area": null,
            "grid_auto_columns": null,
            "grid_auto_flow": null,
            "grid_auto_rows": null,
            "grid_column": null,
            "grid_gap": null,
            "grid_row": null,
            "grid_template_areas": null,
            "grid_template_columns": null,
            "grid_template_rows": null,
            "height": null,
            "justify_content": null,
            "justify_items": null,
            "left": null,
            "margin": null,
            "max_height": null,
            "max_width": null,
            "min_height": null,
            "min_width": null,
            "object_fit": null,
            "object_position": null,
            "order": null,
            "overflow": null,
            "overflow_x": null,
            "overflow_y": null,
            "padding": null,
            "right": null,
            "top": null,
            "visibility": null,
            "width": null
          }
        },
        "e2e5ae4b236e48178ee5d4f603d57b78": {
          "model_module": "@jupyter-widgets/controls",
          "model_name": "DescriptionStyleModel",
          "model_module_version": "1.5.0",
          "state": {
            "_model_module": "@jupyter-widgets/controls",
            "_model_module_version": "1.5.0",
            "_model_name": "DescriptionStyleModel",
            "_view_count": null,
            "_view_module": "@jupyter-widgets/base",
            "_view_module_version": "1.2.0",
            "_view_name": "StyleView",
            "description_width": ""
          }
        },
        "aa56d16c5aae48289600f0a37fd8fee6": {
          "model_module": "@jupyter-widgets/base",
          "model_name": "LayoutModel",
          "model_module_version": "1.2.0",
          "state": {
            "_model_module": "@jupyter-widgets/base",
            "_model_module_version": "1.2.0",
            "_model_name": "LayoutModel",
            "_view_count": null,
            "_view_module": "@jupyter-widgets/base",
            "_view_module_version": "1.2.0",
            "_view_name": "LayoutView",
            "align_content": null,
            "align_items": null,
            "align_self": null,
            "border": null,
            "bottom": null,
            "display": null,
            "flex": null,
            "flex_flow": null,
            "grid_area": null,
            "grid_auto_columns": null,
            "grid_auto_flow": null,
            "grid_auto_rows": null,
            "grid_column": null,
            "grid_gap": null,
            "grid_row": null,
            "grid_template_areas": null,
            "grid_template_columns": null,
            "grid_template_rows": null,
            "height": null,
            "justify_content": null,
            "justify_items": null,
            "left": null,
            "margin": null,
            "max_height": null,
            "max_width": null,
            "min_height": null,
            "min_width": null,
            "object_fit": null,
            "object_position": null,
            "order": null,
            "overflow": null,
            "overflow_x": null,
            "overflow_y": null,
            "padding": null,
            "right": null,
            "top": null,
            "visibility": null,
            "width": null
          }
        },
        "931af5be91e04ce98f9b0cf05aae655a": {
          "model_module": "@jupyter-widgets/controls",
          "model_name": "ProgressStyleModel",
          "model_module_version": "1.5.0",
          "state": {
            "_model_module": "@jupyter-widgets/controls",
            "_model_module_version": "1.5.0",
            "_model_name": "ProgressStyleModel",
            "_view_count": null,
            "_view_module": "@jupyter-widgets/base",
            "_view_module_version": "1.2.0",
            "_view_name": "StyleView",
            "bar_color": null,
            "description_width": ""
          }
        },
        "e19bae40d1c94338a96fcf6ac5f1a43b": {
          "model_module": "@jupyter-widgets/base",
          "model_name": "LayoutModel",
          "model_module_version": "1.2.0",
          "state": {
            "_model_module": "@jupyter-widgets/base",
            "_model_module_version": "1.2.0",
            "_model_name": "LayoutModel",
            "_view_count": null,
            "_view_module": "@jupyter-widgets/base",
            "_view_module_version": "1.2.0",
            "_view_name": "LayoutView",
            "align_content": null,
            "align_items": null,
            "align_self": null,
            "border": null,
            "bottom": null,
            "display": null,
            "flex": null,
            "flex_flow": null,
            "grid_area": null,
            "grid_auto_columns": null,
            "grid_auto_flow": null,
            "grid_auto_rows": null,
            "grid_column": null,
            "grid_gap": null,
            "grid_row": null,
            "grid_template_areas": null,
            "grid_template_columns": null,
            "grid_template_rows": null,
            "height": null,
            "justify_content": null,
            "justify_items": null,
            "left": null,
            "margin": null,
            "max_height": null,
            "max_width": null,
            "min_height": null,
            "min_width": null,
            "object_fit": null,
            "object_position": null,
            "order": null,
            "overflow": null,
            "overflow_x": null,
            "overflow_y": null,
            "padding": null,
            "right": null,
            "top": null,
            "visibility": null,
            "width": null
          }
        },
        "8ceae403998d46e899f713efcfb21783": {
          "model_module": "@jupyter-widgets/controls",
          "model_name": "DescriptionStyleModel",
          "model_module_version": "1.5.0",
          "state": {
            "_model_module": "@jupyter-widgets/controls",
            "_model_module_version": "1.5.0",
            "_model_name": "DescriptionStyleModel",
            "_view_count": null,
            "_view_module": "@jupyter-widgets/base",
            "_view_module_version": "1.2.0",
            "_view_name": "StyleView",
            "description_width": ""
          }
        },
        "c0b959a5676c43e296a8b72ee4cdcb52": {
          "model_module": "@jupyter-widgets/controls",
          "model_name": "HBoxModel",
          "model_module_version": "1.5.0",
          "state": {
            "_dom_classes": [],
            "_model_module": "@jupyter-widgets/controls",
            "_model_module_version": "1.5.0",
            "_model_name": "HBoxModel",
            "_view_count": null,
            "_view_module": "@jupyter-widgets/controls",
            "_view_module_version": "1.5.0",
            "_view_name": "HBoxView",
            "box_style": "",
            "children": [
              "IPY_MODEL_57de998f812543769a8f5e44dfae5cba",
              "IPY_MODEL_ca4870935c76471493179e52e0e74085",
              "IPY_MODEL_ba0b131febaf4830832e66378a8715b9"
            ],
            "layout": "IPY_MODEL_94c5087e9f614b35a7cfeb511682054a"
          }
        },
        "57de998f812543769a8f5e44dfae5cba": {
          "model_module": "@jupyter-widgets/controls",
          "model_name": "HTMLModel",
          "model_module_version": "1.5.0",
          "state": {
            "_dom_classes": [],
            "_model_module": "@jupyter-widgets/controls",
            "_model_module_version": "1.5.0",
            "_model_name": "HTMLModel",
            "_view_count": null,
            "_view_module": "@jupyter-widgets/controls",
            "_view_module_version": "1.5.0",
            "_view_name": "HTMLView",
            "description": "",
            "description_tooltip": null,
            "layout": "IPY_MODEL_2e6398a0cdef4f779156a8eb2730dc12",
            "placeholder": "​",
            "style": "IPY_MODEL_389e72686d4f4d1583f4ab4c866e57df",
            "value": "tokenizer.json: 100%"
          }
        },
        "ca4870935c76471493179e52e0e74085": {
          "model_module": "@jupyter-widgets/controls",
          "model_name": "FloatProgressModel",
          "model_module_version": "1.5.0",
          "state": {
            "_dom_classes": [],
            "_model_module": "@jupyter-widgets/controls",
            "_model_module_version": "1.5.0",
            "_model_name": "FloatProgressModel",
            "_view_count": null,
            "_view_module": "@jupyter-widgets/controls",
            "_view_module_version": "1.5.0",
            "_view_name": "ProgressView",
            "bar_style": "success",
            "description": "",
            "description_tooltip": null,
            "layout": "IPY_MODEL_f5df0277354c4a109bd04cd5f1c7732d",
            "max": 1961828,
            "min": 0,
            "orientation": "horizontal",
            "style": "IPY_MODEL_389a1f1099b94945befc970dbd9a8c23",
            "value": 1961828
          }
        },
        "ba0b131febaf4830832e66378a8715b9": {
          "model_module": "@jupyter-widgets/controls",
          "model_name": "HTMLModel",
          "model_module_version": "1.5.0",
          "state": {
            "_dom_classes": [],
            "_model_module": "@jupyter-widgets/controls",
            "_model_module_version": "1.5.0",
            "_model_name": "HTMLModel",
            "_view_count": null,
            "_view_module": "@jupyter-widgets/controls",
            "_view_module_version": "1.5.0",
            "_view_name": "HTMLView",
            "description": "",
            "description_tooltip": null,
            "layout": "IPY_MODEL_80f606c31829473e8748f7c19960ade6",
            "placeholder": "​",
            "style": "IPY_MODEL_bc2811d448fb416d9e7b621e6ca05215",
            "value": " 1.96M/1.96M [00:01&lt;00:00, 1.75MB/s]"
          }
        },
        "94c5087e9f614b35a7cfeb511682054a": {
          "model_module": "@jupyter-widgets/base",
          "model_name": "LayoutModel",
          "model_module_version": "1.2.0",
          "state": {
            "_model_module": "@jupyter-widgets/base",
            "_model_module_version": "1.2.0",
            "_model_name": "LayoutModel",
            "_view_count": null,
            "_view_module": "@jupyter-widgets/base",
            "_view_module_version": "1.2.0",
            "_view_name": "LayoutView",
            "align_content": null,
            "align_items": null,
            "align_self": null,
            "border": null,
            "bottom": null,
            "display": null,
            "flex": null,
            "flex_flow": null,
            "grid_area": null,
            "grid_auto_columns": null,
            "grid_auto_flow": null,
            "grid_auto_rows": null,
            "grid_column": null,
            "grid_gap": null,
            "grid_row": null,
            "grid_template_areas": null,
            "grid_template_columns": null,
            "grid_template_rows": null,
            "height": null,
            "justify_content": null,
            "justify_items": null,
            "left": null,
            "margin": null,
            "max_height": null,
            "max_width": null,
            "min_height": null,
            "min_width": null,
            "object_fit": null,
            "object_position": null,
            "order": null,
            "overflow": null,
            "overflow_x": null,
            "overflow_y": null,
            "padding": null,
            "right": null,
            "top": null,
            "visibility": null,
            "width": null
          }
        },
        "2e6398a0cdef4f779156a8eb2730dc12": {
          "model_module": "@jupyter-widgets/base",
          "model_name": "LayoutModel",
          "model_module_version": "1.2.0",
          "state": {
            "_model_module": "@jupyter-widgets/base",
            "_model_module_version": "1.2.0",
            "_model_name": "LayoutModel",
            "_view_count": null,
            "_view_module": "@jupyter-widgets/base",
            "_view_module_version": "1.2.0",
            "_view_name": "LayoutView",
            "align_content": null,
            "align_items": null,
            "align_self": null,
            "border": null,
            "bottom": null,
            "display": null,
            "flex": null,
            "flex_flow": null,
            "grid_area": null,
            "grid_auto_columns": null,
            "grid_auto_flow": null,
            "grid_auto_rows": null,
            "grid_column": null,
            "grid_gap": null,
            "grid_row": null,
            "grid_template_areas": null,
            "grid_template_columns": null,
            "grid_template_rows": null,
            "height": null,
            "justify_content": null,
            "justify_items": null,
            "left": null,
            "margin": null,
            "max_height": null,
            "max_width": null,
            "min_height": null,
            "min_width": null,
            "object_fit": null,
            "object_position": null,
            "order": null,
            "overflow": null,
            "overflow_x": null,
            "overflow_y": null,
            "padding": null,
            "right": null,
            "top": null,
            "visibility": null,
            "width": null
          }
        },
        "389e72686d4f4d1583f4ab4c866e57df": {
          "model_module": "@jupyter-widgets/controls",
          "model_name": "DescriptionStyleModel",
          "model_module_version": "1.5.0",
          "state": {
            "_model_module": "@jupyter-widgets/controls",
            "_model_module_version": "1.5.0",
            "_model_name": "DescriptionStyleModel",
            "_view_count": null,
            "_view_module": "@jupyter-widgets/base",
            "_view_module_version": "1.2.0",
            "_view_name": "StyleView",
            "description_width": ""
          }
        },
        "f5df0277354c4a109bd04cd5f1c7732d": {
          "model_module": "@jupyter-widgets/base",
          "model_name": "LayoutModel",
          "model_module_version": "1.2.0",
          "state": {
            "_model_module": "@jupyter-widgets/base",
            "_model_module_version": "1.2.0",
            "_model_name": "LayoutModel",
            "_view_count": null,
            "_view_module": "@jupyter-widgets/base",
            "_view_module_version": "1.2.0",
            "_view_name": "LayoutView",
            "align_content": null,
            "align_items": null,
            "align_self": null,
            "border": null,
            "bottom": null,
            "display": null,
            "flex": null,
            "flex_flow": null,
            "grid_area": null,
            "grid_auto_columns": null,
            "grid_auto_flow": null,
            "grid_auto_rows": null,
            "grid_column": null,
            "grid_gap": null,
            "grid_row": null,
            "grid_template_areas": null,
            "grid_template_columns": null,
            "grid_template_rows": null,
            "height": null,
            "justify_content": null,
            "justify_items": null,
            "left": null,
            "margin": null,
            "max_height": null,
            "max_width": null,
            "min_height": null,
            "min_width": null,
            "object_fit": null,
            "object_position": null,
            "order": null,
            "overflow": null,
            "overflow_x": null,
            "overflow_y": null,
            "padding": null,
            "right": null,
            "top": null,
            "visibility": null,
            "width": null
          }
        },
        "389a1f1099b94945befc970dbd9a8c23": {
          "model_module": "@jupyter-widgets/controls",
          "model_name": "ProgressStyleModel",
          "model_module_version": "1.5.0",
          "state": {
            "_model_module": "@jupyter-widgets/controls",
            "_model_module_version": "1.5.0",
            "_model_name": "ProgressStyleModel",
            "_view_count": null,
            "_view_module": "@jupyter-widgets/base",
            "_view_module_version": "1.2.0",
            "_view_name": "StyleView",
            "bar_color": null,
            "description_width": ""
          }
        },
        "80f606c31829473e8748f7c19960ade6": {
          "model_module": "@jupyter-widgets/base",
          "model_name": "LayoutModel",
          "model_module_version": "1.2.0",
          "state": {
            "_model_module": "@jupyter-widgets/base",
            "_model_module_version": "1.2.0",
            "_model_name": "LayoutModel",
            "_view_count": null,
            "_view_module": "@jupyter-widgets/base",
            "_view_module_version": "1.2.0",
            "_view_name": "LayoutView",
            "align_content": null,
            "align_items": null,
            "align_self": null,
            "border": null,
            "bottom": null,
            "display": null,
            "flex": null,
            "flex_flow": null,
            "grid_area": null,
            "grid_auto_columns": null,
            "grid_auto_flow": null,
            "grid_auto_rows": null,
            "grid_column": null,
            "grid_gap": null,
            "grid_row": null,
            "grid_template_areas": null,
            "grid_template_columns": null,
            "grid_template_rows": null,
            "height": null,
            "justify_content": null,
            "justify_items": null,
            "left": null,
            "margin": null,
            "max_height": null,
            "max_width": null,
            "min_height": null,
            "min_width": null,
            "object_fit": null,
            "object_position": null,
            "order": null,
            "overflow": null,
            "overflow_x": null,
            "overflow_y": null,
            "padding": null,
            "right": null,
            "top": null,
            "visibility": null,
            "width": null
          }
        },
        "bc2811d448fb416d9e7b621e6ca05215": {
          "model_module": "@jupyter-widgets/controls",
          "model_name": "DescriptionStyleModel",
          "model_module_version": "1.5.0",
          "state": {
            "_model_module": "@jupyter-widgets/controls",
            "_model_module_version": "1.5.0",
            "_model_name": "DescriptionStyleModel",
            "_view_count": null,
            "_view_module": "@jupyter-widgets/base",
            "_view_module_version": "1.2.0",
            "_view_name": "StyleView",
            "description_width": ""
          }
        },
        "84825f2ee0fd49e8a41bfecb114b717c": {
          "model_module": "@jupyter-widgets/controls",
          "model_name": "HBoxModel",
          "model_module_version": "1.5.0",
          "state": {
            "_dom_classes": [],
            "_model_module": "@jupyter-widgets/controls",
            "_model_module_version": "1.5.0",
            "_model_name": "HBoxModel",
            "_view_count": null,
            "_view_module": "@jupyter-widgets/controls",
            "_view_module_version": "1.5.0",
            "_view_name": "HBoxView",
            "box_style": "",
            "children": [
              "IPY_MODEL_691da2b2696b48ff8da612581570763e",
              "IPY_MODEL_aa20f515e9f1466bb8a88d5372defb97",
              "IPY_MODEL_b247dea0be6d4a6b89215428a7d29bb7"
            ],
            "layout": "IPY_MODEL_7f321d71685d4f18b01f500983048da3"
          }
        },
        "691da2b2696b48ff8da612581570763e": {
          "model_module": "@jupyter-widgets/controls",
          "model_name": "HTMLModel",
          "model_module_version": "1.5.0",
          "state": {
            "_dom_classes": [],
            "_model_module": "@jupyter-widgets/controls",
            "_model_module_version": "1.5.0",
            "_model_name": "HTMLModel",
            "_view_count": null,
            "_view_module": "@jupyter-widgets/controls",
            "_view_module_version": "1.5.0",
            "_view_name": "HTMLView",
            "description": "",
            "description_tooltip": null,
            "layout": "IPY_MODEL_17a5418149cc4e2fb479c3ead66a398d",
            "placeholder": "​",
            "style": "IPY_MODEL_044b8d41f2054ecd9b757b3876533c4b",
            "value": "config.json: 100%"
          }
        },
        "aa20f515e9f1466bb8a88d5372defb97": {
          "model_module": "@jupyter-widgets/controls",
          "model_name": "FloatProgressModel",
          "model_module_version": "1.5.0",
          "state": {
            "_dom_classes": [],
            "_model_module": "@jupyter-widgets/controls",
            "_model_module_version": "1.5.0",
            "_model_name": "FloatProgressModel",
            "_view_count": null,
            "_view_module": "@jupyter-widgets/controls",
            "_view_module_version": "1.5.0",
            "_view_name": "ProgressView",
            "bar_style": "success",
            "description": "",
            "description_tooltip": null,
            "layout": "IPY_MODEL_8ec5ae9088fb417a89a418ac83343219",
            "max": 466,
            "min": 0,
            "orientation": "horizontal",
            "style": "IPY_MODEL_49bd0a5208a1408999f0702a26dae12b",
            "value": 466
          }
        },
        "b247dea0be6d4a6b89215428a7d29bb7": {
          "model_module": "@jupyter-widgets/controls",
          "model_name": "HTMLModel",
          "model_module_version": "1.5.0",
          "state": {
            "_dom_classes": [],
            "_model_module": "@jupyter-widgets/controls",
            "_model_module_version": "1.5.0",
            "_model_name": "HTMLModel",
            "_view_count": null,
            "_view_module": "@jupyter-widgets/controls",
            "_view_module_version": "1.5.0",
            "_view_name": "HTMLView",
            "description": "",
            "description_tooltip": null,
            "layout": "IPY_MODEL_55de84fef5bb4f629a246e2a7b5ea150",
            "placeholder": "​",
            "style": "IPY_MODEL_848e3f5e5558487f80bbdfd0cce7fe8c",
            "value": " 466/466 [00:00&lt;00:00, 18.8kB/s]"
          }
        },
        "7f321d71685d4f18b01f500983048da3": {
          "model_module": "@jupyter-widgets/base",
          "model_name": "LayoutModel",
          "model_module_version": "1.2.0",
          "state": {
            "_model_module": "@jupyter-widgets/base",
            "_model_module_version": "1.2.0",
            "_model_name": "LayoutModel",
            "_view_count": null,
            "_view_module": "@jupyter-widgets/base",
            "_view_module_version": "1.2.0",
            "_view_name": "LayoutView",
            "align_content": null,
            "align_items": null,
            "align_self": null,
            "border": null,
            "bottom": null,
            "display": null,
            "flex": null,
            "flex_flow": null,
            "grid_area": null,
            "grid_auto_columns": null,
            "grid_auto_flow": null,
            "grid_auto_rows": null,
            "grid_column": null,
            "grid_gap": null,
            "grid_row": null,
            "grid_template_areas": null,
            "grid_template_columns": null,
            "grid_template_rows": null,
            "height": null,
            "justify_content": null,
            "justify_items": null,
            "left": null,
            "margin": null,
            "max_height": null,
            "max_width": null,
            "min_height": null,
            "min_width": null,
            "object_fit": null,
            "object_position": null,
            "order": null,
            "overflow": null,
            "overflow_x": null,
            "overflow_y": null,
            "padding": null,
            "right": null,
            "top": null,
            "visibility": null,
            "width": null
          }
        },
        "17a5418149cc4e2fb479c3ead66a398d": {
          "model_module": "@jupyter-widgets/base",
          "model_name": "LayoutModel",
          "model_module_version": "1.2.0",
          "state": {
            "_model_module": "@jupyter-widgets/base",
            "_model_module_version": "1.2.0",
            "_model_name": "LayoutModel",
            "_view_count": null,
            "_view_module": "@jupyter-widgets/base",
            "_view_module_version": "1.2.0",
            "_view_name": "LayoutView",
            "align_content": null,
            "align_items": null,
            "align_self": null,
            "border": null,
            "bottom": null,
            "display": null,
            "flex": null,
            "flex_flow": null,
            "grid_area": null,
            "grid_auto_columns": null,
            "grid_auto_flow": null,
            "grid_auto_rows": null,
            "grid_column": null,
            "grid_gap": null,
            "grid_row": null,
            "grid_template_areas": null,
            "grid_template_columns": null,
            "grid_template_rows": null,
            "height": null,
            "justify_content": null,
            "justify_items": null,
            "left": null,
            "margin": null,
            "max_height": null,
            "max_width": null,
            "min_height": null,
            "min_width": null,
            "object_fit": null,
            "object_position": null,
            "order": null,
            "overflow": null,
            "overflow_x": null,
            "overflow_y": null,
            "padding": null,
            "right": null,
            "top": null,
            "visibility": null,
            "width": null
          }
        },
        "044b8d41f2054ecd9b757b3876533c4b": {
          "model_module": "@jupyter-widgets/controls",
          "model_name": "DescriptionStyleModel",
          "model_module_version": "1.5.0",
          "state": {
            "_model_module": "@jupyter-widgets/controls",
            "_model_module_version": "1.5.0",
            "_model_name": "DescriptionStyleModel",
            "_view_count": null,
            "_view_module": "@jupyter-widgets/base",
            "_view_module_version": "1.2.0",
            "_view_name": "StyleView",
            "description_width": ""
          }
        },
        "8ec5ae9088fb417a89a418ac83343219": {
          "model_module": "@jupyter-widgets/base",
          "model_name": "LayoutModel",
          "model_module_version": "1.2.0",
          "state": {
            "_model_module": "@jupyter-widgets/base",
            "_model_module_version": "1.2.0",
            "_model_name": "LayoutModel",
            "_view_count": null,
            "_view_module": "@jupyter-widgets/base",
            "_view_module_version": "1.2.0",
            "_view_name": "LayoutView",
            "align_content": null,
            "align_items": null,
            "align_self": null,
            "border": null,
            "bottom": null,
            "display": null,
            "flex": null,
            "flex_flow": null,
            "grid_area": null,
            "grid_auto_columns": null,
            "grid_auto_flow": null,
            "grid_auto_rows": null,
            "grid_column": null,
            "grid_gap": null,
            "grid_row": null,
            "grid_template_areas": null,
            "grid_template_columns": null,
            "grid_template_rows": null,
            "height": null,
            "justify_content": null,
            "justify_items": null,
            "left": null,
            "margin": null,
            "max_height": null,
            "max_width": null,
            "min_height": null,
            "min_width": null,
            "object_fit": null,
            "object_position": null,
            "order": null,
            "overflow": null,
            "overflow_x": null,
            "overflow_y": null,
            "padding": null,
            "right": null,
            "top": null,
            "visibility": null,
            "width": null
          }
        },
        "49bd0a5208a1408999f0702a26dae12b": {
          "model_module": "@jupyter-widgets/controls",
          "model_name": "ProgressStyleModel",
          "model_module_version": "1.5.0",
          "state": {
            "_model_module": "@jupyter-widgets/controls",
            "_model_module_version": "1.5.0",
            "_model_name": "ProgressStyleModel",
            "_view_count": null,
            "_view_module": "@jupyter-widgets/base",
            "_view_module_version": "1.2.0",
            "_view_name": "StyleView",
            "bar_color": null,
            "description_width": ""
          }
        },
        "55de84fef5bb4f629a246e2a7b5ea150": {
          "model_module": "@jupyter-widgets/base",
          "model_name": "LayoutModel",
          "model_module_version": "1.2.0",
          "state": {
            "_model_module": "@jupyter-widgets/base",
            "_model_module_version": "1.2.0",
            "_model_name": "LayoutModel",
            "_view_count": null,
            "_view_module": "@jupyter-widgets/base",
            "_view_module_version": "1.2.0",
            "_view_name": "LayoutView",
            "align_content": null,
            "align_items": null,
            "align_self": null,
            "border": null,
            "bottom": null,
            "display": null,
            "flex": null,
            "flex_flow": null,
            "grid_area": null,
            "grid_auto_columns": null,
            "grid_auto_flow": null,
            "grid_auto_rows": null,
            "grid_column": null,
            "grid_gap": null,
            "grid_row": null,
            "grid_template_areas": null,
            "grid_template_columns": null,
            "grid_template_rows": null,
            "height": null,
            "justify_content": null,
            "justify_items": null,
            "left": null,
            "margin": null,
            "max_height": null,
            "max_width": null,
            "min_height": null,
            "min_width": null,
            "object_fit": null,
            "object_position": null,
            "order": null,
            "overflow": null,
            "overflow_x": null,
            "overflow_y": null,
            "padding": null,
            "right": null,
            "top": null,
            "visibility": null,
            "width": null
          }
        },
        "848e3f5e5558487f80bbdfd0cce7fe8c": {
          "model_module": "@jupyter-widgets/controls",
          "model_name": "DescriptionStyleModel",
          "model_module_version": "1.5.0",
          "state": {
            "_model_module": "@jupyter-widgets/controls",
            "_model_module_version": "1.5.0",
            "_model_name": "DescriptionStyleModel",
            "_view_count": null,
            "_view_module": "@jupyter-widgets/base",
            "_view_module_version": "1.2.0",
            "_view_name": "StyleView",
            "description_width": ""
          }
        },
        "2e417f87ea1044f595924092dbd937d1": {
          "model_module": "@jupyter-widgets/controls",
          "model_name": "HBoxModel",
          "model_module_version": "1.5.0",
          "state": {
            "_dom_classes": [],
            "_model_module": "@jupyter-widgets/controls",
            "_model_module_version": "1.5.0",
            "_model_name": "HBoxModel",
            "_view_count": null,
            "_view_module": "@jupyter-widgets/controls",
            "_view_module_version": "1.5.0",
            "_view_name": "HBoxView",
            "box_style": "",
            "children": [
              "IPY_MODEL_691daa8c42204178bedf542d69fead08",
              "IPY_MODEL_6581a55f0a284eaaade353c979419b09",
              "IPY_MODEL_20839c2578d14d98b7f8cb7407cdfa10"
            ],
            "layout": "IPY_MODEL_7891e7d6b6fc47d193e75e7b74c1b7e1"
          }
        },
        "691daa8c42204178bedf542d69fead08": {
          "model_module": "@jupyter-widgets/controls",
          "model_name": "HTMLModel",
          "model_module_version": "1.5.0",
          "state": {
            "_dom_classes": [],
            "_model_module": "@jupyter-widgets/controls",
            "_model_module_version": "1.5.0",
            "_model_name": "HTMLModel",
            "_view_count": null,
            "_view_module": "@jupyter-widgets/controls",
            "_view_module_version": "1.5.0",
            "_view_name": "HTMLView",
            "description": "",
            "description_tooltip": null,
            "layout": "IPY_MODEL_82cb00e56b3e448b92bc65dfad2752c3",
            "placeholder": "​",
            "style": "IPY_MODEL_9955c2105a94405da95fbd741c3a2cf3",
            "value": "model.safetensors: 100%"
          }
        },
        "6581a55f0a284eaaade353c979419b09": {
          "model_module": "@jupyter-widgets/controls",
          "model_name": "FloatProgressModel",
          "model_module_version": "1.5.0",
          "state": {
            "_dom_classes": [],
            "_model_module": "@jupyter-widgets/controls",
            "_model_module_version": "1.5.0",
            "_model_name": "FloatProgressModel",
            "_view_count": null,
            "_view_module": "@jupyter-widgets/controls",
            "_view_module_version": "1.5.0",
            "_view_name": "ProgressView",
            "bar_style": "success",
            "description": "",
            "description_tooltip": null,
            "layout": "IPY_MODEL_8349b88dd6764794bce9e81241d4d205",
            "max": 541795680,
            "min": 0,
            "orientation": "horizontal",
            "style": "IPY_MODEL_a9ded65f6de9477ea21e452cc1433532",
            "value": 541795680
          }
        },
        "20839c2578d14d98b7f8cb7407cdfa10": {
          "model_module": "@jupyter-widgets/controls",
          "model_name": "HTMLModel",
          "model_module_version": "1.5.0",
          "state": {
            "_dom_classes": [],
            "_model_module": "@jupyter-widgets/controls",
            "_model_module_version": "1.5.0",
            "_model_name": "HTMLModel",
            "_view_count": null,
            "_view_module": "@jupyter-widgets/controls",
            "_view_module_version": "1.5.0",
            "_view_name": "HTMLView",
            "description": "",
            "description_tooltip": null,
            "layout": "IPY_MODEL_9fd7d150c091465a964cb9864ec9f1bf",
            "placeholder": "​",
            "style": "IPY_MODEL_872bf637afa54bc5997e95799bc11dfc",
            "value": " 542M/542M [00:02&lt;00:00, 216MB/s]"
          }
        },
        "7891e7d6b6fc47d193e75e7b74c1b7e1": {
          "model_module": "@jupyter-widgets/base",
          "model_name": "LayoutModel",
          "model_module_version": "1.2.0",
          "state": {
            "_model_module": "@jupyter-widgets/base",
            "_model_module_version": "1.2.0",
            "_model_name": "LayoutModel",
            "_view_count": null,
            "_view_module": "@jupyter-widgets/base",
            "_view_module_version": "1.2.0",
            "_view_name": "LayoutView",
            "align_content": null,
            "align_items": null,
            "align_self": null,
            "border": null,
            "bottom": null,
            "display": null,
            "flex": null,
            "flex_flow": null,
            "grid_area": null,
            "grid_auto_columns": null,
            "grid_auto_flow": null,
            "grid_auto_rows": null,
            "grid_column": null,
            "grid_gap": null,
            "grid_row": null,
            "grid_template_areas": null,
            "grid_template_columns": null,
            "grid_template_rows": null,
            "height": null,
            "justify_content": null,
            "justify_items": null,
            "left": null,
            "margin": null,
            "max_height": null,
            "max_width": null,
            "min_height": null,
            "min_width": null,
            "object_fit": null,
            "object_position": null,
            "order": null,
            "overflow": null,
            "overflow_x": null,
            "overflow_y": null,
            "padding": null,
            "right": null,
            "top": null,
            "visibility": null,
            "width": null
          }
        },
        "82cb00e56b3e448b92bc65dfad2752c3": {
          "model_module": "@jupyter-widgets/base",
          "model_name": "LayoutModel",
          "model_module_version": "1.2.0",
          "state": {
            "_model_module": "@jupyter-widgets/base",
            "_model_module_version": "1.2.0",
            "_model_name": "LayoutModel",
            "_view_count": null,
            "_view_module": "@jupyter-widgets/base",
            "_view_module_version": "1.2.0",
            "_view_name": "LayoutView",
            "align_content": null,
            "align_items": null,
            "align_self": null,
            "border": null,
            "bottom": null,
            "display": null,
            "flex": null,
            "flex_flow": null,
            "grid_area": null,
            "grid_auto_columns": null,
            "grid_auto_flow": null,
            "grid_auto_rows": null,
            "grid_column": null,
            "grid_gap": null,
            "grid_row": null,
            "grid_template_areas": null,
            "grid_template_columns": null,
            "grid_template_rows": null,
            "height": null,
            "justify_content": null,
            "justify_items": null,
            "left": null,
            "margin": null,
            "max_height": null,
            "max_width": null,
            "min_height": null,
            "min_width": null,
            "object_fit": null,
            "object_position": null,
            "order": null,
            "overflow": null,
            "overflow_x": null,
            "overflow_y": null,
            "padding": null,
            "right": null,
            "top": null,
            "visibility": null,
            "width": null
          }
        },
        "9955c2105a94405da95fbd741c3a2cf3": {
          "model_module": "@jupyter-widgets/controls",
          "model_name": "DescriptionStyleModel",
          "model_module_version": "1.5.0",
          "state": {
            "_model_module": "@jupyter-widgets/controls",
            "_model_module_version": "1.5.0",
            "_model_name": "DescriptionStyleModel",
            "_view_count": null,
            "_view_module": "@jupyter-widgets/base",
            "_view_module_version": "1.2.0",
            "_view_name": "StyleView",
            "description_width": ""
          }
        },
        "8349b88dd6764794bce9e81241d4d205": {
          "model_module": "@jupyter-widgets/base",
          "model_name": "LayoutModel",
          "model_module_version": "1.2.0",
          "state": {
            "_model_module": "@jupyter-widgets/base",
            "_model_module_version": "1.2.0",
            "_model_name": "LayoutModel",
            "_view_count": null,
            "_view_module": "@jupyter-widgets/base",
            "_view_module_version": "1.2.0",
            "_view_name": "LayoutView",
            "align_content": null,
            "align_items": null,
            "align_self": null,
            "border": null,
            "bottom": null,
            "display": null,
            "flex": null,
            "flex_flow": null,
            "grid_area": null,
            "grid_auto_columns": null,
            "grid_auto_flow": null,
            "grid_auto_rows": null,
            "grid_column": null,
            "grid_gap": null,
            "grid_row": null,
            "grid_template_areas": null,
            "grid_template_columns": null,
            "grid_template_rows": null,
            "height": null,
            "justify_content": null,
            "justify_items": null,
            "left": null,
            "margin": null,
            "max_height": null,
            "max_width": null,
            "min_height": null,
            "min_width": null,
            "object_fit": null,
            "object_position": null,
            "order": null,
            "overflow": null,
            "overflow_x": null,
            "overflow_y": null,
            "padding": null,
            "right": null,
            "top": null,
            "visibility": null,
            "width": null
          }
        },
        "a9ded65f6de9477ea21e452cc1433532": {
          "model_module": "@jupyter-widgets/controls",
          "model_name": "ProgressStyleModel",
          "model_module_version": "1.5.0",
          "state": {
            "_model_module": "@jupyter-widgets/controls",
            "_model_module_version": "1.5.0",
            "_model_name": "ProgressStyleModel",
            "_view_count": null,
            "_view_module": "@jupyter-widgets/base",
            "_view_module_version": "1.2.0",
            "_view_name": "StyleView",
            "bar_color": null,
            "description_width": ""
          }
        },
        "9fd7d150c091465a964cb9864ec9f1bf": {
          "model_module": "@jupyter-widgets/base",
          "model_name": "LayoutModel",
          "model_module_version": "1.2.0",
          "state": {
            "_model_module": "@jupyter-widgets/base",
            "_model_module_version": "1.2.0",
            "_model_name": "LayoutModel",
            "_view_count": null,
            "_view_module": "@jupyter-widgets/base",
            "_view_module_version": "1.2.0",
            "_view_name": "LayoutView",
            "align_content": null,
            "align_items": null,
            "align_self": null,
            "border": null,
            "bottom": null,
            "display": null,
            "flex": null,
            "flex_flow": null,
            "grid_area": null,
            "grid_auto_columns": null,
            "grid_auto_flow": null,
            "grid_auto_rows": null,
            "grid_column": null,
            "grid_gap": null,
            "grid_row": null,
            "grid_template_areas": null,
            "grid_template_columns": null,
            "grid_template_rows": null,
            "height": null,
            "justify_content": null,
            "justify_items": null,
            "left": null,
            "margin": null,
            "max_height": null,
            "max_width": null,
            "min_height": null,
            "min_width": null,
            "object_fit": null,
            "object_position": null,
            "order": null,
            "overflow": null,
            "overflow_x": null,
            "overflow_y": null,
            "padding": null,
            "right": null,
            "top": null,
            "visibility": null,
            "width": null
          }
        },
        "872bf637afa54bc5997e95799bc11dfc": {
          "model_module": "@jupyter-widgets/controls",
          "model_name": "DescriptionStyleModel",
          "model_module_version": "1.5.0",
          "state": {
            "_model_module": "@jupyter-widgets/controls",
            "_model_module_version": "1.5.0",
            "_model_name": "DescriptionStyleModel",
            "_view_count": null,
            "_view_module": "@jupyter-widgets/base",
            "_view_module_version": "1.2.0",
            "_view_name": "StyleView",
            "description_width": ""
          }
        }
      }
    }
  },
  "cells": [
    {
      "cell_type": "markdown",
      "metadata": {
        "id": "view-in-github",
        "colab_type": "text"
      },
      "source": [
        "<a href=\"https://colab.research.google.com/github/ninawang4/mbit-classifier/blob/main/Embeddings_XGBoost_seq2seq.ipynb\" target=\"_parent\"><img src=\"https://colab.research.google.com/assets/colab-badge.svg\" alt=\"Open In Colab\"/></a>"
      ]
    },
    {
      "cell_type": "code",
      "source": [
        "from google.colab import drive\n",
        "drive.mount('/content/drive')"
      ],
      "metadata": {
        "colab": {
          "base_uri": "https://localhost:8080/"
        },
        "id": "VdXWuQq4aDEO",
        "outputId": "94cad900-b4a2-4984-e505-2509b7dd17b7"
      },
      "execution_count": null,
      "outputs": [
        {
          "output_type": "stream",
          "name": "stdout",
          "text": [
            "Mounted at /content/drive\n"
          ]
        }
      ]
    },
    {
      "cell_type": "code",
      "source": [
        "import csv\n",
        "import pandas as pd\n",
        "\n",
        "with open('/content/drive/MyDrive/NLP_project/Data/no_hashtags_mentions.csv', 'r', encoding='utf-8') as f:\n",
        "    df = pd.DataFrame(csv.reader(f))\n",
        "    df.columns = df.iloc[0]\n",
        "    df = df[1:].reset_index(drop=True)\n",
        "    print(df.head())"
      ],
      "metadata": {
        "colab": {
          "base_uri": "https://localhost:8080/"
        },
        "id": "ORhZ4ud-aEIM",
        "outputId": "032377a0-6c74-46fe-dd8f-c0686090fa87"
      },
      "execution_count": null,
      "outputs": [
        {
          "output_type": "stream",
          "name": "stdout",
          "text": [
            "0                                            caption    username  mbti  \\\n",
            "0  '번지점프를 하다' 작품으로 뮤지컬 데뷔할 수 있게 되어서 정말 영광이었습니다🥹 배...  suye.on2di  ISTJ   \n",
            "1  꽃과 달⠀⠀⠀⠀⠀⠀⠀⠀⠀⠀⠀⠀⠀⠀⠀⠀⠀⠀⠀⠀⠀⠀⠀⠀⠀⠀⠀⠀⠀⠀⠀⠀⠀⠀⠀⠀⠀⠀⠀⠀⠀⠀...  suye.on2di  ISTJ   \n",
            "2  One day 가이드! 너무 행복한 작업이었다고 한다..🎇 작가님들 고생많으셨습니다...  suye.on2di  ISTJ   \n",
            "3  안녕하세요 위키미키 지수연입니다. 멤버 유정이의 지목으로 의미 있는 챌린지에 함께 ...  suye.on2di  ISTJ   \n",
            "4  2021년 소중한 사람들과 함께해서 증말 행복했어요☺️🥰 내년에도 잘 부탁해요🙌 모...  _haerimida  ESTP   \n",
            "\n",
            "0      group    name caption_lengths extraversion sensing thinking judging  \n",
            "0  Weki Meki  Suyeon             141            0       1        1       1  \n",
            "1  Weki Meki  Suyeon              65            0       1        1       1  \n",
            "2  Weki Meki  Suyeon              58            0       1        1       1  \n",
            "3  Weki Meki  Suyeon             285            0       1        1       1  \n",
            "4  Weki Meki    Elly              80            1       1        1       0  \n"
          ]
        }
      ]
    },
    {
      "cell_type": "code",
      "source": [
        "df.head()"
      ],
      "metadata": {
        "colab": {
          "base_uri": "https://localhost:8080/",
          "height": 206
        },
        "id": "-2ggKt7todnB",
        "outputId": "11d42af0-c429-4b79-c946-2a1b3560147c"
      },
      "execution_count": null,
      "outputs": [
        {
          "output_type": "execute_result",
          "data": {
            "text/plain": [
              "0                                            caption    username  mbti  \\\n",
              "0  '번지점프를 하다' 작품으로 뮤지컬 데뷔할 수 있게 되어서 정말 영광이었습니다🥹 배...  suye.on2di  ISTJ   \n",
              "1  꽃과 달⠀⠀⠀⠀⠀⠀⠀⠀⠀⠀⠀⠀⠀⠀⠀⠀⠀⠀⠀⠀⠀⠀⠀⠀⠀⠀⠀⠀⠀⠀⠀⠀⠀⠀⠀⠀⠀⠀⠀⠀⠀⠀...  suye.on2di  ISTJ   \n",
              "2  One day 가이드! 너무 행복한 작업이었다고 한다..🎇 작가님들 고생많으셨습니다...  suye.on2di  ISTJ   \n",
              "3  안녕하세요 위키미키 지수연입니다. 멤버 유정이의 지목으로 의미 있는 챌린지에 함께 ...  suye.on2di  ISTJ   \n",
              "4  2021년 소중한 사람들과 함께해서 증말 행복했어요☺️🥰 내년에도 잘 부탁해요🙌 모...  _haerimida  ESTP   \n",
              "\n",
              "0      group    name caption_lengths extraversion sensing thinking judging  \n",
              "0  Weki Meki  Suyeon             141            0       1        1       1  \n",
              "1  Weki Meki  Suyeon              65            0       1        1       1  \n",
              "2  Weki Meki  Suyeon              58            0       1        1       1  \n",
              "3  Weki Meki  Suyeon             285            0       1        1       1  \n",
              "4  Weki Meki    Elly              80            1       1        1       0  "
            ],
            "text/html": [
              "\n",
              "  <div id=\"df-dce38399-ec00-496c-9dce-1c2e0d6db970\" class=\"colab-df-container\">\n",
              "    <div>\n",
              "<style scoped>\n",
              "    .dataframe tbody tr th:only-of-type {\n",
              "        vertical-align: middle;\n",
              "    }\n",
              "\n",
              "    .dataframe tbody tr th {\n",
              "        vertical-align: top;\n",
              "    }\n",
              "\n",
              "    .dataframe thead th {\n",
              "        text-align: right;\n",
              "    }\n",
              "</style>\n",
              "<table border=\"1\" class=\"dataframe\">\n",
              "  <thead>\n",
              "    <tr style=\"text-align: right;\">\n",
              "      <th></th>\n",
              "      <th>caption</th>\n",
              "      <th>username</th>\n",
              "      <th>mbti</th>\n",
              "      <th>group</th>\n",
              "      <th>name</th>\n",
              "      <th>caption_lengths</th>\n",
              "      <th>extraversion</th>\n",
              "      <th>sensing</th>\n",
              "      <th>thinking</th>\n",
              "      <th>judging</th>\n",
              "    </tr>\n",
              "  </thead>\n",
              "  <tbody>\n",
              "    <tr>\n",
              "      <th>0</th>\n",
              "      <td>'번지점프를 하다' 작품으로 뮤지컬 데뷔할 수 있게 되어서 정말 영광이었습니다🥹 배...</td>\n",
              "      <td>suye.on2di</td>\n",
              "      <td>ISTJ</td>\n",
              "      <td>Weki Meki</td>\n",
              "      <td>Suyeon</td>\n",
              "      <td>141</td>\n",
              "      <td>0</td>\n",
              "      <td>1</td>\n",
              "      <td>1</td>\n",
              "      <td>1</td>\n",
              "    </tr>\n",
              "    <tr>\n",
              "      <th>1</th>\n",
              "      <td>꽃과 달⠀⠀⠀⠀⠀⠀⠀⠀⠀⠀⠀⠀⠀⠀⠀⠀⠀⠀⠀⠀⠀⠀⠀⠀⠀⠀⠀⠀⠀⠀⠀⠀⠀⠀⠀⠀⠀⠀⠀⠀⠀⠀...</td>\n",
              "      <td>suye.on2di</td>\n",
              "      <td>ISTJ</td>\n",
              "      <td>Weki Meki</td>\n",
              "      <td>Suyeon</td>\n",
              "      <td>65</td>\n",
              "      <td>0</td>\n",
              "      <td>1</td>\n",
              "      <td>1</td>\n",
              "      <td>1</td>\n",
              "    </tr>\n",
              "    <tr>\n",
              "      <th>2</th>\n",
              "      <td>One day 가이드! 너무 행복한 작업이었다고 한다..🎇 작가님들 고생많으셨습니다...</td>\n",
              "      <td>suye.on2di</td>\n",
              "      <td>ISTJ</td>\n",
              "      <td>Weki Meki</td>\n",
              "      <td>Suyeon</td>\n",
              "      <td>58</td>\n",
              "      <td>0</td>\n",
              "      <td>1</td>\n",
              "      <td>1</td>\n",
              "      <td>1</td>\n",
              "    </tr>\n",
              "    <tr>\n",
              "      <th>3</th>\n",
              "      <td>안녕하세요 위키미키 지수연입니다. 멤버 유정이의 지목으로 의미 있는 챌린지에 함께 ...</td>\n",
              "      <td>suye.on2di</td>\n",
              "      <td>ISTJ</td>\n",
              "      <td>Weki Meki</td>\n",
              "      <td>Suyeon</td>\n",
              "      <td>285</td>\n",
              "      <td>0</td>\n",
              "      <td>1</td>\n",
              "      <td>1</td>\n",
              "      <td>1</td>\n",
              "    </tr>\n",
              "    <tr>\n",
              "      <th>4</th>\n",
              "      <td>2021년 소중한 사람들과 함께해서 증말 행복했어요☺️🥰 내년에도 잘 부탁해요🙌 모...</td>\n",
              "      <td>_haerimida</td>\n",
              "      <td>ESTP</td>\n",
              "      <td>Weki Meki</td>\n",
              "      <td>Elly</td>\n",
              "      <td>80</td>\n",
              "      <td>1</td>\n",
              "      <td>1</td>\n",
              "      <td>1</td>\n",
              "      <td>0</td>\n",
              "    </tr>\n",
              "  </tbody>\n",
              "</table>\n",
              "</div>\n",
              "    <div class=\"colab-df-buttons\">\n",
              "\n",
              "  <div class=\"colab-df-container\">\n",
              "    <button class=\"colab-df-convert\" onclick=\"convertToInteractive('df-dce38399-ec00-496c-9dce-1c2e0d6db970')\"\n",
              "            title=\"Convert this dataframe to an interactive table.\"\n",
              "            style=\"display:none;\">\n",
              "\n",
              "  <svg xmlns=\"http://www.w3.org/2000/svg\" height=\"24px\" viewBox=\"0 -960 960 960\">\n",
              "    <path d=\"M120-120v-720h720v720H120Zm60-500h600v-160H180v160Zm220 220h160v-160H400v160Zm0 220h160v-160H400v160ZM180-400h160v-160H180v160Zm440 0h160v-160H620v160ZM180-180h160v-160H180v160Zm440 0h160v-160H620v160Z\"/>\n",
              "  </svg>\n",
              "    </button>\n",
              "\n",
              "  <style>\n",
              "    .colab-df-container {\n",
              "      display:flex;\n",
              "      gap: 12px;\n",
              "    }\n",
              "\n",
              "    .colab-df-convert {\n",
              "      background-color: #E8F0FE;\n",
              "      border: none;\n",
              "      border-radius: 50%;\n",
              "      cursor: pointer;\n",
              "      display: none;\n",
              "      fill: #1967D2;\n",
              "      height: 32px;\n",
              "      padding: 0 0 0 0;\n",
              "      width: 32px;\n",
              "    }\n",
              "\n",
              "    .colab-df-convert:hover {\n",
              "      background-color: #E2EBFA;\n",
              "      box-shadow: 0px 1px 2px rgba(60, 64, 67, 0.3), 0px 1px 3px 1px rgba(60, 64, 67, 0.15);\n",
              "      fill: #174EA6;\n",
              "    }\n",
              "\n",
              "    .colab-df-buttons div {\n",
              "      margin-bottom: 4px;\n",
              "    }\n",
              "\n",
              "    [theme=dark] .colab-df-convert {\n",
              "      background-color: #3B4455;\n",
              "      fill: #D2E3FC;\n",
              "    }\n",
              "\n",
              "    [theme=dark] .colab-df-convert:hover {\n",
              "      background-color: #434B5C;\n",
              "      box-shadow: 0px 1px 3px 1px rgba(0, 0, 0, 0.15);\n",
              "      filter: drop-shadow(0px 1px 2px rgba(0, 0, 0, 0.3));\n",
              "      fill: #FFFFFF;\n",
              "    }\n",
              "  </style>\n",
              "\n",
              "    <script>\n",
              "      const buttonEl =\n",
              "        document.querySelector('#df-dce38399-ec00-496c-9dce-1c2e0d6db970 button.colab-df-convert');\n",
              "      buttonEl.style.display =\n",
              "        google.colab.kernel.accessAllowed ? 'block' : 'none';\n",
              "\n",
              "      async function convertToInteractive(key) {\n",
              "        const element = document.querySelector('#df-dce38399-ec00-496c-9dce-1c2e0d6db970');\n",
              "        const dataTable =\n",
              "          await google.colab.kernel.invokeFunction('convertToInteractive',\n",
              "                                                    [key], {});\n",
              "        if (!dataTable) return;\n",
              "\n",
              "        const docLinkHtml = 'Like what you see? Visit the ' +\n",
              "          '<a target=\"_blank\" href=https://colab.research.google.com/notebooks/data_table.ipynb>data table notebook</a>'\n",
              "          + ' to learn more about interactive tables.';\n",
              "        element.innerHTML = '';\n",
              "        dataTable['output_type'] = 'display_data';\n",
              "        await google.colab.output.renderOutput(dataTable, element);\n",
              "        const docLink = document.createElement('div');\n",
              "        docLink.innerHTML = docLinkHtml;\n",
              "        element.appendChild(docLink);\n",
              "      }\n",
              "    </script>\n",
              "  </div>\n",
              "\n",
              "\n",
              "<div id=\"df-5a39ee75-244b-4601-ab13-3e3584879733\">\n",
              "  <button class=\"colab-df-quickchart\" onclick=\"quickchart('df-5a39ee75-244b-4601-ab13-3e3584879733')\"\n",
              "            title=\"Suggest charts\"\n",
              "            style=\"display:none;\">\n",
              "\n",
              "<svg xmlns=\"http://www.w3.org/2000/svg\" height=\"24px\"viewBox=\"0 0 24 24\"\n",
              "     width=\"24px\">\n",
              "    <g>\n",
              "        <path d=\"M19 3H5c-1.1 0-2 .9-2 2v14c0 1.1.9 2 2 2h14c1.1 0 2-.9 2-2V5c0-1.1-.9-2-2-2zM9 17H7v-7h2v7zm4 0h-2V7h2v10zm4 0h-2v-4h2v4z\"/>\n",
              "    </g>\n",
              "</svg>\n",
              "  </button>\n",
              "\n",
              "<style>\n",
              "  .colab-df-quickchart {\n",
              "      --bg-color: #E8F0FE;\n",
              "      --fill-color: #1967D2;\n",
              "      --hover-bg-color: #E2EBFA;\n",
              "      --hover-fill-color: #174EA6;\n",
              "      --disabled-fill-color: #AAA;\n",
              "      --disabled-bg-color: #DDD;\n",
              "  }\n",
              "\n",
              "  [theme=dark] .colab-df-quickchart {\n",
              "      --bg-color: #3B4455;\n",
              "      --fill-color: #D2E3FC;\n",
              "      --hover-bg-color: #434B5C;\n",
              "      --hover-fill-color: #FFFFFF;\n",
              "      --disabled-bg-color: #3B4455;\n",
              "      --disabled-fill-color: #666;\n",
              "  }\n",
              "\n",
              "  .colab-df-quickchart {\n",
              "    background-color: var(--bg-color);\n",
              "    border: none;\n",
              "    border-radius: 50%;\n",
              "    cursor: pointer;\n",
              "    display: none;\n",
              "    fill: var(--fill-color);\n",
              "    height: 32px;\n",
              "    padding: 0;\n",
              "    width: 32px;\n",
              "  }\n",
              "\n",
              "  .colab-df-quickchart:hover {\n",
              "    background-color: var(--hover-bg-color);\n",
              "    box-shadow: 0 1px 2px rgba(60, 64, 67, 0.3), 0 1px 3px 1px rgba(60, 64, 67, 0.15);\n",
              "    fill: var(--button-hover-fill-color);\n",
              "  }\n",
              "\n",
              "  .colab-df-quickchart-complete:disabled,\n",
              "  .colab-df-quickchart-complete:disabled:hover {\n",
              "    background-color: var(--disabled-bg-color);\n",
              "    fill: var(--disabled-fill-color);\n",
              "    box-shadow: none;\n",
              "  }\n",
              "\n",
              "  .colab-df-spinner {\n",
              "    border: 2px solid var(--fill-color);\n",
              "    border-color: transparent;\n",
              "    border-bottom-color: var(--fill-color);\n",
              "    animation:\n",
              "      spin 1s steps(1) infinite;\n",
              "  }\n",
              "\n",
              "  @keyframes spin {\n",
              "    0% {\n",
              "      border-color: transparent;\n",
              "      border-bottom-color: var(--fill-color);\n",
              "      border-left-color: var(--fill-color);\n",
              "    }\n",
              "    20% {\n",
              "      border-color: transparent;\n",
              "      border-left-color: var(--fill-color);\n",
              "      border-top-color: var(--fill-color);\n",
              "    }\n",
              "    30% {\n",
              "      border-color: transparent;\n",
              "      border-left-color: var(--fill-color);\n",
              "      border-top-color: var(--fill-color);\n",
              "      border-right-color: var(--fill-color);\n",
              "    }\n",
              "    40% {\n",
              "      border-color: transparent;\n",
              "      border-right-color: var(--fill-color);\n",
              "      border-top-color: var(--fill-color);\n",
              "    }\n",
              "    60% {\n",
              "      border-color: transparent;\n",
              "      border-right-color: var(--fill-color);\n",
              "    }\n",
              "    80% {\n",
              "      border-color: transparent;\n",
              "      border-right-color: var(--fill-color);\n",
              "      border-bottom-color: var(--fill-color);\n",
              "    }\n",
              "    90% {\n",
              "      border-color: transparent;\n",
              "      border-bottom-color: var(--fill-color);\n",
              "    }\n",
              "  }\n",
              "</style>\n",
              "\n",
              "  <script>\n",
              "    async function quickchart(key) {\n",
              "      const quickchartButtonEl =\n",
              "        document.querySelector('#' + key + ' button');\n",
              "      quickchartButtonEl.disabled = true;  // To prevent multiple clicks.\n",
              "      quickchartButtonEl.classList.add('colab-df-spinner');\n",
              "      try {\n",
              "        const charts = await google.colab.kernel.invokeFunction(\n",
              "            'suggestCharts', [key], {});\n",
              "      } catch (error) {\n",
              "        console.error('Error during call to suggestCharts:', error);\n",
              "      }\n",
              "      quickchartButtonEl.classList.remove('colab-df-spinner');\n",
              "      quickchartButtonEl.classList.add('colab-df-quickchart-complete');\n",
              "    }\n",
              "    (() => {\n",
              "      let quickchartButtonEl =\n",
              "        document.querySelector('#df-5a39ee75-244b-4601-ab13-3e3584879733 button');\n",
              "      quickchartButtonEl.style.display =\n",
              "        google.colab.kernel.accessAllowed ? 'block' : 'none';\n",
              "    })();\n",
              "  </script>\n",
              "</div>\n",
              "\n",
              "    </div>\n",
              "  </div>\n"
            ]
          },
          "metadata": {},
          "execution_count": 3
        }
      ]
    },
    {
      "cell_type": "code",
      "source": [
        "import sys\n",
        "# sys.path.append(\"/content/hw3\")\n",
        "\n",
        "import csv\n",
        "import itertools as it\n",
        "import numpy as np\n",
        "import torch\n",
        "import sklearn.decomposition\n",
        "np.random.seed(0)\n",
        "from tqdm import tqdm\n",
        "\n"
      ],
      "metadata": {
        "id": "1x6xTytZwJnY"
      },
      "execution_count": null,
      "outputs": []
    },
    {
      "cell_type": "code",
      "source": [
        "# from transformers import AutoTokenizer\n",
        "from transformers import DistilBertTokenizer\n",
        "tokenizer = DistilBertTokenizer.from_pretrained('distilbert-base-multilingual-cased')"
      ],
      "metadata": {
        "id": "qhxb7b7bwson",
        "colab": {
          "base_uri": "https://localhost:8080/",
          "height": 145,
          "referenced_widgets": [
            "a7c800cb150a47efb681229fa8dcf4fb",
            "52585df02c014b6cb2598d6740ff1b3a",
            "a744388fbd11403288ed053dbc009ba2",
            "864a9f08ff7444ce9aad1003beda1b71",
            "6f6e341546e34fa3a57b55c07ed58605",
            "d4c049f542d64e8aa16ac1eab1a570d8",
            "e984d3a021e6415f8a11aafae31998a6",
            "0da02d45b18648ce816957508b059956",
            "a103be5c8e214f4aba404c7c5530842d",
            "970a4be7a6e54950a3e18e5e4aa3603a",
            "c3d8a04dc5424da49e72cd3b481ed8b9",
            "581c6ea6def94136986d4a4ed8ae9cb3",
            "de74b4eae52a48adbd4ae6d86f46f166",
            "287c646f9e954f5e9eaa0e4262d05817",
            "9947ea6d2a8446608c7d05edb52dc062",
            "2dd40eec18d945c5acc9da14540fada5",
            "22cf6a2fad5a4a16ab240b036c2b34e7",
            "e2e5ae4b236e48178ee5d4f603d57b78",
            "aa56d16c5aae48289600f0a37fd8fee6",
            "931af5be91e04ce98f9b0cf05aae655a",
            "e19bae40d1c94338a96fcf6ac5f1a43b",
            "8ceae403998d46e899f713efcfb21783",
            "c0b959a5676c43e296a8b72ee4cdcb52",
            "57de998f812543769a8f5e44dfae5cba",
            "ca4870935c76471493179e52e0e74085",
            "ba0b131febaf4830832e66378a8715b9",
            "94c5087e9f614b35a7cfeb511682054a",
            "2e6398a0cdef4f779156a8eb2730dc12",
            "389e72686d4f4d1583f4ab4c866e57df",
            "f5df0277354c4a109bd04cd5f1c7732d",
            "389a1f1099b94945befc970dbd9a8c23",
            "80f606c31829473e8748f7c19960ade6",
            "bc2811d448fb416d9e7b621e6ca05215",
            "84825f2ee0fd49e8a41bfecb114b717c",
            "691da2b2696b48ff8da612581570763e",
            "aa20f515e9f1466bb8a88d5372defb97",
            "b247dea0be6d4a6b89215428a7d29bb7",
            "7f321d71685d4f18b01f500983048da3",
            "17a5418149cc4e2fb479c3ead66a398d",
            "044b8d41f2054ecd9b757b3876533c4b",
            "8ec5ae9088fb417a89a418ac83343219",
            "49bd0a5208a1408999f0702a26dae12b",
            "55de84fef5bb4f629a246e2a7b5ea150",
            "848e3f5e5558487f80bbdfd0cce7fe8c"
          ]
        },
        "outputId": "3ff4c012-9130-4bc5-837a-f3998926c310"
      },
      "execution_count": null,
      "outputs": [
        {
          "output_type": "display_data",
          "data": {
            "text/plain": [
              "tokenizer_config.json:   0%|          | 0.00/29.0 [00:00<?, ?B/s]"
            ],
            "application/vnd.jupyter.widget-view+json": {
              "version_major": 2,
              "version_minor": 0,
              "model_id": "a7c800cb150a47efb681229fa8dcf4fb"
            }
          },
          "metadata": {}
        },
        {
          "output_type": "display_data",
          "data": {
            "text/plain": [
              "vocab.txt:   0%|          | 0.00/996k [00:00<?, ?B/s]"
            ],
            "application/vnd.jupyter.widget-view+json": {
              "version_major": 2,
              "version_minor": 0,
              "model_id": "581c6ea6def94136986d4a4ed8ae9cb3"
            }
          },
          "metadata": {}
        },
        {
          "output_type": "display_data",
          "data": {
            "text/plain": [
              "tokenizer.json:   0%|          | 0.00/1.96M [00:00<?, ?B/s]"
            ],
            "application/vnd.jupyter.widget-view+json": {
              "version_major": 2,
              "version_minor": 0,
              "model_id": "c0b959a5676c43e296a8b72ee4cdcb52"
            }
          },
          "metadata": {}
        },
        {
          "output_type": "display_data",
          "data": {
            "text/plain": [
              "config.json:   0%|          | 0.00/466 [00:00<?, ?B/s]"
            ],
            "application/vnd.jupyter.widget-view+json": {
              "version_major": 2,
              "version_minor": 0,
              "model_id": "84825f2ee0fd49e8a41bfecb114b717c"
            }
          },
          "metadata": {}
        }
      ]
    },
    {
      "cell_type": "code",
      "source": [
        "# from transformers import BertTokenizer\n",
        "# tokenizer = BertTokenizer.from_pretrained('bert-base-multilingual-cased')"
      ],
      "metadata": {
        "id": "oHKx1xsUH2vc"
      },
      "execution_count": null,
      "outputs": []
    },
    {
      "cell_type": "code",
      "source": [
        "# from transformers import AutoTokenizer, AutoModel\n",
        "# tokenizer = AutoTokenizer.from_pretrained(\"snunlp/KR-Medium\", do_lower_case=False)\n"
      ],
      "metadata": {
        "id": "Om9I5S6pBPQA"
      },
      "execution_count": null,
      "outputs": []
    },
    {
      "cell_type": "code",
      "source": [
        "from transformers import DistilBertModel\n",
        "\n",
        "device = torch.device('cuda') if torch.cuda.is_available() else torch.device('cpu')\n",
        "model = DistilBertModel.from_pretrained('distilbert-base-multilingual-cased')\n",
        "model.to(device)"
      ],
      "metadata": {
        "colab": {
          "base_uri": "https://localhost:8080/",
          "height": 552,
          "referenced_widgets": [
            "2e417f87ea1044f595924092dbd937d1",
            "691daa8c42204178bedf542d69fead08",
            "6581a55f0a284eaaade353c979419b09",
            "20839c2578d14d98b7f8cb7407cdfa10",
            "7891e7d6b6fc47d193e75e7b74c1b7e1",
            "82cb00e56b3e448b92bc65dfad2752c3",
            "9955c2105a94405da95fbd741c3a2cf3",
            "8349b88dd6764794bce9e81241d4d205",
            "a9ded65f6de9477ea21e452cc1433532",
            "9fd7d150c091465a964cb9864ec9f1bf",
            "872bf637afa54bc5997e95799bc11dfc"
          ]
        },
        "id": "NvhS5VLbIjrE",
        "outputId": "bd12a471-9b43-41e5-a190-c25ba152b50d"
      },
      "execution_count": null,
      "outputs": [
        {
          "output_type": "display_data",
          "data": {
            "text/plain": [
              "model.safetensors:   0%|          | 0.00/542M [00:00<?, ?B/s]"
            ],
            "application/vnd.jupyter.widget-view+json": {
              "version_major": 2,
              "version_minor": 0,
              "model_id": "2e417f87ea1044f595924092dbd937d1"
            }
          },
          "metadata": {}
        },
        {
          "output_type": "execute_result",
          "data": {
            "text/plain": [
              "DistilBertModel(\n",
              "  (embeddings): Embeddings(\n",
              "    (word_embeddings): Embedding(119547, 768, padding_idx=0)\n",
              "    (position_embeddings): Embedding(512, 768)\n",
              "    (LayerNorm): LayerNorm((768,), eps=1e-12, elementwise_affine=True)\n",
              "    (dropout): Dropout(p=0.1, inplace=False)\n",
              "  )\n",
              "  (transformer): Transformer(\n",
              "    (layer): ModuleList(\n",
              "      (0-5): 6 x TransformerBlock(\n",
              "        (attention): MultiHeadSelfAttention(\n",
              "          (dropout): Dropout(p=0.1, inplace=False)\n",
              "          (q_lin): Linear(in_features=768, out_features=768, bias=True)\n",
              "          (k_lin): Linear(in_features=768, out_features=768, bias=True)\n",
              "          (v_lin): Linear(in_features=768, out_features=768, bias=True)\n",
              "          (out_lin): Linear(in_features=768, out_features=768, bias=True)\n",
              "        )\n",
              "        (sa_layer_norm): LayerNorm((768,), eps=1e-12, elementwise_affine=True)\n",
              "        (ffn): FFN(\n",
              "          (dropout): Dropout(p=0.1, inplace=False)\n",
              "          (lin1): Linear(in_features=768, out_features=3072, bias=True)\n",
              "          (lin2): Linear(in_features=3072, out_features=768, bias=True)\n",
              "          (activation): GELUActivation()\n",
              "        )\n",
              "        (output_layer_norm): LayerNorm((768,), eps=1e-12, elementwise_affine=True)\n",
              "      )\n",
              "    )\n",
              "  )\n",
              ")"
            ]
          },
          "metadata": {},
          "execution_count": 6
        }
      ]
    },
    {
      "cell_type": "code",
      "source": [
        "# embeddings = []\n",
        "# attention_msks = []\n",
        "# multiply = []\n",
        "\n",
        "# for i, sent in enumerate(df['caption']):\n",
        "\n",
        "#   # Encode the sentence\n",
        "#   encoded = tokenizer.encode_plus(\n",
        "#       text=sent,  # the sentence to be encoded\n",
        "#       add_special_tokens=True,  # Add [CLS] and [SEP]\n",
        "#       max_length = 512,  # maximum length of a sentence\n",
        "#       pad_to_max_length=True,  # Add [PAD]s\n",
        "#       return_attention_mask = True,  # Generate the attention mask\n",
        "#       return_tensors = 'pt',  # ask the function to return PyTorch tensors\n",
        "#   )\n",
        "\n",
        "#   # Get the input IDs and attention mask in tensor format\n",
        "#   input_ids = encoded['input_ids']\n",
        "#   attn_mask = encoded['attention_mask']\n",
        "\n",
        "#   embeddings.extend(input_ids)\n",
        "#   attention_msks.extend(attn_mask)\n",
        "\n",
        "#   # encoded_input = tokenizer(sent, return_tensors='tf')\n",
        "#   # output_embeddings = model(encoded_input)\n",
        "#   # embeddings.extend(output_embeddings)\n",
        "\n",
        "\n"
      ],
      "metadata": {
        "id": "EJ6xPqLpXaTf"
      },
      "execution_count": null,
      "outputs": []
    },
    {
      "cell_type": "code",
      "source": [
        "from torch.utils.data import TensorDataset\n",
        "#tokenizer function from pset 3, with no labels involved (bc seq2seq)\n",
        "\n",
        "def tokenizer_function(input_data):\n",
        "  input_ids = []\n",
        "  attention_masks = []\n",
        "  for sent in input_data:\n",
        "    this_encoding = tokenizer.encode_plus(sent, truncation=True, pad_to_max_length = True,max_length = 512,return_attention_mask = True,return_tensors = 'pt')\n",
        "    input_ids.append(this_encoding['input_ids'])\n",
        "    attention_masks.append( this_encoding['attention_mask'])\n",
        "  input_ids = torch.cat(input_ids, dim=0)\n",
        "  attention_masks = torch.cat(attention_masks, dim=0)\n",
        "  tokenized_data = TensorDataset(input_ids, attention_masks)\n",
        "  return attention_masks, tokenized_data"
      ],
      "metadata": {
        "id": "JHSBlXmwRh2D"
      },
      "execution_count": null,
      "outputs": []
    },
    {
      "cell_type": "code",
      "source": [
        "attn_msks, dataset = tokenizer_function(df['caption'].to_list())"
      ],
      "metadata": {
        "colab": {
          "base_uri": "https://localhost:8080/"
        },
        "id": "XvilWvbiR7Fv",
        "outputId": "1cc6796c-8fba-4845-f1f2-671afb1446a9"
      },
      "execution_count": null,
      "outputs": [
        {
          "output_type": "stream",
          "name": "stderr",
          "text": [
            "/usr/local/lib/python3.10/dist-packages/transformers/tokenization_utils_base.py:2614: FutureWarning: The `pad_to_max_length` argument is deprecated and will be removed in a future version, use `padding=True` or `padding='longest'` to pad to the longest sequence in the batch, or use `padding='max_length'` to pad to a max length. In this case, you can give a specific length with `max_length` (e.g. `max_length=45`) or leave max_length to None to pad to the maximal input size of the model (e.g. 512 for Bert).\n",
            "  warnings.warn(\n"
          ]
        }
      ]
    },
    {
      "cell_type": "code",
      "source": [
        "from torch.utils.data import DataLoader\n",
        "loader = DataLoader(dataset, batch_size=32, shuffle=False)  #no shuffling to keep embeddings aligned with the df\n",
        "seq_lengths = torch.sum(attn_msks, dim=1).numpy()"
      ],
      "metadata": {
        "id": "moOLE4s_ScT0"
      },
      "execution_count": null,
      "outputs": []
    },
    {
      "cell_type": "code",
      "source": [
        "embedding_lst = []\n",
        "i = 0\n",
        "\n",
        "for batch in loader:\n",
        "  if i % 50 == 0: print(i)\n",
        "\n",
        "  b_input_ids = batch[0].to(device)\n",
        "  b_input_mask = batch[1].to(device)\n",
        "\n",
        "  with torch.no_grad():\n",
        "      outputs = model(b_input_ids,\n",
        "                      attention_mask=b_input_mask)\n",
        "\n",
        "  states = outputs.last_hidden_state.detach().cpu().numpy() #(batch x seq_len x output_dim)\n",
        "  embedding_avg = (states * b_input_mask.cpu().numpy()[:, :, np.newaxis]).sum(axis=1) / seq_lengths[32*i: 32*(i+1), np.newaxis] #compute average embedding of output -> (batch x output_dim)\n",
        "  embedding_lst.extend(embedding_avg)\n",
        "\n",
        "  i += 1\n",
        "\n",
        "embeddings = np.stack(embedding_lst, axis=0)  #(num_data x seq_len x output_dim)\n",
        "del embedding_lst #memory concerns"
      ],
      "metadata": {
        "id": "UUKPeGc8St_-",
        "colab": {
          "base_uri": "https://localhost:8080/"
        },
        "outputId": "afb3ef56-e4bf-40f2-9418-b6808acc9c4e"
      },
      "execution_count": null,
      "outputs": [
        {
          "output_type": "stream",
          "name": "stdout",
          "text": [
            "0\n",
            "50\n",
            "100\n",
            "150\n",
            "200\n",
            "250\n",
            "300\n",
            "350\n",
            "400\n",
            "450\n",
            "500\n",
            "550\n",
            "600\n",
            "650\n",
            "700\n",
            "750\n",
            "800\n",
            "850\n",
            "900\n",
            "950\n",
            "1000\n",
            "1050\n",
            "1100\n",
            "1150\n",
            "1200\n",
            "1250\n"
          ]
        }
      ]
    },
    {
      "cell_type": "markdown",
      "source": [
        "## Dimensionality reduction"
      ],
      "metadata": {
        "id": "vtYge3-axHnd"
      }
    },
    {
      "cell_type": "code",
      "source": [
        "from sklearn.decomposition import PCA\n",
        "\n",
        "pca = PCA(n_components = 12)  #change this for num. dimensions\n",
        "embeddings_pca = pca.fit_transform(embeddings)"
      ],
      "metadata": {
        "id": "XqDq6flFxQM9"
      },
      "execution_count": null,
      "outputs": []
    },
    {
      "cell_type": "code",
      "source": [
        "embedding_df = pd.DataFrame(embeddings_pca)\n",
        "new_df = pd.concat([df, embedding_df], axis=1)"
      ],
      "metadata": {
        "id": "Jw1dyvY-x6gI"
      },
      "execution_count": null,
      "outputs": []
    },
    {
      "cell_type": "code",
      "source": [
        "import torch\n",
        "from torch.utils.data import TensorDataset\n",
        "\n",
        "mbti_dict = {'INTJ': 0, 'INTP': 1, 'ENTJ': 2, 'ENTP': 3, \\\n",
        "             'INFJ': 4, 'INFP': 5, 'ENFJ': 6, 'ENFP':7, \\\n",
        "             'ISTJ': 8, 'ISFJ': 9, 'ESTJ': 10, 'ESFJ': 11, \\\n",
        "             'ISTP': 12, 'ISFP': 13, 'ESTP': 14, 'ESFP': 15}\n",
        "\n",
        "new_df['label'] = [mbti_dict[new_df['mbti'][i]] for i in range(new_df.shape[0])]\n",
        "print(new_df.head())"
      ],
      "metadata": {
        "colab": {
          "base_uri": "https://localhost:8080/"
        },
        "id": "fIuY_puQyzt2",
        "outputId": "ef8ef34b-8555-46fe-a17e-9014c782cb59"
      },
      "execution_count": null,
      "outputs": [
        {
          "output_type": "stream",
          "name": "stdout",
          "text": [
            "                                             caption    username  mbti  \\\n",
            "0  '번지점프를 하다' 작품으로 뮤지컬 데뷔할 수 있게 되어서 정말 영광이었습니다🥹 배...  suye.on2di  ISTJ   \n",
            "1  꽃과 달⠀⠀⠀⠀⠀⠀⠀⠀⠀⠀⠀⠀⠀⠀⠀⠀⠀⠀⠀⠀⠀⠀⠀⠀⠀⠀⠀⠀⠀⠀⠀⠀⠀⠀⠀⠀⠀⠀⠀⠀⠀⠀...  suye.on2di  ISTJ   \n",
            "2  One day 가이드! 너무 행복한 작업이었다고 한다..🎇 작가님들 고생많으셨습니다...  suye.on2di  ISTJ   \n",
            "3  안녕하세요 위키미키 지수연입니다. 멤버 유정이의 지목으로 의미 있는 챌린지에 함께 ...  suye.on2di  ISTJ   \n",
            "4  2021년 소중한 사람들과 함께해서 증말 행복했어요☺️🥰 내년에도 잘 부탁해요🙌 모...  _haerimida  ESTP   \n",
            "\n",
            "       group    name caption_lengths extraversion sensing thinking judging  \\\n",
            "0  Weki Meki  Suyeon             141            0       1        1       1   \n",
            "1  Weki Meki  Suyeon              65            0       1        1       1   \n",
            "2  Weki Meki  Suyeon              58            0       1        1       1   \n",
            "3  Weki Meki  Suyeon             285            0       1        1       1   \n",
            "4  Weki Meki    Elly              80            1       1        1       0   \n",
            "\n",
            "   ...         3         4         5         6         7         8         9  \\\n",
            "0  ... -0.031882 -0.190255 -0.063131  0.674995  0.476299  0.147244 -0.163155   \n",
            "1  ... -0.243594  2.030659 -0.885150  0.882401 -1.183649  1.978317  1.630645   \n",
            "2  ...  0.151260 -0.237824  0.269290 -0.726361 -0.060810  0.578726  0.358001   \n",
            "3  ... -0.543950  0.609027  0.595899  0.743415  0.807163 -0.607588 -0.064350   \n",
            "4  ...  1.034022  0.343060 -1.960683  0.304818  0.040311  0.008652  0.382473   \n",
            "\n",
            "         10        11  label  \n",
            "0  0.301651 -0.456939      8  \n",
            "1 -0.700752  0.119992      8  \n",
            "2 -0.012832 -0.361133      8  \n",
            "3  0.413869  0.386679      8  \n",
            "4  0.298086  0.527488     14  \n",
            "\n",
            "[5 rows x 23 columns]\n"
          ]
        }
      ]
    },
    {
      "cell_type": "code",
      "source": [
        "new_df.to_csv('/content/drive/MyDrive/NLP_project/Data/embeddings-seq2seq-12-2.csv', index = False)"
      ],
      "metadata": {
        "id": "0JCwn6PLy0VB"
      },
      "execution_count": null,
      "outputs": []
    },
    {
      "cell_type": "markdown",
      "source": [
        "## Start with embedding data"
      ],
      "metadata": {
        "id": "RRVxqEd6_qza"
      }
    },
    {
      "cell_type": "code",
      "source": [
        "import csv\n",
        "import pandas as pd\n",
        "\n",
        "with open('/content/drive/MyDrive/NLP_project/Data/embeddings-seq2seq-12-2.csv', 'r', encoding='utf-8') as f:\n",
        "    df = pd.DataFrame(csv.reader(f))\n",
        "    df.columns = df.iloc[0]\n",
        "    df = df[1:].reset_index(drop=True)\n",
        "    print(df.head())"
      ],
      "metadata": {
        "id": "FQtguh4r_tRn",
        "colab": {
          "base_uri": "https://localhost:8080/"
        },
        "outputId": "8a76842c-2330-4da5-d919-34b7f543bfd0"
      },
      "execution_count": null,
      "outputs": [
        {
          "output_type": "stream",
          "name": "stdout",
          "text": [
            "0                                            caption    username  mbti  \\\n",
            "0  '번지점프를 하다' 작품으로 뮤지컬 데뷔할 수 있게 되어서 정말 영광이었습니다🥹 배...  suye.on2di  ISTJ   \n",
            "1  꽃과 달⠀⠀⠀⠀⠀⠀⠀⠀⠀⠀⠀⠀⠀⠀⠀⠀⠀⠀⠀⠀⠀⠀⠀⠀⠀⠀⠀⠀⠀⠀⠀⠀⠀⠀⠀⠀⠀⠀⠀⠀⠀⠀...  suye.on2di  ISTJ   \n",
            "2  One day 가이드! 너무 행복한 작업이었다고 한다..🎇 작가님들 고생많으셨습니다...  suye.on2di  ISTJ   \n",
            "3  안녕하세요 위키미키 지수연입니다. 멤버 유정이의 지목으로 의미 있는 챌린지에 함께 ...  suye.on2di  ISTJ   \n",
            "4  2021년 소중한 사람들과 함께해서 증말 행복했어요☺️🥰 내년에도 잘 부탁해요🙌 모...  _haerimida  ESTP   \n",
            "\n",
            "0      group    name caption_lengths extraversion sensing thinking judging  \\\n",
            "0  Weki Meki  Suyeon             141            0       1        1       1   \n",
            "1  Weki Meki  Suyeon              65            0       1        1       1   \n",
            "2  Weki Meki  Suyeon              58            0       1        1       1   \n",
            "3  Weki Meki  Suyeon             285            0       1        1       1   \n",
            "4  Weki Meki    Elly              80            1       1        1       0   \n",
            "\n",
            "0  ...                      3                     4                     5  \\\n",
            "0  ...  -0.031882163718564255    -0.190255093307124  -0.06313126898154059   \n",
            "1  ...   -0.24359402418904078     2.030658687729914   -0.8851504029609865   \n",
            "2  ...     0.1512598904917488  -0.23782356437285435   0.26928963791600397   \n",
            "3  ...     -0.543949887864398    0.6090271060630981    0.5958985147923702   \n",
            "4  ...     1.0340217680096768   0.34305974053205696   -1.9606834615591782   \n",
            "\n",
            "0                    6                     7                     8  \\\n",
            "0   0.6749950823193931    0.4762991513557125   0.14724368347284855   \n",
            "1   0.8824005267688129   -1.1836489803926877    1.9783165151769448   \n",
            "2  -0.7263605845482678  -0.06081030434380405     0.578726414957632   \n",
            "3   0.7434153858352318    0.8071633045780293   -0.6075881097926127   \n",
            "4  0.30481832543900483   0.04031103980408925  0.008652357737026406   \n",
            "\n",
            "0                     9                     10                    11 label  \n",
            "0  -0.16315496779354746     0.3016512119660401  -0.45693850873297426     8  \n",
            "1    1.6306445046319626    -0.7007518697650471   0.11999229312461089     8  \n",
            "2   0.35800075868964665  -0.012832237206481825  -0.36113296739307665     8  \n",
            "3  -0.06435018351272127     0.4138686155588186   0.38667850152626654     8  \n",
            "4    0.3824725437364457    0.29808604556777996    0.5274881731207363    14  \n",
            "\n",
            "[5 rows x 23 columns]\n"
          ]
        }
      ]
    },
    {
      "cell_type": "code",
      "source": [
        "for col in set(df.columns) - {'caption', 'embedding', 'username', 'mbti', 'group', 'name'}:\n",
        "  df[col] = df[col].astype(float)"
      ],
      "metadata": {
        "id": "3edLHiXpExiO"
      },
      "execution_count": null,
      "outputs": []
    },
    {
      "cell_type": "code",
      "source": [
        "# perform train-test-split by group, 0.80-0.20\n",
        "\n",
        "from sklearn.model_selection import GroupShuffleSplit\n",
        "np.random.seed(0)\n",
        "\n",
        "# seems that this can only split into two groups, so we'll do it twice\n",
        "train_splitter = GroupShuffleSplit(test_size=0.2, n_splits=1, random_state=0)\n",
        "\n",
        "# gets train indices, and (val + test) indices\n",
        "train_split = train_splitter.split(df, groups=df['group'])\n",
        "train_idx, test_idx = next(train_split)\n",
        "\n",
        "train_df = df.iloc[train_idx]\n",
        "test_df = df.iloc[test_idx]"
      ],
      "metadata": {
        "id": "4XO6mnJU2aHU"
      },
      "execution_count": null,
      "outputs": []
    },
    {
      "cell_type": "code",
      "source": [
        "subsample = 1\n",
        "\n",
        "X_train = train_df.loc[:, ~train_df.columns.isin(['caption', 'username', 'mbti', 'group', 'name', 'extraversion', 'sensing', 'thinking', 'judging', 'embedding', 'label', 'caption_lengths'])]\n",
        "y_train = train_df['label'].astype(int)\n",
        "X_test = test_df.loc[:, ~test_df.columns.isin(['caption', 'username', 'mbti', 'group', 'name', 'extraversion', 'sensing', 'thinking', 'judging', 'embedding', 'label', 'caption_lengths'])]\n",
        "y_test = test_df['label'].astype(int)\n",
        "\n",
        "X_train = X_train[::subsample]\n",
        "y_train = y_train[::subsample]\n",
        "X_test = X_test[::subsample]\n",
        "y_test = y_test[::subsample]"
      ],
      "metadata": {
        "id": "TMk0dMlB23RY"
      },
      "execution_count": null,
      "outputs": []
    },
    {
      "cell_type": "code",
      "source": [
        "# X_train, X_test, y_train, y_test = train_test_split(X, y, random_state=1)\n",
        "\n",
        "# subsample = 1\n",
        "\n",
        "# X_train = X_train[::subsample]\n",
        "# X_test = X_test[::subsample]\n",
        "# y_train = y_train[::subsample]\n",
        "# y_test = y_test[::subsample]"
      ],
      "metadata": {
        "id": "y4GqfvFRdJML"
      },
      "execution_count": null,
      "outputs": []
    },
    {
      "cell_type": "code",
      "source": [
        "import xgboost as xgb\n",
        "\n",
        "# Create regression matrices\n",
        "dtrain_clf = xgb.DMatrix(X_train, y_train, enable_categorical=True)\n",
        "dtest_clf = xgb.DMatrix(X_test, y_test, enable_categorical=True)"
      ],
      "metadata": {
        "id": "JWXC3BzPdfhx"
      },
      "execution_count": null,
      "outputs": []
    },
    {
      "cell_type": "code",
      "source": [
        "import numpy as np\n",
        "device = torch.device('cuda') if torch.cuda.is_available() else torch.device('cpu')\n",
        "\n",
        "params = {\"objective\": \"multi:softprob\", \"tree_method\": \"hist\", \"num_class\": 16}\n",
        "\n",
        "model = xgb.train(dtrain=dtrain_clf, params=params,num_boost_round=10)\n",
        "predictions = model.predict(dtest_clf)"
      ],
      "metadata": {
        "id": "XLMe6QDJiftY"
      },
      "execution_count": null,
      "outputs": []
    },
    {
      "cell_type": "code",
      "source": [
        "def flat_accuracy(preds, labels):\n",
        "    pred_flat = np.argmax(preds, axis=1).flatten()\n",
        "    labels_flat = labels\n",
        "    return np.sum(pred_flat == labels_flat) / len(labels_flat)\n",
        "\n",
        "flat_accuracy(predictions, y_test)"
      ],
      "metadata": {
        "colab": {
          "base_uri": "https://localhost:8080/"
        },
        "id": "pdl5zttQknWu",
        "outputId": "d6b0280c-7795-4049-8b41-240a35c5edbe"
      },
      "execution_count": null,
      "outputs": [
        {
          "output_type": "execute_result",
          "data": {
            "text/plain": [
              "0.14233891863879772"
            ]
          },
          "metadata": {},
          "execution_count": 70
        }
      ]
    },
    {
      "cell_type": "code",
      "source": [
        "predictions = model.predict(dtrain_clf)\n",
        "flat_accuracy(predictions, y_train)"
      ],
      "metadata": {
        "colab": {
          "base_uri": "https://localhost:8080/"
        },
        "id": "UBfhH-r1NmBU",
        "outputId": "df767b84-12d2-487f-9a25-193fca28ea4c"
      },
      "execution_count": null,
      "outputs": [
        {
          "output_type": "execute_result",
          "data": {
            "text/plain": [
              "0.3666106665907344"
            ]
          },
          "metadata": {},
          "execution_count": 71
        }
      ]
    },
    {
      "cell_type": "code",
      "source": [
        "#save and load model\n",
        "import pickle\n",
        "file_name = '/content/drive/MyDrive/NLP_project/Models/xgb_mbti_seq2seq-12-2.pkl'\n",
        "\n",
        "# save\n",
        "pickle.dump(model, open(file_name, \"wb\"))\n",
        "\n",
        "# load\n",
        "# xgb_model_loaded = pickle.load(open(file_name, \"rb\"))"
      ],
      "metadata": {
        "id": "wO5C5Ndy41uA"
      },
      "execution_count": null,
      "outputs": []
    },
    {
      "cell_type": "markdown",
      "source": [
        "## Repeat model training for EI, SN, TF, JP"
      ],
      "metadata": {
        "id": "J6iUjvn-5Mha"
      }
    },
    {
      "cell_type": "code",
      "source": [
        "def bin_accuracy(preds, labels):\n",
        "    pred_flat = np.round(preds)\n",
        "    labels_flat = labels\n",
        "    return np.sum(pred_flat == labels_flat) / len(labels_flat)"
      ],
      "metadata": {
        "id": "yvOE0FJt8mPf"
      },
      "execution_count": null,
      "outputs": []
    },
    {
      "cell_type": "code",
      "source": [
        "df.head()"
      ],
      "metadata": {
        "colab": {
          "base_uri": "https://localhost:8080/",
          "height": 342
        },
        "id": "PSvuSJytoKgc",
        "outputId": "30371fd3-3b7a-4c49-bbae-5746366c3af4"
      },
      "execution_count": null,
      "outputs": [
        {
          "output_type": "execute_result",
          "data": {
            "text/plain": [
              "0                                            caption    username  mbti  \\\n",
              "0  '번지점프를 하다' 작품으로 뮤지컬 데뷔할 수 있게 되어서 정말 영광이었습니다🥹 배...  suye.on2di  ISTJ   \n",
              "1  꽃과 달⠀⠀⠀⠀⠀⠀⠀⠀⠀⠀⠀⠀⠀⠀⠀⠀⠀⠀⠀⠀⠀⠀⠀⠀⠀⠀⠀⠀⠀⠀⠀⠀⠀⠀⠀⠀⠀⠀⠀⠀⠀⠀...  suye.on2di  ISTJ   \n",
              "2  One day 가이드! 너무 행복한 작업이었다고 한다..🎇 작가님들 고생많으셨습니다...  suye.on2di  ISTJ   \n",
              "3  안녕하세요 위키미키 지수연입니다. 멤버 유정이의 지목으로 의미 있는 챌린지에 함께 ...  suye.on2di  ISTJ   \n",
              "4  2021년 소중한 사람들과 함께해서 증말 행복했어요☺️🥰 내년에도 잘 부탁해요🙌 모...  _haerimida  ESTP   \n",
              "\n",
              "0      group    name  caption_lengths  extraversion  sensing  thinking  \\\n",
              "0  Weki Meki  Suyeon            141.0           0.0      1.0       1.0   \n",
              "1  Weki Meki  Suyeon             65.0           0.0      1.0       1.0   \n",
              "2  Weki Meki  Suyeon             58.0           0.0      1.0       1.0   \n",
              "3  Weki Meki  Suyeon            285.0           0.0      1.0       1.0   \n",
              "4  Weki Meki    Elly             80.0           1.0      1.0       1.0   \n",
              "\n",
              "0  judging  ...         3         4         5         6         7         8  \\\n",
              "0      1.0  ... -0.031882 -0.190255 -0.063131  0.674995  0.476299  0.147244   \n",
              "1      1.0  ... -0.243594  2.030659 -0.885150  0.882401 -1.183649  1.978317   \n",
              "2      1.0  ...  0.151260 -0.237824  0.269290 -0.726361 -0.060810  0.578726   \n",
              "3      1.0  ... -0.543950  0.609027  0.595899  0.743415  0.807163 -0.607588   \n",
              "4      0.0  ...  1.034022  0.343060 -1.960683  0.304818  0.040311  0.008652   \n",
              "\n",
              "0         9        10        11  label  \n",
              "0 -0.163155  0.301651 -0.456939    8.0  \n",
              "1  1.630645 -0.700752  0.119992    8.0  \n",
              "2  0.358001 -0.012832 -0.361133    8.0  \n",
              "3 -0.064350  0.413869  0.386679    8.0  \n",
              "4  0.382473  0.298086  0.527488   14.0  \n",
              "\n",
              "[5 rows x 23 columns]"
            ],
            "text/html": [
              "\n",
              "  <div id=\"df-1b2335ae-566b-41e6-88e5-355c9f24fb3c\" class=\"colab-df-container\">\n",
              "    <div>\n",
              "<style scoped>\n",
              "    .dataframe tbody tr th:only-of-type {\n",
              "        vertical-align: middle;\n",
              "    }\n",
              "\n",
              "    .dataframe tbody tr th {\n",
              "        vertical-align: top;\n",
              "    }\n",
              "\n",
              "    .dataframe thead th {\n",
              "        text-align: right;\n",
              "    }\n",
              "</style>\n",
              "<table border=\"1\" class=\"dataframe\">\n",
              "  <thead>\n",
              "    <tr style=\"text-align: right;\">\n",
              "      <th></th>\n",
              "      <th>caption</th>\n",
              "      <th>username</th>\n",
              "      <th>mbti</th>\n",
              "      <th>group</th>\n",
              "      <th>name</th>\n",
              "      <th>caption_lengths</th>\n",
              "      <th>extraversion</th>\n",
              "      <th>sensing</th>\n",
              "      <th>thinking</th>\n",
              "      <th>judging</th>\n",
              "      <th>...</th>\n",
              "      <th>3</th>\n",
              "      <th>4</th>\n",
              "      <th>5</th>\n",
              "      <th>6</th>\n",
              "      <th>7</th>\n",
              "      <th>8</th>\n",
              "      <th>9</th>\n",
              "      <th>10</th>\n",
              "      <th>11</th>\n",
              "      <th>label</th>\n",
              "    </tr>\n",
              "  </thead>\n",
              "  <tbody>\n",
              "    <tr>\n",
              "      <th>0</th>\n",
              "      <td>'번지점프를 하다' 작품으로 뮤지컬 데뷔할 수 있게 되어서 정말 영광이었습니다🥹 배...</td>\n",
              "      <td>suye.on2di</td>\n",
              "      <td>ISTJ</td>\n",
              "      <td>Weki Meki</td>\n",
              "      <td>Suyeon</td>\n",
              "      <td>141.0</td>\n",
              "      <td>0.0</td>\n",
              "      <td>1.0</td>\n",
              "      <td>1.0</td>\n",
              "      <td>1.0</td>\n",
              "      <td>...</td>\n",
              "      <td>-0.031882</td>\n",
              "      <td>-0.190255</td>\n",
              "      <td>-0.063131</td>\n",
              "      <td>0.674995</td>\n",
              "      <td>0.476299</td>\n",
              "      <td>0.147244</td>\n",
              "      <td>-0.163155</td>\n",
              "      <td>0.301651</td>\n",
              "      <td>-0.456939</td>\n",
              "      <td>8.0</td>\n",
              "    </tr>\n",
              "    <tr>\n",
              "      <th>1</th>\n",
              "      <td>꽃과 달⠀⠀⠀⠀⠀⠀⠀⠀⠀⠀⠀⠀⠀⠀⠀⠀⠀⠀⠀⠀⠀⠀⠀⠀⠀⠀⠀⠀⠀⠀⠀⠀⠀⠀⠀⠀⠀⠀⠀⠀⠀⠀...</td>\n",
              "      <td>suye.on2di</td>\n",
              "      <td>ISTJ</td>\n",
              "      <td>Weki Meki</td>\n",
              "      <td>Suyeon</td>\n",
              "      <td>65.0</td>\n",
              "      <td>0.0</td>\n",
              "      <td>1.0</td>\n",
              "      <td>1.0</td>\n",
              "      <td>1.0</td>\n",
              "      <td>...</td>\n",
              "      <td>-0.243594</td>\n",
              "      <td>2.030659</td>\n",
              "      <td>-0.885150</td>\n",
              "      <td>0.882401</td>\n",
              "      <td>-1.183649</td>\n",
              "      <td>1.978317</td>\n",
              "      <td>1.630645</td>\n",
              "      <td>-0.700752</td>\n",
              "      <td>0.119992</td>\n",
              "      <td>8.0</td>\n",
              "    </tr>\n",
              "    <tr>\n",
              "      <th>2</th>\n",
              "      <td>One day 가이드! 너무 행복한 작업이었다고 한다..🎇 작가님들 고생많으셨습니다...</td>\n",
              "      <td>suye.on2di</td>\n",
              "      <td>ISTJ</td>\n",
              "      <td>Weki Meki</td>\n",
              "      <td>Suyeon</td>\n",
              "      <td>58.0</td>\n",
              "      <td>0.0</td>\n",
              "      <td>1.0</td>\n",
              "      <td>1.0</td>\n",
              "      <td>1.0</td>\n",
              "      <td>...</td>\n",
              "      <td>0.151260</td>\n",
              "      <td>-0.237824</td>\n",
              "      <td>0.269290</td>\n",
              "      <td>-0.726361</td>\n",
              "      <td>-0.060810</td>\n",
              "      <td>0.578726</td>\n",
              "      <td>0.358001</td>\n",
              "      <td>-0.012832</td>\n",
              "      <td>-0.361133</td>\n",
              "      <td>8.0</td>\n",
              "    </tr>\n",
              "    <tr>\n",
              "      <th>3</th>\n",
              "      <td>안녕하세요 위키미키 지수연입니다. 멤버 유정이의 지목으로 의미 있는 챌린지에 함께 ...</td>\n",
              "      <td>suye.on2di</td>\n",
              "      <td>ISTJ</td>\n",
              "      <td>Weki Meki</td>\n",
              "      <td>Suyeon</td>\n",
              "      <td>285.0</td>\n",
              "      <td>0.0</td>\n",
              "      <td>1.0</td>\n",
              "      <td>1.0</td>\n",
              "      <td>1.0</td>\n",
              "      <td>...</td>\n",
              "      <td>-0.543950</td>\n",
              "      <td>0.609027</td>\n",
              "      <td>0.595899</td>\n",
              "      <td>0.743415</td>\n",
              "      <td>0.807163</td>\n",
              "      <td>-0.607588</td>\n",
              "      <td>-0.064350</td>\n",
              "      <td>0.413869</td>\n",
              "      <td>0.386679</td>\n",
              "      <td>8.0</td>\n",
              "    </tr>\n",
              "    <tr>\n",
              "      <th>4</th>\n",
              "      <td>2021년 소중한 사람들과 함께해서 증말 행복했어요☺️🥰 내년에도 잘 부탁해요🙌 모...</td>\n",
              "      <td>_haerimida</td>\n",
              "      <td>ESTP</td>\n",
              "      <td>Weki Meki</td>\n",
              "      <td>Elly</td>\n",
              "      <td>80.0</td>\n",
              "      <td>1.0</td>\n",
              "      <td>1.0</td>\n",
              "      <td>1.0</td>\n",
              "      <td>0.0</td>\n",
              "      <td>...</td>\n",
              "      <td>1.034022</td>\n",
              "      <td>0.343060</td>\n",
              "      <td>-1.960683</td>\n",
              "      <td>0.304818</td>\n",
              "      <td>0.040311</td>\n",
              "      <td>0.008652</td>\n",
              "      <td>0.382473</td>\n",
              "      <td>0.298086</td>\n",
              "      <td>0.527488</td>\n",
              "      <td>14.0</td>\n",
              "    </tr>\n",
              "  </tbody>\n",
              "</table>\n",
              "<p>5 rows × 23 columns</p>\n",
              "</div>\n",
              "    <div class=\"colab-df-buttons\">\n",
              "\n",
              "  <div class=\"colab-df-container\">\n",
              "    <button class=\"colab-df-convert\" onclick=\"convertToInteractive('df-1b2335ae-566b-41e6-88e5-355c9f24fb3c')\"\n",
              "            title=\"Convert this dataframe to an interactive table.\"\n",
              "            style=\"display:none;\">\n",
              "\n",
              "  <svg xmlns=\"http://www.w3.org/2000/svg\" height=\"24px\" viewBox=\"0 -960 960 960\">\n",
              "    <path d=\"M120-120v-720h720v720H120Zm60-500h600v-160H180v160Zm220 220h160v-160H400v160Zm0 220h160v-160H400v160ZM180-400h160v-160H180v160Zm440 0h160v-160H620v160ZM180-180h160v-160H180v160Zm440 0h160v-160H620v160Z\"/>\n",
              "  </svg>\n",
              "    </button>\n",
              "\n",
              "  <style>\n",
              "    .colab-df-container {\n",
              "      display:flex;\n",
              "      gap: 12px;\n",
              "    }\n",
              "\n",
              "    .colab-df-convert {\n",
              "      background-color: #E8F0FE;\n",
              "      border: none;\n",
              "      border-radius: 50%;\n",
              "      cursor: pointer;\n",
              "      display: none;\n",
              "      fill: #1967D2;\n",
              "      height: 32px;\n",
              "      padding: 0 0 0 0;\n",
              "      width: 32px;\n",
              "    }\n",
              "\n",
              "    .colab-df-convert:hover {\n",
              "      background-color: #E2EBFA;\n",
              "      box-shadow: 0px 1px 2px rgba(60, 64, 67, 0.3), 0px 1px 3px 1px rgba(60, 64, 67, 0.15);\n",
              "      fill: #174EA6;\n",
              "    }\n",
              "\n",
              "    .colab-df-buttons div {\n",
              "      margin-bottom: 4px;\n",
              "    }\n",
              "\n",
              "    [theme=dark] .colab-df-convert {\n",
              "      background-color: #3B4455;\n",
              "      fill: #D2E3FC;\n",
              "    }\n",
              "\n",
              "    [theme=dark] .colab-df-convert:hover {\n",
              "      background-color: #434B5C;\n",
              "      box-shadow: 0px 1px 3px 1px rgba(0, 0, 0, 0.15);\n",
              "      filter: drop-shadow(0px 1px 2px rgba(0, 0, 0, 0.3));\n",
              "      fill: #FFFFFF;\n",
              "    }\n",
              "  </style>\n",
              "\n",
              "    <script>\n",
              "      const buttonEl =\n",
              "        document.querySelector('#df-1b2335ae-566b-41e6-88e5-355c9f24fb3c button.colab-df-convert');\n",
              "      buttonEl.style.display =\n",
              "        google.colab.kernel.accessAllowed ? 'block' : 'none';\n",
              "\n",
              "      async function convertToInteractive(key) {\n",
              "        const element = document.querySelector('#df-1b2335ae-566b-41e6-88e5-355c9f24fb3c');\n",
              "        const dataTable =\n",
              "          await google.colab.kernel.invokeFunction('convertToInteractive',\n",
              "                                                    [key], {});\n",
              "        if (!dataTable) return;\n",
              "\n",
              "        const docLinkHtml = 'Like what you see? Visit the ' +\n",
              "          '<a target=\"_blank\" href=https://colab.research.google.com/notebooks/data_table.ipynb>data table notebook</a>'\n",
              "          + ' to learn more about interactive tables.';\n",
              "        element.innerHTML = '';\n",
              "        dataTable['output_type'] = 'display_data';\n",
              "        await google.colab.output.renderOutput(dataTable, element);\n",
              "        const docLink = document.createElement('div');\n",
              "        docLink.innerHTML = docLinkHtml;\n",
              "        element.appendChild(docLink);\n",
              "      }\n",
              "    </script>\n",
              "  </div>\n",
              "\n",
              "\n",
              "<div id=\"df-2c3621a2-13d7-4080-b0a4-a1c627021aa6\">\n",
              "  <button class=\"colab-df-quickchart\" onclick=\"quickchart('df-2c3621a2-13d7-4080-b0a4-a1c627021aa6')\"\n",
              "            title=\"Suggest charts\"\n",
              "            style=\"display:none;\">\n",
              "\n",
              "<svg xmlns=\"http://www.w3.org/2000/svg\" height=\"24px\"viewBox=\"0 0 24 24\"\n",
              "     width=\"24px\">\n",
              "    <g>\n",
              "        <path d=\"M19 3H5c-1.1 0-2 .9-2 2v14c0 1.1.9 2 2 2h14c1.1 0 2-.9 2-2V5c0-1.1-.9-2-2-2zM9 17H7v-7h2v7zm4 0h-2V7h2v10zm4 0h-2v-4h2v4z\"/>\n",
              "    </g>\n",
              "</svg>\n",
              "  </button>\n",
              "\n",
              "<style>\n",
              "  .colab-df-quickchart {\n",
              "      --bg-color: #E8F0FE;\n",
              "      --fill-color: #1967D2;\n",
              "      --hover-bg-color: #E2EBFA;\n",
              "      --hover-fill-color: #174EA6;\n",
              "      --disabled-fill-color: #AAA;\n",
              "      --disabled-bg-color: #DDD;\n",
              "  }\n",
              "\n",
              "  [theme=dark] .colab-df-quickchart {\n",
              "      --bg-color: #3B4455;\n",
              "      --fill-color: #D2E3FC;\n",
              "      --hover-bg-color: #434B5C;\n",
              "      --hover-fill-color: #FFFFFF;\n",
              "      --disabled-bg-color: #3B4455;\n",
              "      --disabled-fill-color: #666;\n",
              "  }\n",
              "\n",
              "  .colab-df-quickchart {\n",
              "    background-color: var(--bg-color);\n",
              "    border: none;\n",
              "    border-radius: 50%;\n",
              "    cursor: pointer;\n",
              "    display: none;\n",
              "    fill: var(--fill-color);\n",
              "    height: 32px;\n",
              "    padding: 0;\n",
              "    width: 32px;\n",
              "  }\n",
              "\n",
              "  .colab-df-quickchart:hover {\n",
              "    background-color: var(--hover-bg-color);\n",
              "    box-shadow: 0 1px 2px rgba(60, 64, 67, 0.3), 0 1px 3px 1px rgba(60, 64, 67, 0.15);\n",
              "    fill: var(--button-hover-fill-color);\n",
              "  }\n",
              "\n",
              "  .colab-df-quickchart-complete:disabled,\n",
              "  .colab-df-quickchart-complete:disabled:hover {\n",
              "    background-color: var(--disabled-bg-color);\n",
              "    fill: var(--disabled-fill-color);\n",
              "    box-shadow: none;\n",
              "  }\n",
              "\n",
              "  .colab-df-spinner {\n",
              "    border: 2px solid var(--fill-color);\n",
              "    border-color: transparent;\n",
              "    border-bottom-color: var(--fill-color);\n",
              "    animation:\n",
              "      spin 1s steps(1) infinite;\n",
              "  }\n",
              "\n",
              "  @keyframes spin {\n",
              "    0% {\n",
              "      border-color: transparent;\n",
              "      border-bottom-color: var(--fill-color);\n",
              "      border-left-color: var(--fill-color);\n",
              "    }\n",
              "    20% {\n",
              "      border-color: transparent;\n",
              "      border-left-color: var(--fill-color);\n",
              "      border-top-color: var(--fill-color);\n",
              "    }\n",
              "    30% {\n",
              "      border-color: transparent;\n",
              "      border-left-color: var(--fill-color);\n",
              "      border-top-color: var(--fill-color);\n",
              "      border-right-color: var(--fill-color);\n",
              "    }\n",
              "    40% {\n",
              "      border-color: transparent;\n",
              "      border-right-color: var(--fill-color);\n",
              "      border-top-color: var(--fill-color);\n",
              "    }\n",
              "    60% {\n",
              "      border-color: transparent;\n",
              "      border-right-color: var(--fill-color);\n",
              "    }\n",
              "    80% {\n",
              "      border-color: transparent;\n",
              "      border-right-color: var(--fill-color);\n",
              "      border-bottom-color: var(--fill-color);\n",
              "    }\n",
              "    90% {\n",
              "      border-color: transparent;\n",
              "      border-bottom-color: var(--fill-color);\n",
              "    }\n",
              "  }\n",
              "</style>\n",
              "\n",
              "  <script>\n",
              "    async function quickchart(key) {\n",
              "      const quickchartButtonEl =\n",
              "        document.querySelector('#' + key + ' button');\n",
              "      quickchartButtonEl.disabled = true;  // To prevent multiple clicks.\n",
              "      quickchartButtonEl.classList.add('colab-df-spinner');\n",
              "      try {\n",
              "        const charts = await google.colab.kernel.invokeFunction(\n",
              "            'suggestCharts', [key], {});\n",
              "      } catch (error) {\n",
              "        console.error('Error during call to suggestCharts:', error);\n",
              "      }\n",
              "      quickchartButtonEl.classList.remove('colab-df-spinner');\n",
              "      quickchartButtonEl.classList.add('colab-df-quickchart-complete');\n",
              "    }\n",
              "    (() => {\n",
              "      let quickchartButtonEl =\n",
              "        document.querySelector('#df-2c3621a2-13d7-4080-b0a4-a1c627021aa6 button');\n",
              "      quickchartButtonEl.style.display =\n",
              "        google.colab.kernel.accessAllowed ? 'block' : 'none';\n",
              "    })();\n",
              "  </script>\n",
              "</div>\n",
              "\n",
              "    </div>\n",
              "  </div>\n"
            ]
          },
          "metadata": {},
          "execution_count": 74
        }
      ]
    },
    {
      "cell_type": "code",
      "source": [
        "y_train = train_df['extraversion'].astype(int)\n",
        "y_test = test_df['extraversion'].astype(int)\n",
        "\n",
        "dtrain_clf = xgb.DMatrix(X_train, y_train, enable_categorical=True)\n",
        "dtest_clf = xgb.DMatrix(X_test, y_test, enable_categorical=True)\n",
        "\n",
        "params = {\"objective\": \"binary:logistic\", \"tree_method\": \"hist\"}\n",
        "\n",
        "model = xgb.train(dtrain=dtrain_clf, params=params,num_boost_round=10)\n",
        "predictions = model.predict(dtest_clf)\n",
        "bin_accuracy(predictions, y_test)"
      ],
      "metadata": {
        "colab": {
          "base_uri": "https://localhost:8080/"
        },
        "id": "4t-HCxm75CEO",
        "outputId": "926444d4-a919-4d7b-9db2-6713b0ca2555"
      },
      "execution_count": null,
      "outputs": [
        {
          "output_type": "execute_result",
          "data": {
            "text/plain": [
              "0.547244774572465"
            ]
          },
          "metadata": {},
          "execution_count": 75
        }
      ]
    },
    {
      "cell_type": "code",
      "source": [
        "file_name = '/content/drive/MyDrive/NLP_project/Models/xgb_ei_seq2seq-12-2.pkl'\n",
        "pickle.dump(model, open(file_name, \"wb\"))"
      ],
      "metadata": {
        "id": "kmZoRBnX5yER"
      },
      "execution_count": null,
      "outputs": []
    },
    {
      "cell_type": "code",
      "source": [
        "y_train = train_df['sensing'].astype(int)\n",
        "y_test = test_df['sensing'].astype(int)\n",
        "\n",
        "dtrain_clf = xgb.DMatrix(X_train, y_train, enable_categorical=True)\n",
        "dtest_clf = xgb.DMatrix(X_test, y_test, enable_categorical=True)\n",
        "\n",
        "params = {\"objective\": \"binary:logistic\", \"tree_method\": \"hist\"}\n",
        "\n",
        "model = xgb.train(dtrain=dtrain_clf, params=params,num_boost_round=10)\n",
        "predictions = model.predict(dtest_clf)\n",
        "bin_accuracy(predictions, y_test)"
      ],
      "metadata": {
        "colab": {
          "base_uri": "https://localhost:8080/"
        },
        "id": "cIxQDe6A5tmH",
        "outputId": "401df9df-9fd7-43e7-eb62-6f9a49ef0100"
      },
      "execution_count": null,
      "outputs": [
        {
          "output_type": "execute_result",
          "data": {
            "text/plain": [
              "0.6693729486958024"
            ]
          },
          "metadata": {},
          "execution_count": 77
        }
      ]
    },
    {
      "cell_type": "code",
      "source": [
        "file_name = '/content/drive/MyDrive/NLP_project/Models/xgb_sn_seq2seq-12-2.pkl'\n",
        "pickle.dump(model, open(file_name, \"wb\"))"
      ],
      "metadata": {
        "id": "pD-7TuDA6MKK"
      },
      "execution_count": null,
      "outputs": []
    },
    {
      "cell_type": "code",
      "source": [
        "y_train = train_df['thinking'].astype(int)\n",
        "y_test = test_df['thinking'].astype(int)\n",
        "\n",
        "dtrain_clf = xgb.DMatrix(X_train, y_train, enable_categorical=True)\n",
        "dtest_clf = xgb.DMatrix(X_test, y_test, enable_categorical=True)\n",
        "\n",
        "params = {\"objective\": \"binary:logistic\", \"tree_method\": \"hist\"}\n",
        "\n",
        "model = xgb.train(dtrain=dtrain_clf, params=params,num_boost_round=10)\n",
        "predictions = model.predict(dtest_clf)\n",
        "bin_accuracy(predictions, y_test)"
      ],
      "metadata": {
        "colab": {
          "base_uri": "https://localhost:8080/"
        },
        "id": "ymKOOyHs6RSj",
        "outputId": "8ded506b-1226-41e0-e912-666aa682105b"
      },
      "execution_count": null,
      "outputs": [
        {
          "output_type": "execute_result",
          "data": {
            "text/plain": [
              "0.7215408533425463"
            ]
          },
          "metadata": {},
          "execution_count": 79
        }
      ]
    },
    {
      "cell_type": "code",
      "source": [
        "file_name = '/content/drive/MyDrive/NLP_project/Models/xgb_tf_seq2seq-12-2.pkl'\n",
        "pickle.dump(model, open(file_name, \"wb\"))"
      ],
      "metadata": {
        "id": "tdHeYNiE6RSj"
      },
      "execution_count": null,
      "outputs": []
    },
    {
      "cell_type": "code",
      "source": [
        "y_train = train_df['judging'].astype(int)\n",
        "y_test = test_df['judging'].astype(int)\n",
        "\n",
        "dtrain_clf = xgb.DMatrix(X_train, y_train, enable_categorical=True)\n",
        "dtest_clf = xgb.DMatrix(X_test, y_test, enable_categorical=True)\n",
        "\n",
        "params = {\"objective\": \"binary:logistic\", \"tree_method\": \"hist\"}\n",
        "\n",
        "model = xgb.train(dtrain=dtrain_clf, params=params,num_boost_round=10)\n",
        "predictions = model.predict(dtest_clf)\n",
        "bin_accuracy(predictions, y_test)"
      ],
      "metadata": {
        "colab": {
          "base_uri": "https://localhost:8080/"
        },
        "id": "SYk1BkpC6RqD",
        "outputId": "2d0fb905-db65-49e2-ca9f-83356e9c50e4"
      },
      "execution_count": null,
      "outputs": [
        {
          "output_type": "execute_result",
          "data": {
            "text/plain": [
              "0.5023320089825531"
            ]
          },
          "metadata": {},
          "execution_count": 81
        }
      ]
    },
    {
      "cell_type": "code",
      "source": [
        "file_name = '/content/drive/MyDrive/NLP_project/Models/xgb_jp_seq2seq-12-2.pkl'\n",
        "pickle.dump(model, open(file_name, \"wb\"))"
      ],
      "metadata": {
        "id": "NpP4OK9r6RqE"
      },
      "execution_count": null,
      "outputs": []
    },
    {
      "cell_type": "markdown",
      "source": [
        "## Combining individual predictions"
      ],
      "metadata": {
        "id": "skUVDLVp_BRy"
      }
    },
    {
      "cell_type": "code",
      "source": [
        "model_ei = pickle.load(open('/content/drive/MyDrive/NLP_project/Models/xgb_ei_seq2seq-12-2.pkl', \"rb\"))\n",
        "model_sn = pickle.load(open('/content/drive/MyDrive/NLP_project/Models/xgb_sn_seq2seq-12-2.pkl', \"rb\"))\n",
        "model_tf = pickle.load(open('/content/drive/MyDrive/NLP_project/Models/xgb_tf_seq2seq-12-2.pkl', \"rb\"))\n",
        "model_jp = pickle.load(open('/content/drive/MyDrive/NLP_project/Models/xgb_jp_seq2seq-12-2.pkl', \"rb\"))"
      ],
      "metadata": {
        "id": "EnHfQCTe_A8U"
      },
      "execution_count": null,
      "outputs": []
    },
    {
      "cell_type": "code",
      "source": [
        "dtest_clf = xgb.DMatrix(X_test, test_df['extraversion'].astype(int), enable_categorical=True)\n",
        "\n",
        "predictions_ei = model_ei.predict(dtest_clf)\n",
        "predictions_sn = model_sn.predict(dtest_clf)\n",
        "predictions_tf = model_tf.predict(dtest_clf)\n",
        "predictions_jp = model_jp.predict(dtest_clf)\n",
        "\n",
        "predictions_ei = np.where(predictions_ei > 0.5, 'E', 'I')\n",
        "predictions_sn = np.where(predictions_sn > 0.5, 'S', 'N')\n",
        "predictions_tf = np.where(predictions_tf > 0.5, 'T', 'F')\n",
        "predictions_jp = np.where(predictions_jp > 0.5, 'J', 'P')\n",
        "\n",
        "predictions_mbti = np.char.add(np.char.add(predictions_ei, predictions_sn), np.char.add(predictions_tf, predictions_jp))"
      ],
      "metadata": {
        "id": "GhTGxdg2_Q9j"
      },
      "execution_count": null,
      "outputs": []
    },
    {
      "cell_type": "code",
      "source": [
        "predictions_mbti_num = np.array([mbti_dict[mbti] for mbti in predictions_mbti])"
      ],
      "metadata": {
        "id": "hs7UeAsYA2rB"
      },
      "execution_count": null,
      "outputs": []
    },
    {
      "cell_type": "code",
      "source": [
        "(predictions_mbti_num == test_df['label'].astype(int)).mean()"
      ],
      "metadata": {
        "colab": {
          "base_uri": "https://localhost:8080/"
        },
        "id": "S8BZCLHDBFi9",
        "outputId": "bac76ec4-f8ab-476b-d817-503951338ea7"
      },
      "execution_count": null,
      "outputs": [
        {
          "output_type": "execute_result",
          "data": {
            "text/plain": [
              "0.17015028502332008"
            ]
          },
          "metadata": {},
          "execution_count": 86
        }
      ]
    },
    {
      "cell_type": "code",
      "source": [
        "len(test_df['label'])"
      ],
      "metadata": {
        "colab": {
          "base_uri": "https://localhost:8080/"
        },
        "id": "v0ntz5QT00h9",
        "outputId": "343fd075-e8df-47c4-c91d-f9a8535c914e"
      },
      "execution_count": null,
      "outputs": [
        {
          "output_type": "execute_result",
          "data": {
            "text/plain": [
              "5789"
            ]
          },
          "metadata": {},
          "execution_count": 87
        }
      ]
    },
    {
      "cell_type": "code",
      "source": [
        "unique_values, counts = np.unique(predictions_mbti_num, return_counts=True)\n",
        "\n",
        "# Print the results\n",
        "for value, count in zip(unique_values, counts):\n",
        "    print(f\"{value} occurs {count / len(predictions_mbti_num)} times\")"
      ],
      "metadata": {
        "colab": {
          "base_uri": "https://localhost:8080/"
        },
        "id": "MuWmgEq_0Fwg",
        "outputId": "823deb63-0f42-4b92-d56c-6d7692210f79"
      },
      "execution_count": null,
      "outputs": [
        {
          "output_type": "stream",
          "name": "stdout",
          "text": [
            "0 occurs 0.008464328899637243 times\n",
            "1 occurs 0.0008637070305752289 times\n",
            "2 occurs 0.009328035930212471 times\n",
            "3 occurs 0.002245638279495595 times\n",
            "4 occurs 0.2105717740542408 times\n",
            "5 occurs 0.07445154603558472 times\n",
            "6 occurs 0.5500086370703058 times\n",
            "7 occurs 0.06425980307479703 times\n",
            "9 occurs 0.018137847642079808 times\n",
            "11 occurs 0.011400932803593021 times\n",
            "12 occurs 0.00017274140611504577 times\n",
            "13 occurs 0.0347210226291242 times\n",
            "14 occurs 0.0010364484366902746 times\n",
            "15 occurs 0.014337536707548799 times\n"
          ]
        }
      ]
    },
    {
      "cell_type": "code",
      "source": [
        "for label in range(16):\n",
        "  print(label, sum(train_df['label']==label) / len(train_df))"
      ],
      "metadata": {
        "colab": {
          "base_uri": "https://localhost:8080/"
        },
        "id": "tm2gBlrS2JeS",
        "outputId": "141506ed-7c22-4f11-ff83-5a29632c4c2e"
      },
      "execution_count": null,
      "outputs": [
        {
          "output_type": "stream",
          "name": "stdout",
          "text": [
            "0 0.06509296961758593\n",
            "1 0.019391212733847776\n",
            "2 0.0731797602437427\n",
            "3 0.054813633645604945\n",
            "4 0.08266180699906034\n",
            "5 0.08485435234488453\n",
            "6 0.1651812409237165\n",
            "7 0.1201059255673567\n",
            "8 0.03271733249807796\n",
            "9 0.0591702497223725\n",
            "10 0.0448190438224323\n",
            "11 0.038810900082576386\n",
            "12 0.030040718699279594\n",
            "13 0.1082889603918107\n",
            "14 0.0011389845952333494\n",
            "15 0.01973290811241778\n"
          ]
        }
      ]
    },
    {
      "cell_type": "code",
      "source": [
        "dtest_clf = xgb.DMatrix(X_train, train_df['extraversion'].astype(int), enable_categorical=True)\n",
        "\n",
        "predictions_ei = model_ei.predict(dtest_clf)\n",
        "predictions_sn = model_sn.predict(dtest_clf)\n",
        "predictions_tf = model_tf.predict(dtest_clf)\n",
        "predictions_jp = model_jp.predict(dtest_clf)\n",
        "\n",
        "predictions_ei = np.where(predictions_ei > 0.5, 'E', 'I')\n",
        "predictions_sn = np.where(predictions_sn > 0.5, 'S', 'N')\n",
        "predictions_tf = np.where(predictions_tf > 0.5, 'T', 'F')\n",
        "predictions_jp = np.where(predictions_jp > 0.5, 'J', 'P')\n",
        "\n",
        "predictions_mbti = np.char.add(np.char.add(predictions_ei, predictions_sn), np.char.add(predictions_tf, predictions_jp))\n",
        "\n",
        "predictions_mbti_num = np.array([mbti_dict[mbti] for mbti in predictions_mbti])\n",
        "\n",
        "(predictions_mbti_num == train_df['label'].astype(int)).mean()"
      ],
      "metadata": {
        "colab": {
          "base_uri": "https://localhost:8080/"
        },
        "id": "ODkUscKuNO4s",
        "outputId": "54962ed4-5a77-4e65-edc8-2bc6d3e0c73a"
      },
      "execution_count": null,
      "outputs": [
        {
          "output_type": "execute_result",
          "data": {
            "text/plain": [
              "0.24448304336683846"
            ]
          },
          "metadata": {},
          "execution_count": 90
        }
      ]
    },
    {
      "cell_type": "markdown",
      "source": [
        "Results:\n",
        "\n",
        "0.222142601218201 accuracy on 20% of data\n",
        "\n",
        "0.268417658019206 accuracy on 100% of data"
      ],
      "metadata": {
        "id": "xWUfiLGY_cFZ"
      }
    },
    {
      "cell_type": "markdown",
      "source": [],
      "metadata": {
        "id": "mQgdxLYHdIdl"
      }
    }
  ]
}