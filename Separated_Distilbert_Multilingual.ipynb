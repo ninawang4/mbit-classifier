{
  "nbformat": 4,
  "nbformat_minor": 0,
  "metadata": {
    "colab": {
      "provenance": [],
      "toc_visible": true,
      "include_colab_link": true
    },
    "kernelspec": {
      "name": "python3",
      "display_name": "Python 3"
    },
    "accelerator": "GPU",
    "widgets": {
      "application/vnd.jupyter.widget-state+json": {
        "80027f702ae44115bda843676ff7147a": {
          "model_module": "@jupyter-widgets/controls",
          "model_name": "HBoxModel",
          "model_module_version": "1.5.0",
          "state": {
            "_dom_classes": [],
            "_model_module": "@jupyter-widgets/controls",
            "_model_module_version": "1.5.0",
            "_model_name": "HBoxModel",
            "_view_count": null,
            "_view_module": "@jupyter-widgets/controls",
            "_view_module_version": "1.5.0",
            "_view_name": "HBoxView",
            "box_style": "",
            "children": [
              "IPY_MODEL_e38bb46e4bac4e168728505ecb0a0bb8",
              "IPY_MODEL_c43a4df071074360b5eef95a68514d1a",
              "IPY_MODEL_8874d73bf311463b9f5a3c2d64ed73e5"
            ],
            "layout": "IPY_MODEL_01d10dd211334ff19f784b7a5eb5334e"
          }
        },
        "e38bb46e4bac4e168728505ecb0a0bb8": {
          "model_module": "@jupyter-widgets/controls",
          "model_name": "HTMLModel",
          "model_module_version": "1.5.0",
          "state": {
            "_dom_classes": [],
            "_model_module": "@jupyter-widgets/controls",
            "_model_module_version": "1.5.0",
            "_model_name": "HTMLModel",
            "_view_count": null,
            "_view_module": "@jupyter-widgets/controls",
            "_view_module_version": "1.5.0",
            "_view_name": "HTMLView",
            "description": "",
            "description_tooltip": null,
            "layout": "IPY_MODEL_c1f979e0dd794300aca902c6d68cc5a6",
            "placeholder": "​",
            "style": "IPY_MODEL_86b886bd193d4f7ebceb4a40fa01fe0b",
            "value": "model.safetensors: 100%"
          }
        },
        "c43a4df071074360b5eef95a68514d1a": {
          "model_module": "@jupyter-widgets/controls",
          "model_name": "FloatProgressModel",
          "model_module_version": "1.5.0",
          "state": {
            "_dom_classes": [],
            "_model_module": "@jupyter-widgets/controls",
            "_model_module_version": "1.5.0",
            "_model_name": "FloatProgressModel",
            "_view_count": null,
            "_view_module": "@jupyter-widgets/controls",
            "_view_module_version": "1.5.0",
            "_view_name": "ProgressView",
            "bar_style": "success",
            "description": "",
            "description_tooltip": null,
            "layout": "IPY_MODEL_c0e2e88b1e3f4b9daa79e10cfb32b5f0",
            "max": 541795680,
            "min": 0,
            "orientation": "horizontal",
            "style": "IPY_MODEL_17f559dc9bfc49f59fd0924ebbc58380",
            "value": 541795680
          }
        },
        "8874d73bf311463b9f5a3c2d64ed73e5": {
          "model_module": "@jupyter-widgets/controls",
          "model_name": "HTMLModel",
          "model_module_version": "1.5.0",
          "state": {
            "_dom_classes": [],
            "_model_module": "@jupyter-widgets/controls",
            "_model_module_version": "1.5.0",
            "_model_name": "HTMLModel",
            "_view_count": null,
            "_view_module": "@jupyter-widgets/controls",
            "_view_module_version": "1.5.0",
            "_view_name": "HTMLView",
            "description": "",
            "description_tooltip": null,
            "layout": "IPY_MODEL_8945765bc5fc4e0bbbc7fe93c34c575e",
            "placeholder": "​",
            "style": "IPY_MODEL_7d7865292c334358b036a3b5a3c0b933",
            "value": " 542M/542M [00:04&lt;00:00, 86.4MB/s]"
          }
        },
        "01d10dd211334ff19f784b7a5eb5334e": {
          "model_module": "@jupyter-widgets/base",
          "model_name": "LayoutModel",
          "model_module_version": "1.2.0",
          "state": {
            "_model_module": "@jupyter-widgets/base",
            "_model_module_version": "1.2.0",
            "_model_name": "LayoutModel",
            "_view_count": null,
            "_view_module": "@jupyter-widgets/base",
            "_view_module_version": "1.2.0",
            "_view_name": "LayoutView",
            "align_content": null,
            "align_items": null,
            "align_self": null,
            "border": null,
            "bottom": null,
            "display": null,
            "flex": null,
            "flex_flow": null,
            "grid_area": null,
            "grid_auto_columns": null,
            "grid_auto_flow": null,
            "grid_auto_rows": null,
            "grid_column": null,
            "grid_gap": null,
            "grid_row": null,
            "grid_template_areas": null,
            "grid_template_columns": null,
            "grid_template_rows": null,
            "height": null,
            "justify_content": null,
            "justify_items": null,
            "left": null,
            "margin": null,
            "max_height": null,
            "max_width": null,
            "min_height": null,
            "min_width": null,
            "object_fit": null,
            "object_position": null,
            "order": null,
            "overflow": null,
            "overflow_x": null,
            "overflow_y": null,
            "padding": null,
            "right": null,
            "top": null,
            "visibility": null,
            "width": null
          }
        },
        "c1f979e0dd794300aca902c6d68cc5a6": {
          "model_module": "@jupyter-widgets/base",
          "model_name": "LayoutModel",
          "model_module_version": "1.2.0",
          "state": {
            "_model_module": "@jupyter-widgets/base",
            "_model_module_version": "1.2.0",
            "_model_name": "LayoutModel",
            "_view_count": null,
            "_view_module": "@jupyter-widgets/base",
            "_view_module_version": "1.2.0",
            "_view_name": "LayoutView",
            "align_content": null,
            "align_items": null,
            "align_self": null,
            "border": null,
            "bottom": null,
            "display": null,
            "flex": null,
            "flex_flow": null,
            "grid_area": null,
            "grid_auto_columns": null,
            "grid_auto_flow": null,
            "grid_auto_rows": null,
            "grid_column": null,
            "grid_gap": null,
            "grid_row": null,
            "grid_template_areas": null,
            "grid_template_columns": null,
            "grid_template_rows": null,
            "height": null,
            "justify_content": null,
            "justify_items": null,
            "left": null,
            "margin": null,
            "max_height": null,
            "max_width": null,
            "min_height": null,
            "min_width": null,
            "object_fit": null,
            "object_position": null,
            "order": null,
            "overflow": null,
            "overflow_x": null,
            "overflow_y": null,
            "padding": null,
            "right": null,
            "top": null,
            "visibility": null,
            "width": null
          }
        },
        "86b886bd193d4f7ebceb4a40fa01fe0b": {
          "model_module": "@jupyter-widgets/controls",
          "model_name": "DescriptionStyleModel",
          "model_module_version": "1.5.0",
          "state": {
            "_model_module": "@jupyter-widgets/controls",
            "_model_module_version": "1.5.0",
            "_model_name": "DescriptionStyleModel",
            "_view_count": null,
            "_view_module": "@jupyter-widgets/base",
            "_view_module_version": "1.2.0",
            "_view_name": "StyleView",
            "description_width": ""
          }
        },
        "c0e2e88b1e3f4b9daa79e10cfb32b5f0": {
          "model_module": "@jupyter-widgets/base",
          "model_name": "LayoutModel",
          "model_module_version": "1.2.0",
          "state": {
            "_model_module": "@jupyter-widgets/base",
            "_model_module_version": "1.2.0",
            "_model_name": "LayoutModel",
            "_view_count": null,
            "_view_module": "@jupyter-widgets/base",
            "_view_module_version": "1.2.0",
            "_view_name": "LayoutView",
            "align_content": null,
            "align_items": null,
            "align_self": null,
            "border": null,
            "bottom": null,
            "display": null,
            "flex": null,
            "flex_flow": null,
            "grid_area": null,
            "grid_auto_columns": null,
            "grid_auto_flow": null,
            "grid_auto_rows": null,
            "grid_column": null,
            "grid_gap": null,
            "grid_row": null,
            "grid_template_areas": null,
            "grid_template_columns": null,
            "grid_template_rows": null,
            "height": null,
            "justify_content": null,
            "justify_items": null,
            "left": null,
            "margin": null,
            "max_height": null,
            "max_width": null,
            "min_height": null,
            "min_width": null,
            "object_fit": null,
            "object_position": null,
            "order": null,
            "overflow": null,
            "overflow_x": null,
            "overflow_y": null,
            "padding": null,
            "right": null,
            "top": null,
            "visibility": null,
            "width": null
          }
        },
        "17f559dc9bfc49f59fd0924ebbc58380": {
          "model_module": "@jupyter-widgets/controls",
          "model_name": "ProgressStyleModel",
          "model_module_version": "1.5.0",
          "state": {
            "_model_module": "@jupyter-widgets/controls",
            "_model_module_version": "1.5.0",
            "_model_name": "ProgressStyleModel",
            "_view_count": null,
            "_view_module": "@jupyter-widgets/base",
            "_view_module_version": "1.2.0",
            "_view_name": "StyleView",
            "bar_color": null,
            "description_width": ""
          }
        },
        "8945765bc5fc4e0bbbc7fe93c34c575e": {
          "model_module": "@jupyter-widgets/base",
          "model_name": "LayoutModel",
          "model_module_version": "1.2.0",
          "state": {
            "_model_module": "@jupyter-widgets/base",
            "_model_module_version": "1.2.0",
            "_model_name": "LayoutModel",
            "_view_count": null,
            "_view_module": "@jupyter-widgets/base",
            "_view_module_version": "1.2.0",
            "_view_name": "LayoutView",
            "align_content": null,
            "align_items": null,
            "align_self": null,
            "border": null,
            "bottom": null,
            "display": null,
            "flex": null,
            "flex_flow": null,
            "grid_area": null,
            "grid_auto_columns": null,
            "grid_auto_flow": null,
            "grid_auto_rows": null,
            "grid_column": null,
            "grid_gap": null,
            "grid_row": null,
            "grid_template_areas": null,
            "grid_template_columns": null,
            "grid_template_rows": null,
            "height": null,
            "justify_content": null,
            "justify_items": null,
            "left": null,
            "margin": null,
            "max_height": null,
            "max_width": null,
            "min_height": null,
            "min_width": null,
            "object_fit": null,
            "object_position": null,
            "order": null,
            "overflow": null,
            "overflow_x": null,
            "overflow_y": null,
            "padding": null,
            "right": null,
            "top": null,
            "visibility": null,
            "width": null
          }
        },
        "7d7865292c334358b036a3b5a3c0b933": {
          "model_module": "@jupyter-widgets/controls",
          "model_name": "DescriptionStyleModel",
          "model_module_version": "1.5.0",
          "state": {
            "_model_module": "@jupyter-widgets/controls",
            "_model_module_version": "1.5.0",
            "_model_name": "DescriptionStyleModel",
            "_view_count": null,
            "_view_module": "@jupyter-widgets/base",
            "_view_module_version": "1.2.0",
            "_view_name": "StyleView",
            "description_width": ""
          }
        },
        "14aa72dae6f44fde885a3721354ab04a": {
          "model_module": "@jupyter-widgets/controls",
          "model_name": "HBoxModel",
          "model_module_version": "1.5.0",
          "state": {
            "_dom_classes": [],
            "_model_module": "@jupyter-widgets/controls",
            "_model_module_version": "1.5.0",
            "_model_name": "HBoxModel",
            "_view_count": null,
            "_view_module": "@jupyter-widgets/controls",
            "_view_module_version": "1.5.0",
            "_view_name": "HBoxView",
            "box_style": "",
            "children": [
              "IPY_MODEL_a29a9c70ad11417dbf0850a3dc14e61f",
              "IPY_MODEL_5f384c841d434884b2cc39ce652ac42c",
              "IPY_MODEL_48ada7441d3e48d5ac843ce6fd2d98a0"
            ],
            "layout": "IPY_MODEL_8c354638a4fa4f47b78b17be9c46f32d"
          }
        },
        "a29a9c70ad11417dbf0850a3dc14e61f": {
          "model_module": "@jupyter-widgets/controls",
          "model_name": "HTMLModel",
          "model_module_version": "1.5.0",
          "state": {
            "_dom_classes": [],
            "_model_module": "@jupyter-widgets/controls",
            "_model_module_version": "1.5.0",
            "_model_name": "HTMLModel",
            "_view_count": null,
            "_view_module": "@jupyter-widgets/controls",
            "_view_module_version": "1.5.0",
            "_view_name": "HTMLView",
            "description": "",
            "description_tooltip": null,
            "layout": "IPY_MODEL_e32623aec08e4e8c87c919c6f33aa71e",
            "placeholder": "​",
            "style": "IPY_MODEL_80f7ec952c374c43b0103d37e41375a8",
            "value": "tokenizer_config.json: 100%"
          }
        },
        "5f384c841d434884b2cc39ce652ac42c": {
          "model_module": "@jupyter-widgets/controls",
          "model_name": "FloatProgressModel",
          "model_module_version": "1.5.0",
          "state": {
            "_dom_classes": [],
            "_model_module": "@jupyter-widgets/controls",
            "_model_module_version": "1.5.0",
            "_model_name": "FloatProgressModel",
            "_view_count": null,
            "_view_module": "@jupyter-widgets/controls",
            "_view_module_version": "1.5.0",
            "_view_name": "ProgressView",
            "bar_style": "success",
            "description": "",
            "description_tooltip": null,
            "layout": "IPY_MODEL_5429fe7c46044531990e00fa2a1d08ef",
            "max": 29,
            "min": 0,
            "orientation": "horizontal",
            "style": "IPY_MODEL_71a8818839114661b341cd74383e1c7c",
            "value": 29
          }
        },
        "48ada7441d3e48d5ac843ce6fd2d98a0": {
          "model_module": "@jupyter-widgets/controls",
          "model_name": "HTMLModel",
          "model_module_version": "1.5.0",
          "state": {
            "_dom_classes": [],
            "_model_module": "@jupyter-widgets/controls",
            "_model_module_version": "1.5.0",
            "_model_name": "HTMLModel",
            "_view_count": null,
            "_view_module": "@jupyter-widgets/controls",
            "_view_module_version": "1.5.0",
            "_view_name": "HTMLView",
            "description": "",
            "description_tooltip": null,
            "layout": "IPY_MODEL_a42d9507c83e4a7ba26990782a35b406",
            "placeholder": "​",
            "style": "IPY_MODEL_e9161624184c461fbdc2ef2621fca01f",
            "value": " 29.0/29.0 [00:00&lt;00:00, 730B/s]"
          }
        },
        "8c354638a4fa4f47b78b17be9c46f32d": {
          "model_module": "@jupyter-widgets/base",
          "model_name": "LayoutModel",
          "model_module_version": "1.2.0",
          "state": {
            "_model_module": "@jupyter-widgets/base",
            "_model_module_version": "1.2.0",
            "_model_name": "LayoutModel",
            "_view_count": null,
            "_view_module": "@jupyter-widgets/base",
            "_view_module_version": "1.2.0",
            "_view_name": "LayoutView",
            "align_content": null,
            "align_items": null,
            "align_self": null,
            "border": null,
            "bottom": null,
            "display": null,
            "flex": null,
            "flex_flow": null,
            "grid_area": null,
            "grid_auto_columns": null,
            "grid_auto_flow": null,
            "grid_auto_rows": null,
            "grid_column": null,
            "grid_gap": null,
            "grid_row": null,
            "grid_template_areas": null,
            "grid_template_columns": null,
            "grid_template_rows": null,
            "height": null,
            "justify_content": null,
            "justify_items": null,
            "left": null,
            "margin": null,
            "max_height": null,
            "max_width": null,
            "min_height": null,
            "min_width": null,
            "object_fit": null,
            "object_position": null,
            "order": null,
            "overflow": null,
            "overflow_x": null,
            "overflow_y": null,
            "padding": null,
            "right": null,
            "top": null,
            "visibility": null,
            "width": null
          }
        },
        "e32623aec08e4e8c87c919c6f33aa71e": {
          "model_module": "@jupyter-widgets/base",
          "model_name": "LayoutModel",
          "model_module_version": "1.2.0",
          "state": {
            "_model_module": "@jupyter-widgets/base",
            "_model_module_version": "1.2.0",
            "_model_name": "LayoutModel",
            "_view_count": null,
            "_view_module": "@jupyter-widgets/base",
            "_view_module_version": "1.2.0",
            "_view_name": "LayoutView",
            "align_content": null,
            "align_items": null,
            "align_self": null,
            "border": null,
            "bottom": null,
            "display": null,
            "flex": null,
            "flex_flow": null,
            "grid_area": null,
            "grid_auto_columns": null,
            "grid_auto_flow": null,
            "grid_auto_rows": null,
            "grid_column": null,
            "grid_gap": null,
            "grid_row": null,
            "grid_template_areas": null,
            "grid_template_columns": null,
            "grid_template_rows": null,
            "height": null,
            "justify_content": null,
            "justify_items": null,
            "left": null,
            "margin": null,
            "max_height": null,
            "max_width": null,
            "min_height": null,
            "min_width": null,
            "object_fit": null,
            "object_position": null,
            "order": null,
            "overflow": null,
            "overflow_x": null,
            "overflow_y": null,
            "padding": null,
            "right": null,
            "top": null,
            "visibility": null,
            "width": null
          }
        },
        "80f7ec952c374c43b0103d37e41375a8": {
          "model_module": "@jupyter-widgets/controls",
          "model_name": "DescriptionStyleModel",
          "model_module_version": "1.5.0",
          "state": {
            "_model_module": "@jupyter-widgets/controls",
            "_model_module_version": "1.5.0",
            "_model_name": "DescriptionStyleModel",
            "_view_count": null,
            "_view_module": "@jupyter-widgets/base",
            "_view_module_version": "1.2.0",
            "_view_name": "StyleView",
            "description_width": ""
          }
        },
        "5429fe7c46044531990e00fa2a1d08ef": {
          "model_module": "@jupyter-widgets/base",
          "model_name": "LayoutModel",
          "model_module_version": "1.2.0",
          "state": {
            "_model_module": "@jupyter-widgets/base",
            "_model_module_version": "1.2.0",
            "_model_name": "LayoutModel",
            "_view_count": null,
            "_view_module": "@jupyter-widgets/base",
            "_view_module_version": "1.2.0",
            "_view_name": "LayoutView",
            "align_content": null,
            "align_items": null,
            "align_self": null,
            "border": null,
            "bottom": null,
            "display": null,
            "flex": null,
            "flex_flow": null,
            "grid_area": null,
            "grid_auto_columns": null,
            "grid_auto_flow": null,
            "grid_auto_rows": null,
            "grid_column": null,
            "grid_gap": null,
            "grid_row": null,
            "grid_template_areas": null,
            "grid_template_columns": null,
            "grid_template_rows": null,
            "height": null,
            "justify_content": null,
            "justify_items": null,
            "left": null,
            "margin": null,
            "max_height": null,
            "max_width": null,
            "min_height": null,
            "min_width": null,
            "object_fit": null,
            "object_position": null,
            "order": null,
            "overflow": null,
            "overflow_x": null,
            "overflow_y": null,
            "padding": null,
            "right": null,
            "top": null,
            "visibility": null,
            "width": null
          }
        },
        "71a8818839114661b341cd74383e1c7c": {
          "model_module": "@jupyter-widgets/controls",
          "model_name": "ProgressStyleModel",
          "model_module_version": "1.5.0",
          "state": {
            "_model_module": "@jupyter-widgets/controls",
            "_model_module_version": "1.5.0",
            "_model_name": "ProgressStyleModel",
            "_view_count": null,
            "_view_module": "@jupyter-widgets/base",
            "_view_module_version": "1.2.0",
            "_view_name": "StyleView",
            "bar_color": null,
            "description_width": ""
          }
        },
        "a42d9507c83e4a7ba26990782a35b406": {
          "model_module": "@jupyter-widgets/base",
          "model_name": "LayoutModel",
          "model_module_version": "1.2.0",
          "state": {
            "_model_module": "@jupyter-widgets/base",
            "_model_module_version": "1.2.0",
            "_model_name": "LayoutModel",
            "_view_count": null,
            "_view_module": "@jupyter-widgets/base",
            "_view_module_version": "1.2.0",
            "_view_name": "LayoutView",
            "align_content": null,
            "align_items": null,
            "align_self": null,
            "border": null,
            "bottom": null,
            "display": null,
            "flex": null,
            "flex_flow": null,
            "grid_area": null,
            "grid_auto_columns": null,
            "grid_auto_flow": null,
            "grid_auto_rows": null,
            "grid_column": null,
            "grid_gap": null,
            "grid_row": null,
            "grid_template_areas": null,
            "grid_template_columns": null,
            "grid_template_rows": null,
            "height": null,
            "justify_content": null,
            "justify_items": null,
            "left": null,
            "margin": null,
            "max_height": null,
            "max_width": null,
            "min_height": null,
            "min_width": null,
            "object_fit": null,
            "object_position": null,
            "order": null,
            "overflow": null,
            "overflow_x": null,
            "overflow_y": null,
            "padding": null,
            "right": null,
            "top": null,
            "visibility": null,
            "width": null
          }
        },
        "e9161624184c461fbdc2ef2621fca01f": {
          "model_module": "@jupyter-widgets/controls",
          "model_name": "DescriptionStyleModel",
          "model_module_version": "1.5.0",
          "state": {
            "_model_module": "@jupyter-widgets/controls",
            "_model_module_version": "1.5.0",
            "_model_name": "DescriptionStyleModel",
            "_view_count": null,
            "_view_module": "@jupyter-widgets/base",
            "_view_module_version": "1.2.0",
            "_view_name": "StyleView",
            "description_width": ""
          }
        },
        "68279ab4dd7e45d68f7374c957b79deb": {
          "model_module": "@jupyter-widgets/controls",
          "model_name": "HBoxModel",
          "model_module_version": "1.5.0",
          "state": {
            "_dom_classes": [],
            "_model_module": "@jupyter-widgets/controls",
            "_model_module_version": "1.5.0",
            "_model_name": "HBoxModel",
            "_view_count": null,
            "_view_module": "@jupyter-widgets/controls",
            "_view_module_version": "1.5.0",
            "_view_name": "HBoxView",
            "box_style": "",
            "children": [
              "IPY_MODEL_320ae1228c974207b62b4f21f6a82de9",
              "IPY_MODEL_b8c30f9d91374237abf6aff092d670bd",
              "IPY_MODEL_a8035e8195d34699b394606d6cd54d11"
            ],
            "layout": "IPY_MODEL_8596d1b5b9e14a42b7dfc19287b8d2e3"
          }
        },
        "320ae1228c974207b62b4f21f6a82de9": {
          "model_module": "@jupyter-widgets/controls",
          "model_name": "HTMLModel",
          "model_module_version": "1.5.0",
          "state": {
            "_dom_classes": [],
            "_model_module": "@jupyter-widgets/controls",
            "_model_module_version": "1.5.0",
            "_model_name": "HTMLModel",
            "_view_count": null,
            "_view_module": "@jupyter-widgets/controls",
            "_view_module_version": "1.5.0",
            "_view_name": "HTMLView",
            "description": "",
            "description_tooltip": null,
            "layout": "IPY_MODEL_367a7ffa8aff420f9a14f17f600e7d40",
            "placeholder": "​",
            "style": "IPY_MODEL_f170f6fa69714f5d996d89a6a05b6295",
            "value": "vocab.txt: 100%"
          }
        },
        "b8c30f9d91374237abf6aff092d670bd": {
          "model_module": "@jupyter-widgets/controls",
          "model_name": "FloatProgressModel",
          "model_module_version": "1.5.0",
          "state": {
            "_dom_classes": [],
            "_model_module": "@jupyter-widgets/controls",
            "_model_module_version": "1.5.0",
            "_model_name": "FloatProgressModel",
            "_view_count": null,
            "_view_module": "@jupyter-widgets/controls",
            "_view_module_version": "1.5.0",
            "_view_name": "ProgressView",
            "bar_style": "success",
            "description": "",
            "description_tooltip": null,
            "layout": "IPY_MODEL_53337361035748ffb19e870c41323366",
            "max": 995526,
            "min": 0,
            "orientation": "horizontal",
            "style": "IPY_MODEL_5ecda54e6a5645378a27c0e2a939a9e6",
            "value": 995526
          }
        },
        "a8035e8195d34699b394606d6cd54d11": {
          "model_module": "@jupyter-widgets/controls",
          "model_name": "HTMLModel",
          "model_module_version": "1.5.0",
          "state": {
            "_dom_classes": [],
            "_model_module": "@jupyter-widgets/controls",
            "_model_module_version": "1.5.0",
            "_model_name": "HTMLModel",
            "_view_count": null,
            "_view_module": "@jupyter-widgets/controls",
            "_view_module_version": "1.5.0",
            "_view_name": "HTMLView",
            "description": "",
            "description_tooltip": null,
            "layout": "IPY_MODEL_7a21aad1283746598957bbaa57579cc8",
            "placeholder": "​",
            "style": "IPY_MODEL_cc0fbdd4da3445cfb2fceb819f9a43b8",
            "value": " 996k/996k [00:00&lt;00:00, 2.98MB/s]"
          }
        },
        "8596d1b5b9e14a42b7dfc19287b8d2e3": {
          "model_module": "@jupyter-widgets/base",
          "model_name": "LayoutModel",
          "model_module_version": "1.2.0",
          "state": {
            "_model_module": "@jupyter-widgets/base",
            "_model_module_version": "1.2.0",
            "_model_name": "LayoutModel",
            "_view_count": null,
            "_view_module": "@jupyter-widgets/base",
            "_view_module_version": "1.2.0",
            "_view_name": "LayoutView",
            "align_content": null,
            "align_items": null,
            "align_self": null,
            "border": null,
            "bottom": null,
            "display": null,
            "flex": null,
            "flex_flow": null,
            "grid_area": null,
            "grid_auto_columns": null,
            "grid_auto_flow": null,
            "grid_auto_rows": null,
            "grid_column": null,
            "grid_gap": null,
            "grid_row": null,
            "grid_template_areas": null,
            "grid_template_columns": null,
            "grid_template_rows": null,
            "height": null,
            "justify_content": null,
            "justify_items": null,
            "left": null,
            "margin": null,
            "max_height": null,
            "max_width": null,
            "min_height": null,
            "min_width": null,
            "object_fit": null,
            "object_position": null,
            "order": null,
            "overflow": null,
            "overflow_x": null,
            "overflow_y": null,
            "padding": null,
            "right": null,
            "top": null,
            "visibility": null,
            "width": null
          }
        },
        "367a7ffa8aff420f9a14f17f600e7d40": {
          "model_module": "@jupyter-widgets/base",
          "model_name": "LayoutModel",
          "model_module_version": "1.2.0",
          "state": {
            "_model_module": "@jupyter-widgets/base",
            "_model_module_version": "1.2.0",
            "_model_name": "LayoutModel",
            "_view_count": null,
            "_view_module": "@jupyter-widgets/base",
            "_view_module_version": "1.2.0",
            "_view_name": "LayoutView",
            "align_content": null,
            "align_items": null,
            "align_self": null,
            "border": null,
            "bottom": null,
            "display": null,
            "flex": null,
            "flex_flow": null,
            "grid_area": null,
            "grid_auto_columns": null,
            "grid_auto_flow": null,
            "grid_auto_rows": null,
            "grid_column": null,
            "grid_gap": null,
            "grid_row": null,
            "grid_template_areas": null,
            "grid_template_columns": null,
            "grid_template_rows": null,
            "height": null,
            "justify_content": null,
            "justify_items": null,
            "left": null,
            "margin": null,
            "max_height": null,
            "max_width": null,
            "min_height": null,
            "min_width": null,
            "object_fit": null,
            "object_position": null,
            "order": null,
            "overflow": null,
            "overflow_x": null,
            "overflow_y": null,
            "padding": null,
            "right": null,
            "top": null,
            "visibility": null,
            "width": null
          }
        },
        "f170f6fa69714f5d996d89a6a05b6295": {
          "model_module": "@jupyter-widgets/controls",
          "model_name": "DescriptionStyleModel",
          "model_module_version": "1.5.0",
          "state": {
            "_model_module": "@jupyter-widgets/controls",
            "_model_module_version": "1.5.0",
            "_model_name": "DescriptionStyleModel",
            "_view_count": null,
            "_view_module": "@jupyter-widgets/base",
            "_view_module_version": "1.2.0",
            "_view_name": "StyleView",
            "description_width": ""
          }
        },
        "53337361035748ffb19e870c41323366": {
          "model_module": "@jupyter-widgets/base",
          "model_name": "LayoutModel",
          "model_module_version": "1.2.0",
          "state": {
            "_model_module": "@jupyter-widgets/base",
            "_model_module_version": "1.2.0",
            "_model_name": "LayoutModel",
            "_view_count": null,
            "_view_module": "@jupyter-widgets/base",
            "_view_module_version": "1.2.0",
            "_view_name": "LayoutView",
            "align_content": null,
            "align_items": null,
            "align_self": null,
            "border": null,
            "bottom": null,
            "display": null,
            "flex": null,
            "flex_flow": null,
            "grid_area": null,
            "grid_auto_columns": null,
            "grid_auto_flow": null,
            "grid_auto_rows": null,
            "grid_column": null,
            "grid_gap": null,
            "grid_row": null,
            "grid_template_areas": null,
            "grid_template_columns": null,
            "grid_template_rows": null,
            "height": null,
            "justify_content": null,
            "justify_items": null,
            "left": null,
            "margin": null,
            "max_height": null,
            "max_width": null,
            "min_height": null,
            "min_width": null,
            "object_fit": null,
            "object_position": null,
            "order": null,
            "overflow": null,
            "overflow_x": null,
            "overflow_y": null,
            "padding": null,
            "right": null,
            "top": null,
            "visibility": null,
            "width": null
          }
        },
        "5ecda54e6a5645378a27c0e2a939a9e6": {
          "model_module": "@jupyter-widgets/controls",
          "model_name": "ProgressStyleModel",
          "model_module_version": "1.5.0",
          "state": {
            "_model_module": "@jupyter-widgets/controls",
            "_model_module_version": "1.5.0",
            "_model_name": "ProgressStyleModel",
            "_view_count": null,
            "_view_module": "@jupyter-widgets/base",
            "_view_module_version": "1.2.0",
            "_view_name": "StyleView",
            "bar_color": null,
            "description_width": ""
          }
        },
        "7a21aad1283746598957bbaa57579cc8": {
          "model_module": "@jupyter-widgets/base",
          "model_name": "LayoutModel",
          "model_module_version": "1.2.0",
          "state": {
            "_model_module": "@jupyter-widgets/base",
            "_model_module_version": "1.2.0",
            "_model_name": "LayoutModel",
            "_view_count": null,
            "_view_module": "@jupyter-widgets/base",
            "_view_module_version": "1.2.0",
            "_view_name": "LayoutView",
            "align_content": null,
            "align_items": null,
            "align_self": null,
            "border": null,
            "bottom": null,
            "display": null,
            "flex": null,
            "flex_flow": null,
            "grid_area": null,
            "grid_auto_columns": null,
            "grid_auto_flow": null,
            "grid_auto_rows": null,
            "grid_column": null,
            "grid_gap": null,
            "grid_row": null,
            "grid_template_areas": null,
            "grid_template_columns": null,
            "grid_template_rows": null,
            "height": null,
            "justify_content": null,
            "justify_items": null,
            "left": null,
            "margin": null,
            "max_height": null,
            "max_width": null,
            "min_height": null,
            "min_width": null,
            "object_fit": null,
            "object_position": null,
            "order": null,
            "overflow": null,
            "overflow_x": null,
            "overflow_y": null,
            "padding": null,
            "right": null,
            "top": null,
            "visibility": null,
            "width": null
          }
        },
        "cc0fbdd4da3445cfb2fceb819f9a43b8": {
          "model_module": "@jupyter-widgets/controls",
          "model_name": "DescriptionStyleModel",
          "model_module_version": "1.5.0",
          "state": {
            "_model_module": "@jupyter-widgets/controls",
            "_model_module_version": "1.5.0",
            "_model_name": "DescriptionStyleModel",
            "_view_count": null,
            "_view_module": "@jupyter-widgets/base",
            "_view_module_version": "1.2.0",
            "_view_name": "StyleView",
            "description_width": ""
          }
        },
        "9d974d61639c4ef2be853c485cb7c06a": {
          "model_module": "@jupyter-widgets/controls",
          "model_name": "HBoxModel",
          "model_module_version": "1.5.0",
          "state": {
            "_dom_classes": [],
            "_model_module": "@jupyter-widgets/controls",
            "_model_module_version": "1.5.0",
            "_model_name": "HBoxModel",
            "_view_count": null,
            "_view_module": "@jupyter-widgets/controls",
            "_view_module_version": "1.5.0",
            "_view_name": "HBoxView",
            "box_style": "",
            "children": [
              "IPY_MODEL_7a9b0e2a40994e71a84efe9a8b4479fc",
              "IPY_MODEL_781bc6942a724cf58cef8813209aada8",
              "IPY_MODEL_0b9c95b65bed43578568020dedcdc9b0"
            ],
            "layout": "IPY_MODEL_6767014d7f4644468bb213b99b4af155"
          }
        },
        "7a9b0e2a40994e71a84efe9a8b4479fc": {
          "model_module": "@jupyter-widgets/controls",
          "model_name": "HTMLModel",
          "model_module_version": "1.5.0",
          "state": {
            "_dom_classes": [],
            "_model_module": "@jupyter-widgets/controls",
            "_model_module_version": "1.5.0",
            "_model_name": "HTMLModel",
            "_view_count": null,
            "_view_module": "@jupyter-widgets/controls",
            "_view_module_version": "1.5.0",
            "_view_name": "HTMLView",
            "description": "",
            "description_tooltip": null,
            "layout": "IPY_MODEL_e03222fc63b74997959cab83db6f6c04",
            "placeholder": "​",
            "style": "IPY_MODEL_52f03c897a204ce19e95a99047e9826f",
            "value": "tokenizer.json: 100%"
          }
        },
        "781bc6942a724cf58cef8813209aada8": {
          "model_module": "@jupyter-widgets/controls",
          "model_name": "FloatProgressModel",
          "model_module_version": "1.5.0",
          "state": {
            "_dom_classes": [],
            "_model_module": "@jupyter-widgets/controls",
            "_model_module_version": "1.5.0",
            "_model_name": "FloatProgressModel",
            "_view_count": null,
            "_view_module": "@jupyter-widgets/controls",
            "_view_module_version": "1.5.0",
            "_view_name": "ProgressView",
            "bar_style": "success",
            "description": "",
            "description_tooltip": null,
            "layout": "IPY_MODEL_9ecbeedf79484581b67b36b115df9f1c",
            "max": 1961828,
            "min": 0,
            "orientation": "horizontal",
            "style": "IPY_MODEL_0820c9e780ed48a49893910613a75b14",
            "value": 1961828
          }
        },
        "0b9c95b65bed43578568020dedcdc9b0": {
          "model_module": "@jupyter-widgets/controls",
          "model_name": "HTMLModel",
          "model_module_version": "1.5.0",
          "state": {
            "_dom_classes": [],
            "_model_module": "@jupyter-widgets/controls",
            "_model_module_version": "1.5.0",
            "_model_name": "HTMLModel",
            "_view_count": null,
            "_view_module": "@jupyter-widgets/controls",
            "_view_module_version": "1.5.0",
            "_view_name": "HTMLView",
            "description": "",
            "description_tooltip": null,
            "layout": "IPY_MODEL_f819320764334276879338c5cc29a18d",
            "placeholder": "​",
            "style": "IPY_MODEL_ffd0b7c975f840f6a4e3e90fdaea7aea",
            "value": " 1.96M/1.96M [00:00&lt;00:00, 4.82MB/s]"
          }
        },
        "6767014d7f4644468bb213b99b4af155": {
          "model_module": "@jupyter-widgets/base",
          "model_name": "LayoutModel",
          "model_module_version": "1.2.0",
          "state": {
            "_model_module": "@jupyter-widgets/base",
            "_model_module_version": "1.2.0",
            "_model_name": "LayoutModel",
            "_view_count": null,
            "_view_module": "@jupyter-widgets/base",
            "_view_module_version": "1.2.0",
            "_view_name": "LayoutView",
            "align_content": null,
            "align_items": null,
            "align_self": null,
            "border": null,
            "bottom": null,
            "display": null,
            "flex": null,
            "flex_flow": null,
            "grid_area": null,
            "grid_auto_columns": null,
            "grid_auto_flow": null,
            "grid_auto_rows": null,
            "grid_column": null,
            "grid_gap": null,
            "grid_row": null,
            "grid_template_areas": null,
            "grid_template_columns": null,
            "grid_template_rows": null,
            "height": null,
            "justify_content": null,
            "justify_items": null,
            "left": null,
            "margin": null,
            "max_height": null,
            "max_width": null,
            "min_height": null,
            "min_width": null,
            "object_fit": null,
            "object_position": null,
            "order": null,
            "overflow": null,
            "overflow_x": null,
            "overflow_y": null,
            "padding": null,
            "right": null,
            "top": null,
            "visibility": null,
            "width": null
          }
        },
        "e03222fc63b74997959cab83db6f6c04": {
          "model_module": "@jupyter-widgets/base",
          "model_name": "LayoutModel",
          "model_module_version": "1.2.0",
          "state": {
            "_model_module": "@jupyter-widgets/base",
            "_model_module_version": "1.2.0",
            "_model_name": "LayoutModel",
            "_view_count": null,
            "_view_module": "@jupyter-widgets/base",
            "_view_module_version": "1.2.0",
            "_view_name": "LayoutView",
            "align_content": null,
            "align_items": null,
            "align_self": null,
            "border": null,
            "bottom": null,
            "display": null,
            "flex": null,
            "flex_flow": null,
            "grid_area": null,
            "grid_auto_columns": null,
            "grid_auto_flow": null,
            "grid_auto_rows": null,
            "grid_column": null,
            "grid_gap": null,
            "grid_row": null,
            "grid_template_areas": null,
            "grid_template_columns": null,
            "grid_template_rows": null,
            "height": null,
            "justify_content": null,
            "justify_items": null,
            "left": null,
            "margin": null,
            "max_height": null,
            "max_width": null,
            "min_height": null,
            "min_width": null,
            "object_fit": null,
            "object_position": null,
            "order": null,
            "overflow": null,
            "overflow_x": null,
            "overflow_y": null,
            "padding": null,
            "right": null,
            "top": null,
            "visibility": null,
            "width": null
          }
        },
        "52f03c897a204ce19e95a99047e9826f": {
          "model_module": "@jupyter-widgets/controls",
          "model_name": "DescriptionStyleModel",
          "model_module_version": "1.5.0",
          "state": {
            "_model_module": "@jupyter-widgets/controls",
            "_model_module_version": "1.5.0",
            "_model_name": "DescriptionStyleModel",
            "_view_count": null,
            "_view_module": "@jupyter-widgets/base",
            "_view_module_version": "1.2.0",
            "_view_name": "StyleView",
            "description_width": ""
          }
        },
        "9ecbeedf79484581b67b36b115df9f1c": {
          "model_module": "@jupyter-widgets/base",
          "model_name": "LayoutModel",
          "model_module_version": "1.2.0",
          "state": {
            "_model_module": "@jupyter-widgets/base",
            "_model_module_version": "1.2.0",
            "_model_name": "LayoutModel",
            "_view_count": null,
            "_view_module": "@jupyter-widgets/base",
            "_view_module_version": "1.2.0",
            "_view_name": "LayoutView",
            "align_content": null,
            "align_items": null,
            "align_self": null,
            "border": null,
            "bottom": null,
            "display": null,
            "flex": null,
            "flex_flow": null,
            "grid_area": null,
            "grid_auto_columns": null,
            "grid_auto_flow": null,
            "grid_auto_rows": null,
            "grid_column": null,
            "grid_gap": null,
            "grid_row": null,
            "grid_template_areas": null,
            "grid_template_columns": null,
            "grid_template_rows": null,
            "height": null,
            "justify_content": null,
            "justify_items": null,
            "left": null,
            "margin": null,
            "max_height": null,
            "max_width": null,
            "min_height": null,
            "min_width": null,
            "object_fit": null,
            "object_position": null,
            "order": null,
            "overflow": null,
            "overflow_x": null,
            "overflow_y": null,
            "padding": null,
            "right": null,
            "top": null,
            "visibility": null,
            "width": null
          }
        },
        "0820c9e780ed48a49893910613a75b14": {
          "model_module": "@jupyter-widgets/controls",
          "model_name": "ProgressStyleModel",
          "model_module_version": "1.5.0",
          "state": {
            "_model_module": "@jupyter-widgets/controls",
            "_model_module_version": "1.5.0",
            "_model_name": "ProgressStyleModel",
            "_view_count": null,
            "_view_module": "@jupyter-widgets/base",
            "_view_module_version": "1.2.0",
            "_view_name": "StyleView",
            "bar_color": null,
            "description_width": ""
          }
        },
        "f819320764334276879338c5cc29a18d": {
          "model_module": "@jupyter-widgets/base",
          "model_name": "LayoutModel",
          "model_module_version": "1.2.0",
          "state": {
            "_model_module": "@jupyter-widgets/base",
            "_model_module_version": "1.2.0",
            "_model_name": "LayoutModel",
            "_view_count": null,
            "_view_module": "@jupyter-widgets/base",
            "_view_module_version": "1.2.0",
            "_view_name": "LayoutView",
            "align_content": null,
            "align_items": null,
            "align_self": null,
            "border": null,
            "bottom": null,
            "display": null,
            "flex": null,
            "flex_flow": null,
            "grid_area": null,
            "grid_auto_columns": null,
            "grid_auto_flow": null,
            "grid_auto_rows": null,
            "grid_column": null,
            "grid_gap": null,
            "grid_row": null,
            "grid_template_areas": null,
            "grid_template_columns": null,
            "grid_template_rows": null,
            "height": null,
            "justify_content": null,
            "justify_items": null,
            "left": null,
            "margin": null,
            "max_height": null,
            "max_width": null,
            "min_height": null,
            "min_width": null,
            "object_fit": null,
            "object_position": null,
            "order": null,
            "overflow": null,
            "overflow_x": null,
            "overflow_y": null,
            "padding": null,
            "right": null,
            "top": null,
            "visibility": null,
            "width": null
          }
        },
        "ffd0b7c975f840f6a4e3e90fdaea7aea": {
          "model_module": "@jupyter-widgets/controls",
          "model_name": "DescriptionStyleModel",
          "model_module_version": "1.5.0",
          "state": {
            "_model_module": "@jupyter-widgets/controls",
            "_model_module_version": "1.5.0",
            "_model_name": "DescriptionStyleModel",
            "_view_count": null,
            "_view_module": "@jupyter-widgets/base",
            "_view_module_version": "1.2.0",
            "_view_name": "StyleView",
            "description_width": ""
          }
        },
        "07c05c63454e4ae19227e0c13c5fd25a": {
          "model_module": "@jupyter-widgets/controls",
          "model_name": "HBoxModel",
          "model_module_version": "1.5.0",
          "state": {
            "_dom_classes": [],
            "_model_module": "@jupyter-widgets/controls",
            "_model_module_version": "1.5.0",
            "_model_name": "HBoxModel",
            "_view_count": null,
            "_view_module": "@jupyter-widgets/controls",
            "_view_module_version": "1.5.0",
            "_view_name": "HBoxView",
            "box_style": "",
            "children": [
              "IPY_MODEL_f3bcc0a5e4874490bffcf3a257836e7d",
              "IPY_MODEL_4c39b1c28d8c4ee8aeaf8ee9c305fc0f",
              "IPY_MODEL_7349527ff44448f0bca52c812fac2037"
            ],
            "layout": "IPY_MODEL_cac8383375b349878ae48001d7bf5d54"
          }
        },
        "f3bcc0a5e4874490bffcf3a257836e7d": {
          "model_module": "@jupyter-widgets/controls",
          "model_name": "HTMLModel",
          "model_module_version": "1.5.0",
          "state": {
            "_dom_classes": [],
            "_model_module": "@jupyter-widgets/controls",
            "_model_module_version": "1.5.0",
            "_model_name": "HTMLModel",
            "_view_count": null,
            "_view_module": "@jupyter-widgets/controls",
            "_view_module_version": "1.5.0",
            "_view_name": "HTMLView",
            "description": "",
            "description_tooltip": null,
            "layout": "IPY_MODEL_397ca619f65d49edac8d8099a10753f1",
            "placeholder": "​",
            "style": "IPY_MODEL_fbc9c16ec30a4491839edd8a7db7fd88",
            "value": "config.json: 100%"
          }
        },
        "4c39b1c28d8c4ee8aeaf8ee9c305fc0f": {
          "model_module": "@jupyter-widgets/controls",
          "model_name": "FloatProgressModel",
          "model_module_version": "1.5.0",
          "state": {
            "_dom_classes": [],
            "_model_module": "@jupyter-widgets/controls",
            "_model_module_version": "1.5.0",
            "_model_name": "FloatProgressModel",
            "_view_count": null,
            "_view_module": "@jupyter-widgets/controls",
            "_view_module_version": "1.5.0",
            "_view_name": "ProgressView",
            "bar_style": "success",
            "description": "",
            "description_tooltip": null,
            "layout": "IPY_MODEL_ff87112ca7b742a596314abb31562a27",
            "max": 466,
            "min": 0,
            "orientation": "horizontal",
            "style": "IPY_MODEL_92f48b55bd974fa7b3a078007ecbada5",
            "value": 466
          }
        },
        "7349527ff44448f0bca52c812fac2037": {
          "model_module": "@jupyter-widgets/controls",
          "model_name": "HTMLModel",
          "model_module_version": "1.5.0",
          "state": {
            "_dom_classes": [],
            "_model_module": "@jupyter-widgets/controls",
            "_model_module_version": "1.5.0",
            "_model_name": "HTMLModel",
            "_view_count": null,
            "_view_module": "@jupyter-widgets/controls",
            "_view_module_version": "1.5.0",
            "_view_name": "HTMLView",
            "description": "",
            "description_tooltip": null,
            "layout": "IPY_MODEL_fd18c2ff653243e78aee5beb0b5886c3",
            "placeholder": "​",
            "style": "IPY_MODEL_f9258bae81a146aba9d0ca41e1c40288",
            "value": " 466/466 [00:00&lt;00:00, 13.4kB/s]"
          }
        },
        "cac8383375b349878ae48001d7bf5d54": {
          "model_module": "@jupyter-widgets/base",
          "model_name": "LayoutModel",
          "model_module_version": "1.2.0",
          "state": {
            "_model_module": "@jupyter-widgets/base",
            "_model_module_version": "1.2.0",
            "_model_name": "LayoutModel",
            "_view_count": null,
            "_view_module": "@jupyter-widgets/base",
            "_view_module_version": "1.2.0",
            "_view_name": "LayoutView",
            "align_content": null,
            "align_items": null,
            "align_self": null,
            "border": null,
            "bottom": null,
            "display": null,
            "flex": null,
            "flex_flow": null,
            "grid_area": null,
            "grid_auto_columns": null,
            "grid_auto_flow": null,
            "grid_auto_rows": null,
            "grid_column": null,
            "grid_gap": null,
            "grid_row": null,
            "grid_template_areas": null,
            "grid_template_columns": null,
            "grid_template_rows": null,
            "height": null,
            "justify_content": null,
            "justify_items": null,
            "left": null,
            "margin": null,
            "max_height": null,
            "max_width": null,
            "min_height": null,
            "min_width": null,
            "object_fit": null,
            "object_position": null,
            "order": null,
            "overflow": null,
            "overflow_x": null,
            "overflow_y": null,
            "padding": null,
            "right": null,
            "top": null,
            "visibility": null,
            "width": null
          }
        },
        "397ca619f65d49edac8d8099a10753f1": {
          "model_module": "@jupyter-widgets/base",
          "model_name": "LayoutModel",
          "model_module_version": "1.2.0",
          "state": {
            "_model_module": "@jupyter-widgets/base",
            "_model_module_version": "1.2.0",
            "_model_name": "LayoutModel",
            "_view_count": null,
            "_view_module": "@jupyter-widgets/base",
            "_view_module_version": "1.2.0",
            "_view_name": "LayoutView",
            "align_content": null,
            "align_items": null,
            "align_self": null,
            "border": null,
            "bottom": null,
            "display": null,
            "flex": null,
            "flex_flow": null,
            "grid_area": null,
            "grid_auto_columns": null,
            "grid_auto_flow": null,
            "grid_auto_rows": null,
            "grid_column": null,
            "grid_gap": null,
            "grid_row": null,
            "grid_template_areas": null,
            "grid_template_columns": null,
            "grid_template_rows": null,
            "height": null,
            "justify_content": null,
            "justify_items": null,
            "left": null,
            "margin": null,
            "max_height": null,
            "max_width": null,
            "min_height": null,
            "min_width": null,
            "object_fit": null,
            "object_position": null,
            "order": null,
            "overflow": null,
            "overflow_x": null,
            "overflow_y": null,
            "padding": null,
            "right": null,
            "top": null,
            "visibility": null,
            "width": null
          }
        },
        "fbc9c16ec30a4491839edd8a7db7fd88": {
          "model_module": "@jupyter-widgets/controls",
          "model_name": "DescriptionStyleModel",
          "model_module_version": "1.5.0",
          "state": {
            "_model_module": "@jupyter-widgets/controls",
            "_model_module_version": "1.5.0",
            "_model_name": "DescriptionStyleModel",
            "_view_count": null,
            "_view_module": "@jupyter-widgets/base",
            "_view_module_version": "1.2.0",
            "_view_name": "StyleView",
            "description_width": ""
          }
        },
        "ff87112ca7b742a596314abb31562a27": {
          "model_module": "@jupyter-widgets/base",
          "model_name": "LayoutModel",
          "model_module_version": "1.2.0",
          "state": {
            "_model_module": "@jupyter-widgets/base",
            "_model_module_version": "1.2.0",
            "_model_name": "LayoutModel",
            "_view_count": null,
            "_view_module": "@jupyter-widgets/base",
            "_view_module_version": "1.2.0",
            "_view_name": "LayoutView",
            "align_content": null,
            "align_items": null,
            "align_self": null,
            "border": null,
            "bottom": null,
            "display": null,
            "flex": null,
            "flex_flow": null,
            "grid_area": null,
            "grid_auto_columns": null,
            "grid_auto_flow": null,
            "grid_auto_rows": null,
            "grid_column": null,
            "grid_gap": null,
            "grid_row": null,
            "grid_template_areas": null,
            "grid_template_columns": null,
            "grid_template_rows": null,
            "height": null,
            "justify_content": null,
            "justify_items": null,
            "left": null,
            "margin": null,
            "max_height": null,
            "max_width": null,
            "min_height": null,
            "min_width": null,
            "object_fit": null,
            "object_position": null,
            "order": null,
            "overflow": null,
            "overflow_x": null,
            "overflow_y": null,
            "padding": null,
            "right": null,
            "top": null,
            "visibility": null,
            "width": null
          }
        },
        "92f48b55bd974fa7b3a078007ecbada5": {
          "model_module": "@jupyter-widgets/controls",
          "model_name": "ProgressStyleModel",
          "model_module_version": "1.5.0",
          "state": {
            "_model_module": "@jupyter-widgets/controls",
            "_model_module_version": "1.5.0",
            "_model_name": "ProgressStyleModel",
            "_view_count": null,
            "_view_module": "@jupyter-widgets/base",
            "_view_module_version": "1.2.0",
            "_view_name": "StyleView",
            "bar_color": null,
            "description_width": ""
          }
        },
        "fd18c2ff653243e78aee5beb0b5886c3": {
          "model_module": "@jupyter-widgets/base",
          "model_name": "LayoutModel",
          "model_module_version": "1.2.0",
          "state": {
            "_model_module": "@jupyter-widgets/base",
            "_model_module_version": "1.2.0",
            "_model_name": "LayoutModel",
            "_view_count": null,
            "_view_module": "@jupyter-widgets/base",
            "_view_module_version": "1.2.0",
            "_view_name": "LayoutView",
            "align_content": null,
            "align_items": null,
            "align_self": null,
            "border": null,
            "bottom": null,
            "display": null,
            "flex": null,
            "flex_flow": null,
            "grid_area": null,
            "grid_auto_columns": null,
            "grid_auto_flow": null,
            "grid_auto_rows": null,
            "grid_column": null,
            "grid_gap": null,
            "grid_row": null,
            "grid_template_areas": null,
            "grid_template_columns": null,
            "grid_template_rows": null,
            "height": null,
            "justify_content": null,
            "justify_items": null,
            "left": null,
            "margin": null,
            "max_height": null,
            "max_width": null,
            "min_height": null,
            "min_width": null,
            "object_fit": null,
            "object_position": null,
            "order": null,
            "overflow": null,
            "overflow_x": null,
            "overflow_y": null,
            "padding": null,
            "right": null,
            "top": null,
            "visibility": null,
            "width": null
          }
        },
        "f9258bae81a146aba9d0ca41e1c40288": {
          "model_module": "@jupyter-widgets/controls",
          "model_name": "DescriptionStyleModel",
          "model_module_version": "1.5.0",
          "state": {
            "_model_module": "@jupyter-widgets/controls",
            "_model_module_version": "1.5.0",
            "_model_name": "DescriptionStyleModel",
            "_view_count": null,
            "_view_module": "@jupyter-widgets/base",
            "_view_module_version": "1.2.0",
            "_view_name": "StyleView",
            "description_width": ""
          }
        },
        "b17cf5c5bb5640fb96a166afa3e32003": {
          "model_module": "@jupyter-widgets/controls",
          "model_name": "HBoxModel",
          "model_module_version": "1.5.0",
          "state": {
            "_dom_classes": [],
            "_model_module": "@jupyter-widgets/controls",
            "_model_module_version": "1.5.0",
            "_model_name": "HBoxModel",
            "_view_count": null,
            "_view_module": "@jupyter-widgets/controls",
            "_view_module_version": "1.5.0",
            "_view_name": "HBoxView",
            "box_style": "",
            "children": [
              "IPY_MODEL_8e5afdf307df421fa46a596166fcedc2",
              "IPY_MODEL_96c5b179c5e847f995f1f31d885bbb82",
              "IPY_MODEL_383d11d62b354444b7be69d5743b079c"
            ],
            "layout": "IPY_MODEL_43cde44b15aa4991aab76b4dc49660a4"
          }
        },
        "8e5afdf307df421fa46a596166fcedc2": {
          "model_module": "@jupyter-widgets/controls",
          "model_name": "HTMLModel",
          "model_module_version": "1.5.0",
          "state": {
            "_dom_classes": [],
            "_model_module": "@jupyter-widgets/controls",
            "_model_module_version": "1.5.0",
            "_model_name": "HTMLModel",
            "_view_count": null,
            "_view_module": "@jupyter-widgets/controls",
            "_view_module_version": "1.5.0",
            "_view_name": "HTMLView",
            "description": "",
            "description_tooltip": null,
            "layout": "IPY_MODEL_b7ec664c635a4d8ebc1882f9354878bf",
            "placeholder": "​",
            "style": "IPY_MODEL_07f3bc2d486e48ebafef2654e437d807",
            "value": "model.safetensors: 100%"
          }
        },
        "96c5b179c5e847f995f1f31d885bbb82": {
          "model_module": "@jupyter-widgets/controls",
          "model_name": "FloatProgressModel",
          "model_module_version": "1.5.0",
          "state": {
            "_dom_classes": [],
            "_model_module": "@jupyter-widgets/controls",
            "_model_module_version": "1.5.0",
            "_model_name": "FloatProgressModel",
            "_view_count": null,
            "_view_module": "@jupyter-widgets/controls",
            "_view_module_version": "1.5.0",
            "_view_name": "ProgressView",
            "bar_style": "success",
            "description": "",
            "description_tooltip": null,
            "layout": "IPY_MODEL_61345acfb8f849bea5a286363a541a70",
            "max": 541795680,
            "min": 0,
            "orientation": "horizontal",
            "style": "IPY_MODEL_31775ba08c3840b49fef2e44a31a268c",
            "value": 541795680
          }
        },
        "383d11d62b354444b7be69d5743b079c": {
          "model_module": "@jupyter-widgets/controls",
          "model_name": "HTMLModel",
          "model_module_version": "1.5.0",
          "state": {
            "_dom_classes": [],
            "_model_module": "@jupyter-widgets/controls",
            "_model_module_version": "1.5.0",
            "_model_name": "HTMLModel",
            "_view_count": null,
            "_view_module": "@jupyter-widgets/controls",
            "_view_module_version": "1.5.0",
            "_view_name": "HTMLView",
            "description": "",
            "description_tooltip": null,
            "layout": "IPY_MODEL_b9beb955997e4d37896c611a26032969",
            "placeholder": "​",
            "style": "IPY_MODEL_f9cb2121fb95486aa2149d6011d8bdfd",
            "value": " 542M/542M [00:02&lt;00:00, 173MB/s]"
          }
        },
        "43cde44b15aa4991aab76b4dc49660a4": {
          "model_module": "@jupyter-widgets/base",
          "model_name": "LayoutModel",
          "model_module_version": "1.2.0",
          "state": {
            "_model_module": "@jupyter-widgets/base",
            "_model_module_version": "1.2.0",
            "_model_name": "LayoutModel",
            "_view_count": null,
            "_view_module": "@jupyter-widgets/base",
            "_view_module_version": "1.2.0",
            "_view_name": "LayoutView",
            "align_content": null,
            "align_items": null,
            "align_self": null,
            "border": null,
            "bottom": null,
            "display": null,
            "flex": null,
            "flex_flow": null,
            "grid_area": null,
            "grid_auto_columns": null,
            "grid_auto_flow": null,
            "grid_auto_rows": null,
            "grid_column": null,
            "grid_gap": null,
            "grid_row": null,
            "grid_template_areas": null,
            "grid_template_columns": null,
            "grid_template_rows": null,
            "height": null,
            "justify_content": null,
            "justify_items": null,
            "left": null,
            "margin": null,
            "max_height": null,
            "max_width": null,
            "min_height": null,
            "min_width": null,
            "object_fit": null,
            "object_position": null,
            "order": null,
            "overflow": null,
            "overflow_x": null,
            "overflow_y": null,
            "padding": null,
            "right": null,
            "top": null,
            "visibility": null,
            "width": null
          }
        },
        "b7ec664c635a4d8ebc1882f9354878bf": {
          "model_module": "@jupyter-widgets/base",
          "model_name": "LayoutModel",
          "model_module_version": "1.2.0",
          "state": {
            "_model_module": "@jupyter-widgets/base",
            "_model_module_version": "1.2.0",
            "_model_name": "LayoutModel",
            "_view_count": null,
            "_view_module": "@jupyter-widgets/base",
            "_view_module_version": "1.2.0",
            "_view_name": "LayoutView",
            "align_content": null,
            "align_items": null,
            "align_self": null,
            "border": null,
            "bottom": null,
            "display": null,
            "flex": null,
            "flex_flow": null,
            "grid_area": null,
            "grid_auto_columns": null,
            "grid_auto_flow": null,
            "grid_auto_rows": null,
            "grid_column": null,
            "grid_gap": null,
            "grid_row": null,
            "grid_template_areas": null,
            "grid_template_columns": null,
            "grid_template_rows": null,
            "height": null,
            "justify_content": null,
            "justify_items": null,
            "left": null,
            "margin": null,
            "max_height": null,
            "max_width": null,
            "min_height": null,
            "min_width": null,
            "object_fit": null,
            "object_position": null,
            "order": null,
            "overflow": null,
            "overflow_x": null,
            "overflow_y": null,
            "padding": null,
            "right": null,
            "top": null,
            "visibility": null,
            "width": null
          }
        },
        "07f3bc2d486e48ebafef2654e437d807": {
          "model_module": "@jupyter-widgets/controls",
          "model_name": "DescriptionStyleModel",
          "model_module_version": "1.5.0",
          "state": {
            "_model_module": "@jupyter-widgets/controls",
            "_model_module_version": "1.5.0",
            "_model_name": "DescriptionStyleModel",
            "_view_count": null,
            "_view_module": "@jupyter-widgets/base",
            "_view_module_version": "1.2.0",
            "_view_name": "StyleView",
            "description_width": ""
          }
        },
        "61345acfb8f849bea5a286363a541a70": {
          "model_module": "@jupyter-widgets/base",
          "model_name": "LayoutModel",
          "model_module_version": "1.2.0",
          "state": {
            "_model_module": "@jupyter-widgets/base",
            "_model_module_version": "1.2.0",
            "_model_name": "LayoutModel",
            "_view_count": null,
            "_view_module": "@jupyter-widgets/base",
            "_view_module_version": "1.2.0",
            "_view_name": "LayoutView",
            "align_content": null,
            "align_items": null,
            "align_self": null,
            "border": null,
            "bottom": null,
            "display": null,
            "flex": null,
            "flex_flow": null,
            "grid_area": null,
            "grid_auto_columns": null,
            "grid_auto_flow": null,
            "grid_auto_rows": null,
            "grid_column": null,
            "grid_gap": null,
            "grid_row": null,
            "grid_template_areas": null,
            "grid_template_columns": null,
            "grid_template_rows": null,
            "height": null,
            "justify_content": null,
            "justify_items": null,
            "left": null,
            "margin": null,
            "max_height": null,
            "max_width": null,
            "min_height": null,
            "min_width": null,
            "object_fit": null,
            "object_position": null,
            "order": null,
            "overflow": null,
            "overflow_x": null,
            "overflow_y": null,
            "padding": null,
            "right": null,
            "top": null,
            "visibility": null,
            "width": null
          }
        },
        "31775ba08c3840b49fef2e44a31a268c": {
          "model_module": "@jupyter-widgets/controls",
          "model_name": "ProgressStyleModel",
          "model_module_version": "1.5.0",
          "state": {
            "_model_module": "@jupyter-widgets/controls",
            "_model_module_version": "1.5.0",
            "_model_name": "ProgressStyleModel",
            "_view_count": null,
            "_view_module": "@jupyter-widgets/base",
            "_view_module_version": "1.2.0",
            "_view_name": "StyleView",
            "bar_color": null,
            "description_width": ""
          }
        },
        "b9beb955997e4d37896c611a26032969": {
          "model_module": "@jupyter-widgets/base",
          "model_name": "LayoutModel",
          "model_module_version": "1.2.0",
          "state": {
            "_model_module": "@jupyter-widgets/base",
            "_model_module_version": "1.2.0",
            "_model_name": "LayoutModel",
            "_view_count": null,
            "_view_module": "@jupyter-widgets/base",
            "_view_module_version": "1.2.0",
            "_view_name": "LayoutView",
            "align_content": null,
            "align_items": null,
            "align_self": null,
            "border": null,
            "bottom": null,
            "display": null,
            "flex": null,
            "flex_flow": null,
            "grid_area": null,
            "grid_auto_columns": null,
            "grid_auto_flow": null,
            "grid_auto_rows": null,
            "grid_column": null,
            "grid_gap": null,
            "grid_row": null,
            "grid_template_areas": null,
            "grid_template_columns": null,
            "grid_template_rows": null,
            "height": null,
            "justify_content": null,
            "justify_items": null,
            "left": null,
            "margin": null,
            "max_height": null,
            "max_width": null,
            "min_height": null,
            "min_width": null,
            "object_fit": null,
            "object_position": null,
            "order": null,
            "overflow": null,
            "overflow_x": null,
            "overflow_y": null,
            "padding": null,
            "right": null,
            "top": null,
            "visibility": null,
            "width": null
          }
        },
        "f9cb2121fb95486aa2149d6011d8bdfd": {
          "model_module": "@jupyter-widgets/controls",
          "model_name": "DescriptionStyleModel",
          "model_module_version": "1.5.0",
          "state": {
            "_model_module": "@jupyter-widgets/controls",
            "_model_module_version": "1.5.0",
            "_model_name": "DescriptionStyleModel",
            "_view_count": null,
            "_view_module": "@jupyter-widgets/base",
            "_view_module_version": "1.2.0",
            "_view_name": "StyleView",
            "description_width": ""
          }
        }
      }
    }
  },
  "cells": [
    {
      "cell_type": "markdown",
      "metadata": {
        "id": "view-in-github",
        "colab_type": "text"
      },
      "source": [
        "<a href=\"https://colab.research.google.com/github/ninawang4/mbti-classifier/blob/main/Separated_Distilbert_Multilingual.ipynb\" target=\"_parent\"><img src=\"https://colab.research.google.com/assets/colab-badge.svg\" alt=\"Open In Colab\"/></a>"
      ]
    },
    {
      "cell_type": "code",
      "source": [
        "%%bash\n",
        "!(stat -t /usr/local/lib/*/dist-packages/google/colab > /dev/null 2>&1) && exit\n",
        "rm -rf 6864-hw3\n",
        "git clone https://github.com/mit-6864/hw3.git"
      ],
      "metadata": {
        "colab": {
          "base_uri": "https://localhost:8080/"
        },
        "id": "qLrlvzqCbWDY",
        "outputId": "ddb264e1-6191-40a5-d86f-388441e6129c"
      },
      "execution_count": null,
      "outputs": [
        {
          "output_type": "stream",
          "name": "stderr",
          "text": [
            "Cloning into 'hw3'...\n"
          ]
        }
      ]
    },
    {
      "cell_type": "code",
      "source": [
        "!pip install transformers"
      ],
      "metadata": {
        "id": "HVbb7nCUwEQ5",
        "outputId": "a2f23886-adaa-4b87-c1df-981a10ee1ee3",
        "colab": {
          "base_uri": "https://localhost:8080/"
        }
      },
      "execution_count": null,
      "outputs": [
        {
          "output_type": "stream",
          "name": "stdout",
          "text": [
            "Requirement already satisfied: transformers in /usr/local/lib/python3.10/dist-packages (4.35.2)\n",
            "Requirement already satisfied: filelock in /usr/local/lib/python3.10/dist-packages (from transformers) (3.13.1)\n",
            "Requirement already satisfied: huggingface-hub<1.0,>=0.16.4 in /usr/local/lib/python3.10/dist-packages (from transformers) (0.19.4)\n",
            "Requirement already satisfied: numpy>=1.17 in /usr/local/lib/python3.10/dist-packages (from transformers) (1.23.5)\n",
            "Requirement already satisfied: packaging>=20.0 in /usr/local/lib/python3.10/dist-packages (from transformers) (23.2)\n",
            "Requirement already satisfied: pyyaml>=5.1 in /usr/local/lib/python3.10/dist-packages (from transformers) (6.0.1)\n",
            "Requirement already satisfied: regex!=2019.12.17 in /usr/local/lib/python3.10/dist-packages (from transformers) (2023.6.3)\n",
            "Requirement already satisfied: requests in /usr/local/lib/python3.10/dist-packages (from transformers) (2.31.0)\n",
            "Requirement already satisfied: tokenizers<0.19,>=0.14 in /usr/local/lib/python3.10/dist-packages (from transformers) (0.15.0)\n",
            "Requirement already satisfied: safetensors>=0.3.1 in /usr/local/lib/python3.10/dist-packages (from transformers) (0.4.0)\n",
            "Requirement already satisfied: tqdm>=4.27 in /usr/local/lib/python3.10/dist-packages (from transformers) (4.66.1)\n",
            "Requirement already satisfied: fsspec>=2023.5.0 in /usr/local/lib/python3.10/dist-packages (from huggingface-hub<1.0,>=0.16.4->transformers) (2023.6.0)\n",
            "Requirement already satisfied: typing-extensions>=3.7.4.3 in /usr/local/lib/python3.10/dist-packages (from huggingface-hub<1.0,>=0.16.4->transformers) (4.5.0)\n",
            "Requirement already satisfied: charset-normalizer<4,>=2 in /usr/local/lib/python3.10/dist-packages (from requests->transformers) (3.3.2)\n",
            "Requirement already satisfied: idna<4,>=2.5 in /usr/local/lib/python3.10/dist-packages (from requests->transformers) (3.4)\n",
            "Requirement already satisfied: urllib3<3,>=1.21.1 in /usr/local/lib/python3.10/dist-packages (from requests->transformers) (2.0.7)\n",
            "Requirement already satisfied: certifi>=2017.4.17 in /usr/local/lib/python3.10/dist-packages (from requests->transformers) (2023.7.22)\n"
          ]
        }
      ]
    },
    {
      "cell_type": "code",
      "source": [
        "from google.colab import drive\n",
        "drive.mount('/content/drive')"
      ],
      "metadata": {
        "colab": {
          "base_uri": "https://localhost:8080/"
        },
        "id": "VdXWuQq4aDEO",
        "outputId": "2cf7d9c7-4ddd-4a4d-8dc4-91ebe71bc703"
      },
      "execution_count": null,
      "outputs": [
        {
          "output_type": "stream",
          "name": "stdout",
          "text": [
            "Mounted at /content/drive\n"
          ]
        }
      ]
    },
    {
      "cell_type": "code",
      "source": [
        "import csv\n",
        "import pandas as pd\n",
        "\n",
        "with open('/content/drive/MyDrive/NLP_project/Data/original_seperated.csv', 'r', encoding='utf-8') as f:\n",
        "    df = pd.DataFrame(csv.reader(f))\n",
        "    df.columns = df.iloc[0]\n",
        "    df = df[1:].reset_index(drop=True)\n",
        "    print(df.head())"
      ],
      "metadata": {
        "colab": {
          "base_uri": "https://localhost:8080/"
        },
        "id": "ORhZ4ud-aEIM",
        "outputId": "bf2f6725-af48-4aa9-f24e-0eb685d3d2b8"
      },
      "execution_count": null,
      "outputs": [
        {
          "output_type": "stream",
          "name": "stdout",
          "text": [
            "0                        caption    username  mbti      group    name  \\\n",
            "0                            📸\\n  suye.on2di  ISTJ  Weki Meki  Suyeon   \n",
            "1  제 손이 또...커튼을 망가트리고 말았습니다...\\n  suye.on2di  ISTJ  Weki Meki  Suyeon   \n",
            "2                      Synergy\\n  suye.on2di  ISTJ  Weki Meki  Suyeon   \n",
            "3                         해보자고\\n  suye.on2di  ISTJ  Weki Meki  Suyeon   \n",
            "4                         🌻😁❣️\\n  suye.on2di  ISTJ  Weki Meki  Suyeon   \n",
            "\n",
            "0 extraversion sensing thinking judging  \n",
            "0            0       1        1       1  \n",
            "1            0       1        1       1  \n",
            "2            0       1        1       1  \n",
            "3            0       1        1       1  \n",
            "4            0       1        1       1  \n"
          ]
        }
      ]
    },
    {
      "cell_type": "code",
      "source": [
        "import sys\n",
        "# sys.path.append(\"/content/hw3\")\n",
        "\n",
        "import csv\n",
        "import itertools as it\n",
        "import numpy as np\n",
        "import sklearn.decomposition\n",
        "np.random.seed(0)\n",
        "from tqdm import tqdm\n",
        "\n",
        "# import lab_util"
      ],
      "metadata": {
        "id": "1x6xTytZwJnY"
      },
      "execution_count": null,
      "outputs": []
    },
    {
      "cell_type": "code",
      "source": [
        "# from transformers import AutoTokenizer\n",
        "from transformers import DistilBertTokenizer\n",
        "tokenizer = DistilBertTokenizer.from_pretrained('distilbert-base-multilingual-cased')"
      ],
      "metadata": {
        "id": "qhxb7b7bwson",
        "outputId": "933d8059-f21e-4dc6-84d6-dce6b6d1a0b6",
        "colab": {
          "base_uri": "https://localhost:8080/",
          "height": 145,
          "referenced_widgets": [
            "14aa72dae6f44fde885a3721354ab04a",
            "a29a9c70ad11417dbf0850a3dc14e61f",
            "5f384c841d434884b2cc39ce652ac42c",
            "48ada7441d3e48d5ac843ce6fd2d98a0",
            "8c354638a4fa4f47b78b17be9c46f32d",
            "e32623aec08e4e8c87c919c6f33aa71e",
            "80f7ec952c374c43b0103d37e41375a8",
            "5429fe7c46044531990e00fa2a1d08ef",
            "71a8818839114661b341cd74383e1c7c",
            "a42d9507c83e4a7ba26990782a35b406",
            "e9161624184c461fbdc2ef2621fca01f",
            "68279ab4dd7e45d68f7374c957b79deb",
            "320ae1228c974207b62b4f21f6a82de9",
            "b8c30f9d91374237abf6aff092d670bd",
            "a8035e8195d34699b394606d6cd54d11",
            "8596d1b5b9e14a42b7dfc19287b8d2e3",
            "367a7ffa8aff420f9a14f17f600e7d40",
            "f170f6fa69714f5d996d89a6a05b6295",
            "53337361035748ffb19e870c41323366",
            "5ecda54e6a5645378a27c0e2a939a9e6",
            "7a21aad1283746598957bbaa57579cc8",
            "cc0fbdd4da3445cfb2fceb819f9a43b8",
            "9d974d61639c4ef2be853c485cb7c06a",
            "7a9b0e2a40994e71a84efe9a8b4479fc",
            "781bc6942a724cf58cef8813209aada8",
            "0b9c95b65bed43578568020dedcdc9b0",
            "6767014d7f4644468bb213b99b4af155",
            "e03222fc63b74997959cab83db6f6c04",
            "52f03c897a204ce19e95a99047e9826f",
            "9ecbeedf79484581b67b36b115df9f1c",
            "0820c9e780ed48a49893910613a75b14",
            "f819320764334276879338c5cc29a18d",
            "ffd0b7c975f840f6a4e3e90fdaea7aea",
            "07c05c63454e4ae19227e0c13c5fd25a",
            "f3bcc0a5e4874490bffcf3a257836e7d",
            "4c39b1c28d8c4ee8aeaf8ee9c305fc0f",
            "7349527ff44448f0bca52c812fac2037",
            "cac8383375b349878ae48001d7bf5d54",
            "397ca619f65d49edac8d8099a10753f1",
            "fbc9c16ec30a4491839edd8a7db7fd88",
            "ff87112ca7b742a596314abb31562a27",
            "92f48b55bd974fa7b3a078007ecbada5",
            "fd18c2ff653243e78aee5beb0b5886c3",
            "f9258bae81a146aba9d0ca41e1c40288"
          ]
        }
      },
      "execution_count": null,
      "outputs": [
        {
          "output_type": "display_data",
          "data": {
            "text/plain": [
              "tokenizer_config.json:   0%|          | 0.00/29.0 [00:00<?, ?B/s]"
            ],
            "application/vnd.jupyter.widget-view+json": {
              "version_major": 2,
              "version_minor": 0,
              "model_id": "14aa72dae6f44fde885a3721354ab04a"
            }
          },
          "metadata": {}
        },
        {
          "output_type": "display_data",
          "data": {
            "text/plain": [
              "vocab.txt:   0%|          | 0.00/996k [00:00<?, ?B/s]"
            ],
            "application/vnd.jupyter.widget-view+json": {
              "version_major": 2,
              "version_minor": 0,
              "model_id": "68279ab4dd7e45d68f7374c957b79deb"
            }
          },
          "metadata": {}
        },
        {
          "output_type": "display_data",
          "data": {
            "text/plain": [
              "tokenizer.json:   0%|          | 0.00/1.96M [00:00<?, ?B/s]"
            ],
            "application/vnd.jupyter.widget-view+json": {
              "version_major": 2,
              "version_minor": 0,
              "model_id": "9d974d61639c4ef2be853c485cb7c06a"
            }
          },
          "metadata": {}
        },
        {
          "output_type": "display_data",
          "data": {
            "text/plain": [
              "config.json:   0%|          | 0.00/466 [00:00<?, ?B/s]"
            ],
            "application/vnd.jupyter.widget-view+json": {
              "version_major": 2,
              "version_minor": 0,
              "model_id": "07c05c63454e4ae19227e0c13c5fd25a"
            }
          },
          "metadata": {}
        }
      ]
    },
    {
      "cell_type": "code",
      "source": [
        "import torch\n",
        "from torch.utils.data import TensorDataset\n",
        "def tokenizer_function(input_data, labels):\n",
        "  input_ids = []\n",
        "  attention_masks = []\n",
        "  for sent in input_data:\n",
        "    this_encoding = tokenizer.encode_plus(sent, truncation=True, pad_to_max_length = True,max_length = 512,return_attention_mask = True,return_tensors = 'pt')\n",
        "    input_ids.append(this_encoding['input_ids'])\n",
        "    attention_masks.append( this_encoding['attention_mask'])\n",
        "  input_ids = torch.cat(input_ids, dim=0)\n",
        "  attention_masks = torch.cat(attention_masks, dim=0)\n",
        "  labels = torch.tensor(labels)\n",
        "  tokenized_data = TensorDataset(input_ids, attention_masks, labels)\n",
        "  return tokenized_data"
      ],
      "metadata": {
        "id": "cbxDqk_cws-4"
      },
      "execution_count": null,
      "outputs": []
    },
    {
      "cell_type": "code",
      "source": [
        "import numpy as np\n",
        "np.random.seed(0)\n",
        "\n",
        "# shuffle dataset before splitting\n",
        "data = df['caption']\n",
        "extraversion = df['extraversion'].astype(int)\n",
        "sensing = df['sensing'].astype(int)\n",
        "thinking = df['thinking'].astype(int)\n",
        "judging = df['judging'].astype(int)\n",
        "\n",
        "\n",
        "obs = list(zip(data, extraversion, sensing, thinking, judging))\n",
        "np.random.shuffle(obs)\n",
        "\n",
        "captions, extraversion, sensing, thinking, judging = zip(*obs)\n",
        "\n"
      ],
      "metadata": {
        "id": "0pWSxpdCaY8o"
      },
      "execution_count": null,
      "outputs": []
    },
    {
      "cell_type": "code",
      "source": [
        "import numpy as np\n",
        "\n",
        "# Function to calculate the accuracy of our predictions vs labels\n",
        "def flat_accuracy(preds, labels):\n",
        "    pred_flat = np.argmax(preds, axis=1).flatten()\n",
        "    labels_flat = labels.flatten()\n",
        "    return np.sum(pred_flat == labels_flat) / len(labels_flat)"
      ],
      "metadata": {
        "id": "NvGxGMOKw9KW"
      },
      "execution_count": null,
      "outputs": []
    },
    {
      "cell_type": "code",
      "source": [
        "import time\n",
        "import datetime\n",
        "\n",
        "def format_time(elapsed):\n",
        "    '''\n",
        "    Takes a time in seconds and returns a string hh:mm:ss\n",
        "    '''\n",
        "    # Round to the nearest second.\n",
        "    elapsed_rounded = int(round((elapsed)))\n",
        "\n",
        "    # Format as hh:mm:ss\n",
        "    return str(datetime.timedelta(seconds=elapsed_rounded))"
      ],
      "metadata": {
        "id": "tnkX1QgbxKFl"
      },
      "execution_count": null,
      "outputs": []
    },
    {
      "cell_type": "markdown",
      "source": [
        "## Sanity Check"
      ],
      "metadata": {
        "id": "SStCz5VnlNZT"
      }
    },
    {
      "cell_type": "code",
      "source": [
        "print(captions[:3])\n",
        "assert set(extraversion) == {0,1}\n",
        "assert set(sensing) == {0,1}\n",
        "assert set(thinking) == {0,1}\n",
        "assert set(judging) == {0,1}"
      ],
      "metadata": {
        "colab": {
          "base_uri": "https://localhost:8080/"
        },
        "id": "BswI0jTWad9-",
        "outputId": "efee5373-0fd7-43c2-ffb7-9346d4cc4261"
      },
      "execution_count": null,
      "outputs": [
        {
          "output_type": "stream",
          "name": "stdout",
          "text": [
            "('#GG Band Rehearsals 🎤🎹🎸🎷🎤🎶 #다시만난세계 #유스케 #감동\\n', 'New video tomorrow~ 😎❤️ #everyfriday\\n', '누가 나 자는데 때렷냐😵\\n')\n"
          ]
        }
      ]
    },
    {
      "cell_type": "markdown",
      "source": [
        "## Extraversion/Introversion"
      ],
      "metadata": {
        "id": "Jd_51idRlTNm"
      }
    },
    {
      "cell_type": "code",
      "source": [
        "# 70% train, 15% test, 15% validation\n",
        "subsample = 20\n",
        "\n",
        "train_dataset_E = tokenizer_function(captions[0:84500:subsample], extraversion[0:84500:subsample])\n",
        "val_dataset_E = tokenizer_function(captions[84500:102500:subsample], extraversion[84500:102500:subsample])\n",
        "test_dataset_E = tokenizer_function(captions[102500::subsample], extraversion[102500::subsample])"
      ],
      "metadata": {
        "id": "AgR5B8WnwtOm",
        "outputId": "3025e263-8fd6-44a8-9df5-933afb863d30",
        "colab": {
          "base_uri": "https://localhost:8080/"
        }
      },
      "execution_count": null,
      "outputs": [
        {
          "output_type": "stream",
          "name": "stderr",
          "text": [
            "/usr/local/lib/python3.10/dist-packages/transformers/tokenization_utils_base.py:2614: FutureWarning: The `pad_to_max_length` argument is deprecated and will be removed in a future version, use `padding=True` or `padding='longest'` to pad to the longest sequence in the batch, or use `padding='max_length'` to pad to a max length. In this case, you can give a specific length with `max_length` (e.g. `max_length=45`) or leave max_length to None to pad to the maximal input size of the model (e.g. 512 for Bert).\n",
            "  warnings.warn(\n"
          ]
        }
      ]
    },
    {
      "cell_type": "code",
      "source": [
        "from transformers import DistilBertForSequenceClassification, AdamW\n",
        "from torch.utils.data import DataLoader\n",
        "import torch.nn.functional as F\n",
        "device = torch.device('cuda') if torch.cuda.is_available() else torch.device('cpu')\n",
        "# device = torch.device('cpu')\n",
        "\n",
        "model_E = DistilBertForSequenceClassification.from_pretrained('distilbert-base-multilingual-cased', num_labels=2, output_attentions = False, output_hidden_states=False)\n",
        "model_E.to(device)\n",
        "\n",
        "train_loader = DataLoader(train_dataset_E, batch_size=32, shuffle=True) #Feel free to experiment with batch sizes\n",
        "val_loader = DataLoader(val_dataset_E, batch_size=32, shuffle=True)\n",
        "test_loader = DataLoader(test_dataset_E, batch_size=32, shuffle=True)"
      ],
      "metadata": {
        "id": "U8CgfBenw6k-",
        "outputId": "4fa0f35e-ed50-4546-af20-8ec35dcc52c5",
        "colab": {
          "base_uri": "https://localhost:8080/",
          "height": 104,
          "referenced_widgets": [
            "b17cf5c5bb5640fb96a166afa3e32003",
            "8e5afdf307df421fa46a596166fcedc2",
            "96c5b179c5e847f995f1f31d885bbb82",
            "383d11d62b354444b7be69d5743b079c",
            "43cde44b15aa4991aab76b4dc49660a4",
            "b7ec664c635a4d8ebc1882f9354878bf",
            "07f3bc2d486e48ebafef2654e437d807",
            "61345acfb8f849bea5a286363a541a70",
            "31775ba08c3840b49fef2e44a31a268c",
            "b9beb955997e4d37896c611a26032969",
            "f9cb2121fb95486aa2149d6011d8bdfd"
          ]
        }
      },
      "execution_count": null,
      "outputs": [
        {
          "output_type": "display_data",
          "data": {
            "text/plain": [
              "model.safetensors:   0%|          | 0.00/542M [00:00<?, ?B/s]"
            ],
            "application/vnd.jupyter.widget-view+json": {
              "version_major": 2,
              "version_minor": 0,
              "model_id": "b17cf5c5bb5640fb96a166afa3e32003"
            }
          },
          "metadata": {}
        },
        {
          "output_type": "stream",
          "name": "stderr",
          "text": [
            "Some weights of DistilBertForSequenceClassification were not initialized from the model checkpoint at distilbert-base-multilingual-cased and are newly initialized: ['classifier.bias', 'pre_classifier.weight', 'pre_classifier.bias', 'classifier.weight']\n",
            "You should probably TRAIN this model on a down-stream task to be able to use it for predictions and inference.\n"
          ]
        }
      ]
    },
    {
      "cell_type": "code",
      "source": [
        "optimizer = AdamW(model_E.parameters(),\n",
        "                lr = 5e-5, # args.learning_rate - default is 5e-5.\n",
        "                eps = 1e-8 # args.adam_epsilon  - default is 1e-8.\n",
        "              )\n"
      ],
      "metadata": {
        "id": "ESekx-ziw8nc",
        "outputId": "4ba324c9-23ca-43a0-9326-1aa1e9313366",
        "colab": {
          "base_uri": "https://localhost:8080/"
        }
      },
      "execution_count": null,
      "outputs": [
        {
          "output_type": "stream",
          "name": "stderr",
          "text": [
            "/usr/local/lib/python3.10/dist-packages/transformers/optimization.py:411: FutureWarning: This implementation of AdamW is deprecated and will be removed in a future version. Use the PyTorch implementation torch.optim.AdamW instead, or set `no_deprecation_warning=True` to disable this warning\n",
            "  warnings.warn(\n"
          ]
        }
      ]
    },
    {
      "cell_type": "markdown",
      "source": [
        "Now it is time to train. Notice how it is working, it might potentially help with your project as well!"
      ],
      "metadata": {
        "id": "h9lOqU7JxNBL"
      }
    },
    {
      "cell_type": "code",
      "source": [
        "total_t0 = time.time()\n",
        "for epoch in tqdm(range(3)):\n",
        "  total_train_loss = 0\n",
        "  model_E.train()\n",
        "  for step, batch in enumerate(train_loader):\n",
        "\n",
        "    b_input_ids = batch[0].to(device)\n",
        "    b_input_mask = batch[1].to(device)\n",
        "    b_labels = batch[2].to(device)\n",
        "    model_E.zero_grad()\n",
        "    outputs = model_E(b_input_ids,\n",
        "                            attention_mask=b_input_mask,\n",
        "                            labels=b_labels)\n",
        "    loss = outputs.loss\n",
        "    total_train_loss += loss\n",
        "    loss.backward()\n",
        "    torch.nn.utils.clip_grad_norm_(model_E.parameters(), 1.0)\n",
        "    optimizer.step()\n",
        "    if(step %10 == 0):\n",
        "      print(loss)\n",
        "\n",
        "  avg_train_loss = total_train_loss / len(train_loader)\n",
        "  print(\"\")\n",
        "  print(\"  Average training loss: {0:.2f}\".format(avg_train_loss))\n",
        "\n",
        "  print(\"\")\n",
        "  print(\"Running Validation...\")\n",
        "\n",
        "  t0 = time.time()\n",
        "\n",
        "  # Put the model in evaluation mode-\n",
        "  model_E.eval()\n",
        "\n",
        "  # Tracking variables\n",
        "  total_eval_accuracy = 0\n",
        "  total_eval_loss = 0\n",
        "  nb_eval_steps = 0\n",
        "\n",
        "    # Evaluate data for one epoch\n",
        "  for batch in val_loader:\n",
        "      #\n",
        "      # `batch` contains three pytorch tensors:\n",
        "      #   [0]: input ids\n",
        "      #   [1]: attention masksx\n",
        "      #   [2]: labels\n",
        "      b_input_ids = batch[0].to(device)\n",
        "      b_input_mask = batch[1].to(device)\n",
        "      b_labels = batch[2].to(device)\n",
        "\n",
        "      with torch.no_grad():\n",
        "\n",
        "          outputs = model_E(b_input_ids,\n",
        "                                  attention_mask=b_input_mask,\n",
        "                                  labels=b_labels)\n",
        "\n",
        "      # Accumulate the validation loss.\n",
        "      loss = outputs.loss\n",
        "      logits = outputs.logits\n",
        "      total_eval_loss += loss.item()\n",
        "\n",
        "      # Move logits and labels to CPU\n",
        "      logits = logits.detach().cpu().numpy()\n",
        "      label_ids = b_labels.to('cpu').numpy()\n",
        "\n",
        "      # Calculate the accuracy for this batch of test sentences, and\n",
        "      # accumulate it over all batches.\n",
        "      total_eval_accuracy += flat_accuracy(logits, label_ids)\n",
        "\n",
        "\n",
        "  # Report the final accuracy for this validation run.\n",
        "  avg_val_accuracy = total_eval_accuracy / len(val_loader)\n",
        "  print(\"  Accuracy: {0:.2f}\".format(avg_val_accuracy))\n",
        "\n",
        "  # Calculate the average loss over all of the batches.\n",
        "  avg_val_loss = total_eval_loss / len(val_loader)\n",
        "\n",
        "  # Measure how long the validation run took.\n",
        "  validation_time = format_time(time.time() - t0)\n",
        "\n",
        "  print(\"  Validation Loss: {0:.2f}\".format(avg_val_loss))\n",
        "  print(\"  Validation took: {:}\".format(validation_time))\n",
        "\n",
        "print(\"\")\n",
        "print(\"Training complete!\")\n",
        "\n",
        "print(\"Total training took {:}\".format(format_time(time.time()-total_t0)))"
      ],
      "metadata": {
        "id": "ljTr7ARRxPiO",
        "outputId": "019c41cb-830e-478a-d0ec-43a31df1e296",
        "colab": {
          "base_uri": "https://localhost:8080/"
        }
      },
      "execution_count": null,
      "outputs": [
        {
          "output_type": "stream",
          "name": "stderr",
          "text": [
            "\r  0%|          | 0/3 [00:00<?, ?it/s]"
          ]
        },
        {
          "output_type": "stream",
          "name": "stdout",
          "text": [
            "tensor(0.6886, device='cuda:0', grad_fn=<NllLossBackward0>)\n",
            "tensor(0.7128, device='cuda:0', grad_fn=<NllLossBackward0>)\n",
            "tensor(0.6958, device='cuda:0', grad_fn=<NllLossBackward0>)\n",
            "tensor(0.6839, device='cuda:0', grad_fn=<NllLossBackward0>)\n",
            "tensor(0.6927, device='cuda:0', grad_fn=<NllLossBackward0>)\n",
            "tensor(0.6976, device='cuda:0', grad_fn=<NllLossBackward0>)\n",
            "tensor(0.6837, device='cuda:0', grad_fn=<NllLossBackward0>)\n",
            "tensor(0.6874, device='cuda:0', grad_fn=<NllLossBackward0>)\n",
            "tensor(0.7035, device='cuda:0', grad_fn=<NllLossBackward0>)\n",
            "tensor(0.6836, device='cuda:0', grad_fn=<NllLossBackward0>)\n",
            "tensor(0.6956, device='cuda:0', grad_fn=<NllLossBackward0>)\n",
            "tensor(0.6890, device='cuda:0', grad_fn=<NllLossBackward0>)\n",
            "tensor(0.6955, device='cuda:0', grad_fn=<NllLossBackward0>)\n",
            "tensor(0.7153, device='cuda:0', grad_fn=<NllLossBackward0>)\n",
            "\n",
            "  Average training loss: 0.69\n",
            "\n",
            "Running Validation...\n"
          ]
        },
        {
          "output_type": "stream",
          "name": "stderr",
          "text": [
            "\r 33%|███▎      | 1/3 [03:16<06:32, 196.30s/it]"
          ]
        },
        {
          "output_type": "stream",
          "name": "stdout",
          "text": [
            "  Accuracy: 0.53\n",
            "  Validation Loss: 0.69\n",
            "  Validation took: 0:00:14\n",
            "tensor(0.6511, device='cuda:0', grad_fn=<NllLossBackward0>)\n",
            "tensor(0.7212, device='cuda:0', grad_fn=<NllLossBackward0>)\n",
            "tensor(0.6420, device='cuda:0', grad_fn=<NllLossBackward0>)\n",
            "tensor(0.6018, device='cuda:0', grad_fn=<NllLossBackward0>)\n",
            "tensor(0.6808, device='cuda:0', grad_fn=<NllLossBackward0>)\n",
            "tensor(0.6827, device='cuda:0', grad_fn=<NllLossBackward0>)\n",
            "tensor(0.6718, device='cuda:0', grad_fn=<NllLossBackward0>)\n",
            "tensor(0.6785, device='cuda:0', grad_fn=<NllLossBackward0>)\n",
            "tensor(0.6419, device='cuda:0', grad_fn=<NllLossBackward0>)\n",
            "tensor(0.6884, device='cuda:0', grad_fn=<NllLossBackward0>)\n",
            "tensor(0.6384, device='cuda:0', grad_fn=<NllLossBackward0>)\n",
            "tensor(0.6763, device='cuda:0', grad_fn=<NllLossBackward0>)\n",
            "tensor(0.6075, device='cuda:0', grad_fn=<NllLossBackward0>)\n",
            "tensor(0.6790, device='cuda:0', grad_fn=<NllLossBackward0>)\n",
            "\n",
            "  Average training loss: 0.69\n",
            "\n",
            "Running Validation...\n"
          ]
        },
        {
          "output_type": "stream",
          "name": "stderr",
          "text": [
            "\r 67%|██████▋   | 2/3 [06:37<03:19, 199.42s/it]"
          ]
        },
        {
          "output_type": "stream",
          "name": "stdout",
          "text": [
            "  Accuracy: 0.54\n",
            "  Validation Loss: 0.69\n",
            "  Validation took: 0:00:14\n",
            "tensor(0.6277, device='cuda:0', grad_fn=<NllLossBackward0>)\n",
            "tensor(0.6347, device='cuda:0', grad_fn=<NllLossBackward0>)\n",
            "tensor(0.6858, device='cuda:0', grad_fn=<NllLossBackward0>)\n",
            "tensor(0.6676, device='cuda:0', grad_fn=<NllLossBackward0>)\n",
            "tensor(0.5628, device='cuda:0', grad_fn=<NllLossBackward0>)\n",
            "tensor(0.6394, device='cuda:0', grad_fn=<NllLossBackward0>)\n",
            "tensor(0.6223, device='cuda:0', grad_fn=<NllLossBackward0>)\n",
            "tensor(0.6422, device='cuda:0', grad_fn=<NllLossBackward0>)\n",
            "tensor(0.5843, device='cuda:0', grad_fn=<NllLossBackward0>)\n",
            "tensor(0.7376, device='cuda:0', grad_fn=<NllLossBackward0>)\n",
            "tensor(0.5856, device='cuda:0', grad_fn=<NllLossBackward0>)\n",
            "tensor(0.6089, device='cuda:0', grad_fn=<NllLossBackward0>)\n",
            "tensor(0.5922, device='cuda:0', grad_fn=<NllLossBackward0>)\n",
            "tensor(0.6673, device='cuda:0', grad_fn=<NllLossBackward0>)\n",
            "\n",
            "  Average training loss: 0.63\n",
            "\n",
            "Running Validation...\n"
          ]
        },
        {
          "output_type": "stream",
          "name": "stderr",
          "text": [
            "100%|██████████| 3/3 [09:59<00:00, 199.89s/it]"
          ]
        },
        {
          "output_type": "stream",
          "name": "stdout",
          "text": [
            "  Accuracy: 0.57\n",
            "  Validation Loss: 0.72\n",
            "  Validation took: 0:00:15\n",
            "\n",
            "Training complete!\n",
            "Total training took 0:10:00\n"
          ]
        },
        {
          "output_type": "stream",
          "name": "stderr",
          "text": [
            "\n"
          ]
        }
      ]
    },
    {
      "cell_type": "markdown",
      "source": [
        "Now we can check how our accuracy is!"
      ],
      "metadata": {
        "id": "XkhEjd9WxSRy"
      }
    },
    {
      "cell_type": "code",
      "source": [
        "print('Predicting labels for test sentences...')\n",
        "\n",
        "# Put model in evaluation mode\n",
        "model_E.eval()\n",
        "\n",
        "# Tracking variables\n",
        "predictions , true_labels = [], []\n",
        "\n",
        "# Predict\n",
        "for batch in test_loader:\n",
        "\n",
        "  # Unpack the inputs from our dataloader\n",
        "  b_input_ids = batch[0].to(device)\n",
        "  b_input_mask = batch[1].to(device)\n",
        "  b_labels = batch[2].to(device)\n",
        "  # Telling the model not to compute or store gradients, saving memory and\n",
        "  # speeding up prediction\n",
        "  with torch.no_grad():\n",
        "      # Forward pass, calculate logit predictions\n",
        "      outputs = model_E(b_input_ids,\n",
        "                      attention_mask=b_input_mask)\n",
        "  logits = outputs[0]\n",
        "\n",
        "  # Move logits and labels to CPU\n",
        "  logits = logits.detach().cpu().numpy()\n",
        "  label_ids = b_labels.to('cpu').numpy()\n",
        "\n",
        "  # Store predictions and true labels\n",
        "  predictions.extend(logits)\n",
        "  true_labels.extend(label_ids)\n",
        "print('Final Accuracy: {0}'.format(flat_accuracy(np.asarray(predictions), np.asarray(true_labels))))\n",
        "\n",
        "print('    DONE.')"
      ],
      "metadata": {
        "id": "de6g2qv1xVnN",
        "outputId": "b5b948ec-55d2-4a32-c017-03faf8f3af2b",
        "colab": {
          "base_uri": "https://localhost:8080/",
          "height": 1000
        }
      },
      "execution_count": null,
      "outputs": [
        {
          "output_type": "stream",
          "name": "stdout",
          "text": [
            "Predicting labels for test sentences...\n",
            "tensor([[   101,    146,    100,  ...,      0,      0,      0],\n",
            "        [   101,    164,   9625,  ...,      0,      0,      0],\n",
            "        [   101,  12489,  10635,  ...,      0,      0,      0],\n",
            "        ...,\n",
            "        [   101,  39773, 102574,  ...,      0,      0,      0],\n",
            "        [   101,   9651, 119008,  ...,      0,      0,      0],\n",
            "        [   101,  30085,  37712,  ...,      0,      0,      0]],\n",
            "       device='cuda:0')\n",
            "tensor([[  101,   119,   164,  ...,     0,     0,     0],\n",
            "        [  101,  1910, 26554,  ...,     0,     0,     0],\n",
            "        [  101, 11590, 14687,  ...,     0,     0,     0],\n",
            "        ...,\n",
            "        [  101,  9599,  9379,  ...,     0,     0,     0],\n",
            "        [  101,   164,   108,  ...,     0,     0,     0],\n",
            "        [  101, 12242, 11951,  ...,     0,     0,     0]], device='cuda:0')\n",
            "tensor([[  101,   108,  9074,  ...,     0,     0,     0],\n",
            "        [  101,   108,   168,  ...,     0,     0,     0],\n",
            "        [  101,   125, 10954,  ...,     0,     0,     0],\n",
            "        ...,\n",
            "        [  101,   108, 10287,  ...,     0,     0,     0],\n",
            "        [  101,   108,  9993,  ...,     0,     0,     0],\n",
            "        [  101,   136,   102,  ...,     0,     0,     0]], device='cuda:0')\n",
            "tensor([[   101,  31178,  67067,  ...,      0,      0,      0],\n",
            "        [   101,    108,    183,  ...,      0,      0,      0],\n",
            "        [   101,  98199, 119088,  ...,      0,      0,      0],\n",
            "        ...,\n",
            "        [   101,    119,    119,  ...,      0,      0,      0],\n",
            "        [   101,   9651,  13764,  ...,      0,      0,      0],\n",
            "        [   101,    100, 110516,  ...,      0,      0,      0]],\n",
            "       device='cuda:0')\n",
            "tensor([[   101,    108,   9738,  ...,      0,      0,      0],\n",
            "        [   101,   9344,  49919,  ...,      0,      0,      0],\n",
            "        [   101,    119,  11000,  ...,      0,      0,      0],\n",
            "        ...,\n",
            "        [   101,   9521, 118741,  ...,   9521, 118624,    102],\n",
            "        [   101,   9539,  43962,  ...,      0,      0,      0],\n",
            "        [   101,  38508,  54006,  ...,      0,      0,      0]],\n",
            "       device='cuda:0')\n",
            "tensor([[  101, 13697, 10908,  ...,     0,     0,     0],\n",
            "        [  101,   100,   102,  ...,     0,     0,     0],\n",
            "        [  101,  9272, 12692,  ...,     0,     0,     0],\n",
            "        ...,\n",
            "        [  101,  9604,   119,  ...,     0,     0,     0],\n",
            "        [  101, 29079,   102,  ...,     0,     0,     0],\n",
            "        [  101,   100,   100,  ...,     0,     0,     0]], device='cuda:0')\n"
          ]
        },
        {
          "output_type": "error",
          "ename": "KeyboardInterrupt",
          "evalue": "ignored",
          "traceback": [
            "\u001b[0;31m---------------------------------------------------------------------------\u001b[0m",
            "\u001b[0;31mKeyboardInterrupt\u001b[0m                         Traceback (most recent call last)",
            "\u001b[0;32m<ipython-input-20-bdc37632684b>\u001b[0m in \u001b[0;36m<cell line: 10>\u001b[0;34m()\u001b[0m\n\u001b[1;32m     24\u001b[0m \u001b[0;34m\u001b[0m\u001b[0m\n\u001b[1;32m     25\u001b[0m   \u001b[0;31m# Move logits and labels to CPU\u001b[0m\u001b[0;34m\u001b[0m\u001b[0;34m\u001b[0m\u001b[0m\n\u001b[0;32m---> 26\u001b[0;31m   \u001b[0mlogits\u001b[0m \u001b[0;34m=\u001b[0m \u001b[0mlogits\u001b[0m\u001b[0;34m.\u001b[0m\u001b[0mdetach\u001b[0m\u001b[0;34m(\u001b[0m\u001b[0;34m)\u001b[0m\u001b[0;34m.\u001b[0m\u001b[0mcpu\u001b[0m\u001b[0;34m(\u001b[0m\u001b[0;34m)\u001b[0m\u001b[0;34m.\u001b[0m\u001b[0mnumpy\u001b[0m\u001b[0;34m(\u001b[0m\u001b[0;34m)\u001b[0m\u001b[0;34m\u001b[0m\u001b[0;34m\u001b[0m\u001b[0m\n\u001b[0m\u001b[1;32m     27\u001b[0m   \u001b[0mlabel_ids\u001b[0m \u001b[0;34m=\u001b[0m \u001b[0mb_labels\u001b[0m\u001b[0;34m.\u001b[0m\u001b[0mto\u001b[0m\u001b[0;34m(\u001b[0m\u001b[0;34m'cpu'\u001b[0m\u001b[0;34m)\u001b[0m\u001b[0;34m.\u001b[0m\u001b[0mnumpy\u001b[0m\u001b[0;34m(\u001b[0m\u001b[0;34m)\u001b[0m\u001b[0;34m\u001b[0m\u001b[0;34m\u001b[0m\u001b[0m\n\u001b[1;32m     28\u001b[0m \u001b[0;34m\u001b[0m\u001b[0m\n",
            "\u001b[0;31mKeyboardInterrupt\u001b[0m: "
          ]
        }
      ]
    },
    {
      "cell_type": "markdown",
      "source": [
        "## Sensing/Intuition"
      ],
      "metadata": {
        "id": "auUb493EiqK8"
      }
    },
    {
      "cell_type": "code",
      "source": [
        "# 70% train, 15% test, 15% validation\n",
        "subsample = 20\n",
        "\n",
        "train_dataset_S = tokenizer_function(captions[0:84500:subsample], sensing[0:84500:subsample])\n",
        "val_dataset_S = tokenizer_function(captions[84500:102500:subsample], sensing[84500:102500:subsample])\n",
        "test_dataset_S = tokenizer_function(captions[102500::subsample], sensing[102500::subsample])"
      ],
      "metadata": {
        "id": "xbAmMEGbm6dh"
      },
      "execution_count": null,
      "outputs": []
    },
    {
      "cell_type": "code",
      "source": [
        "from transformers import DistilBertForSequenceClassification, AdamW\n",
        "from torch.utils.data import DataLoader\n",
        "import torch.nn.functional as F\n",
        "device = torch.device('cuda') if torch.cuda.is_available() else torch.device('cpu')\n",
        "# device = torch.device('cpu')\n",
        "\n",
        "model_S = DistilBertForSequenceClassification.from_pretrained('distilbert-base-multilingual-cased', num_labels=2, output_attentions = False, output_hidden_states=False)\n",
        "model_S.to(device)\n",
        "\n",
        "train_loader = DataLoader(train_dataset_S, batch_size=32, shuffle=True) #Feel free to experiment with batch sizes\n",
        "val_loader = DataLoader(val_dataset_S, batch_size=32, shuffle=True)\n",
        "test_loader = DataLoader(test_dataset_S, batch_size=32, shuffle=True)"
      ],
      "metadata": {
        "id": "PoHPzcFKm6dn"
      },
      "execution_count": null,
      "outputs": []
    },
    {
      "cell_type": "code",
      "source": [
        "optimizer = AdamW(model_S.parameters(),\n",
        "                lr = 5e-5, # args.learning_rate - default is 5e-5.\n",
        "                eps = 1e-8 # args.adam_epsilon  - default is 1e-8.\n",
        "              )\n"
      ],
      "metadata": {
        "outputId": "564071ce-bdeb-4c1f-e735-9dfc100ef068",
        "colab": {
          "base_uri": "https://localhost:8080/"
        },
        "id": "qmJgaz2Im6dn"
      },
      "execution_count": null,
      "outputs": [
        {
          "output_type": "stream",
          "name": "stderr",
          "text": [
            "/usr/local/lib/python3.10/dist-packages/transformers/optimization.py:411: FutureWarning: This implementation of AdamW is deprecated and will be removed in a future version. Use the PyTorch implementation torch.optim.AdamW instead, or set `no_deprecation_warning=True` to disable this warning\n",
            "  warnings.warn(\n"
          ]
        }
      ]
    },
    {
      "cell_type": "markdown",
      "source": [
        "Now it is time to train. Notice how it is working, it might potentially help with your project as well!"
      ],
      "metadata": {
        "id": "VMLlFA94m6dn"
      }
    },
    {
      "cell_type": "code",
      "source": [
        "total_t0 = time.time()\n",
        "for epoch in tqdm(range(3)):\n",
        "  total_train_loss = 0\n",
        "  model_S.train()\n",
        "  for step, batch in enumerate(train_loader):\n",
        "\n",
        "    b_input_ids = batch[0].to(device)\n",
        "    b_input_mask = batch[1].to(device)\n",
        "    b_labels = batch[2].to(device)\n",
        "    model_S.zero_grad()\n",
        "    outputs = model_S(b_input_ids,\n",
        "                            attention_mask=b_input_mask,\n",
        "                            labels=b_labels)\n",
        "    loss = outputs.loss\n",
        "    total_train_loss += loss\n",
        "    loss.backward()\n",
        "    torch.nn.utils.clip_grad_norm_(model_S.parameters(), 1.0)\n",
        "    optimizer.step()\n",
        "    if(step %10 == 0):\n",
        "      print(loss)\n",
        "\n",
        "  avg_train_loss = total_train_loss / len(train_loader)\n",
        "  print(\"\")\n",
        "  print(\"  Average training loss: {0:.2f}\".format(avg_train_loss))\n",
        "\n",
        "  print(\"\")\n",
        "  print(\"Running Validation...\")\n",
        "\n",
        "  t0 = time.time()\n",
        "\n",
        "  # Put the model in evaluation mode-\n",
        "  model_S.eval()\n",
        "\n",
        "  # Tracking variables\n",
        "  total_eval_accuracy = 0\n",
        "  total_eval_loss = 0\n",
        "  nb_eval_steps = 0\n",
        "\n",
        "    # Evaluate data for one epoch\n",
        "  for batch in val_loader:\n",
        "      #\n",
        "      # `batch` contains three pytorch tensors:\n",
        "      #   [0]: input ids\n",
        "      #   [1]: attention masksx\n",
        "      #   [2]: labels\n",
        "      b_input_ids = batch[0].to(device)\n",
        "      b_input_mask = batch[1].to(device)\n",
        "      b_labels = batch[2].to(device)\n",
        "\n",
        "      with torch.no_grad():\n",
        "\n",
        "          outputs = model_S(b_input_ids,\n",
        "                                  attention_mask=b_input_mask,\n",
        "                                  labels=b_labels)\n",
        "\n",
        "      # Accumulate the validation loss.\n",
        "      loss = outputs.loss\n",
        "      logits = outputs.logits\n",
        "      total_eval_loss += loss.item()\n",
        "\n",
        "      # Move logits and labels to CPU\n",
        "      logits = logits.detach().cpu().numpy()\n",
        "      label_ids = b_labels.to('cpu').numpy()\n",
        "\n",
        "      # Calculate the accuracy for this batch of test sentences, and\n",
        "      # accumulate it over all batches.\n",
        "      total_eval_accuracy += flat_accuracy(logits, label_ids)\n",
        "\n",
        "\n",
        "  # Report the final accuracy for this validation run.\n",
        "  avg_val_accuracy = total_eval_accuracy / len(val_loader)\n",
        "  print(\"  Accuracy: {0:.2f}\".format(avg_val_accuracy))\n",
        "\n",
        "  # Calculate the average loss over all of the batches.\n",
        "  avg_val_loss = total_eval_loss / len(val_loader)\n",
        "\n",
        "  # Measure how long the validation run took.\n",
        "  validation_time = format_time(time.time() - t0)\n",
        "\n",
        "  print(\"  Validation Loss: {0:.2f}\".format(avg_val_loss))\n",
        "  print(\"  Validation took: {:}\".format(validation_time))\n",
        "\n",
        "print(\"\")\n",
        "print(\"Training complete!\")\n",
        "\n",
        "print(\"Total training took {:}\".format(format_time(time.time()-total_t0)))"
      ],
      "metadata": {
        "outputId": "fd177e14-9972-43ff-e9ef-588b40c5226b",
        "colab": {
          "base_uri": "https://localhost:8080/"
        },
        "id": "Ejt8fQvKm6dn"
      },
      "execution_count": null,
      "outputs": [
        {
          "output_type": "stream",
          "name": "stderr",
          "text": [
            "\r  0%|          | 0/3 [00:00<?, ?it/s]"
          ]
        },
        {
          "output_type": "stream",
          "name": "stdout",
          "text": [
            "tensor(0.6355, device='cuda:0', grad_fn=<NllLossBackward0>)\n",
            "tensor(0.6880, device='cuda:0', grad_fn=<NllLossBackward0>)\n",
            "tensor(0.6552, device='cuda:0', grad_fn=<NllLossBackward0>)\n",
            "tensor(0.6433, device='cuda:0', grad_fn=<NllLossBackward0>)\n",
            "tensor(0.6348, device='cuda:0', grad_fn=<NllLossBackward0>)\n",
            "tensor(0.6451, device='cuda:0', grad_fn=<NllLossBackward0>)\n",
            "tensor(0.6398, device='cuda:0', grad_fn=<NllLossBackward0>)\n",
            "tensor(0.6956, device='cuda:0', grad_fn=<NllLossBackward0>)\n",
            "tensor(0.6492, device='cuda:0', grad_fn=<NllLossBackward0>)\n",
            "tensor(0.6480, device='cuda:0', grad_fn=<NllLossBackward0>)\n",
            "tensor(0.6538, device='cuda:0', grad_fn=<NllLossBackward0>)\n",
            "tensor(0.6444, device='cuda:0', grad_fn=<NllLossBackward0>)\n",
            "tensor(0.6476, device='cuda:0', grad_fn=<NllLossBackward0>)\n",
            "tensor(0.6250, device='cuda:0', grad_fn=<NllLossBackward0>)\n",
            "\n",
            "  Average training loss: 0.66\n",
            "\n",
            "Running Validation...\n"
          ]
        },
        {
          "output_type": "stream",
          "name": "stderr",
          "text": [
            "\r 33%|███▎      | 1/3 [03:23<06:47, 203.58s/it]"
          ]
        },
        {
          "output_type": "stream",
          "name": "stdout",
          "text": [
            "  Accuracy: 0.66\n",
            "  Validation Loss: 0.66\n",
            "  Validation took: 0:00:15\n",
            "tensor(0.6681, device='cuda:0', grad_fn=<NllLossBackward0>)\n",
            "tensor(0.6742, device='cuda:0', grad_fn=<NllLossBackward0>)\n",
            "tensor(0.7034, device='cuda:0', grad_fn=<NllLossBackward0>)\n",
            "tensor(0.6724, device='cuda:0', grad_fn=<NllLossBackward0>)\n",
            "tensor(0.6767, device='cuda:0', grad_fn=<NllLossBackward0>)\n",
            "tensor(0.6297, device='cuda:0', grad_fn=<NllLossBackward0>)\n",
            "tensor(0.6957, device='cuda:0', grad_fn=<NllLossBackward0>)\n",
            "tensor(0.6658, device='cuda:0', grad_fn=<NllLossBackward0>)\n",
            "tensor(0.6983, device='cuda:0', grad_fn=<NllLossBackward0>)\n",
            "tensor(0.6580, device='cuda:0', grad_fn=<NllLossBackward0>)\n",
            "tensor(0.6712, device='cuda:0', grad_fn=<NllLossBackward0>)\n",
            "tensor(0.6218, device='cuda:0', grad_fn=<NllLossBackward0>)\n",
            "tensor(0.6691, device='cuda:0', grad_fn=<NllLossBackward0>)\n",
            "tensor(0.6339, device='cuda:0', grad_fn=<NllLossBackward0>)\n",
            "\n",
            "  Average training loss: 0.66\n",
            "\n",
            "Running Validation...\n"
          ]
        },
        {
          "output_type": "stream",
          "name": "stderr",
          "text": [
            "\r 67%|██████▋   | 2/3 [06:46<03:23, 203.24s/it]"
          ]
        },
        {
          "output_type": "stream",
          "name": "stdout",
          "text": [
            "  Accuracy: 0.65\n",
            "  Validation Loss: 0.66\n",
            "  Validation took: 0:00:15\n",
            "tensor(0.6709, device='cuda:0', grad_fn=<NllLossBackward0>)\n",
            "tensor(0.6732, device='cuda:0', grad_fn=<NllLossBackward0>)\n",
            "tensor(0.6919, device='cuda:0', grad_fn=<NllLossBackward0>)\n",
            "tensor(0.6347, device='cuda:0', grad_fn=<NllLossBackward0>)\n",
            "tensor(0.6685, device='cuda:0', grad_fn=<NllLossBackward0>)\n",
            "tensor(0.6714, device='cuda:0', grad_fn=<NllLossBackward0>)\n",
            "tensor(0.6718, device='cuda:0', grad_fn=<NllLossBackward0>)\n",
            "tensor(0.6605, device='cuda:0', grad_fn=<NllLossBackward0>)\n",
            "tensor(0.6657, device='cuda:0', grad_fn=<NllLossBackward0>)\n",
            "tensor(0.6513, device='cuda:0', grad_fn=<NllLossBackward0>)\n",
            "tensor(0.6397, device='cuda:0', grad_fn=<NllLossBackward0>)\n",
            "tensor(0.7108, device='cuda:0', grad_fn=<NllLossBackward0>)\n",
            "tensor(0.6677, device='cuda:0', grad_fn=<NllLossBackward0>)\n",
            "tensor(0.6237, device='cuda:0', grad_fn=<NllLossBackward0>)\n",
            "\n",
            "  Average training loss: 0.66\n",
            "\n",
            "Running Validation...\n"
          ]
        },
        {
          "output_type": "stream",
          "name": "stderr",
          "text": [
            "100%|██████████| 3/3 [10:09<00:00, 203.26s/it]"
          ]
        },
        {
          "output_type": "stream",
          "name": "stdout",
          "text": [
            "  Accuracy: 0.66\n",
            "  Validation Loss: 0.66\n",
            "  Validation took: 0:00:15\n",
            "\n",
            "Training complete!\n",
            "Total training took 0:10:10\n"
          ]
        },
        {
          "output_type": "stream",
          "name": "stderr",
          "text": [
            "\n"
          ]
        }
      ]
    },
    {
      "cell_type": "markdown",
      "source": [
        "Now we can check how our accuracy is!"
      ],
      "metadata": {
        "id": "nZT9_x3sm6dn"
      }
    },
    {
      "cell_type": "code",
      "source": [
        "print('Predicting labels for test sentences...')\n",
        "\n",
        "# Put model in evaluation mode\n",
        "model_S.eval()\n",
        "\n",
        "# Tracking variables\n",
        "predictions , true_labels = [], []\n",
        "\n",
        "# Predict\n",
        "for batch in test_loader:\n",
        "\n",
        "  # Unpack the inputs from our dataloader\n",
        "  b_input_ids = batch[0].to(device)\n",
        "  b_input_mask = batch[1].to(device)\n",
        "  b_labels = batch[2].to(device)\n",
        "  # Telling the model not to compute or store gradients, saving memory and\n",
        "  # speeding up prediction\n",
        "  with torch.no_grad():\n",
        "      # Forward pass, calculate logit predictions\n",
        "      outputs = model_S(b_input_ids,\n",
        "                      attention_mask=b_input_mask)\n",
        "  logits = outputs[0]\n",
        "\n",
        "  # Move logits and labels to CPU\n",
        "  logits = logits.detach().cpu().numpy()\n",
        "  label_ids = b_labels.to('cpu').numpy()\n",
        "\n",
        "  # Store predictions and true labels\n",
        "  predictions.extend(logits)\n",
        "  true_labels.extend(label_ids)\n",
        "print('Final Accuracy: {0}'.format(flat_accuracy(np.asarray(predictions), np.asarray(true_labels))))\n",
        "\n",
        "print('    DONE.')"
      ],
      "metadata": {
        "colab": {
          "base_uri": "https://localhost:8080/"
        },
        "id": "Qnc9LNAYm6do",
        "outputId": "7ab773ed-f2ce-4763-9d35-d57f799e25b7"
      },
      "execution_count": null,
      "outputs": [
        {
          "output_type": "stream",
          "name": "stdout",
          "text": [
            "Predicting labels for test sentences...\n",
            "Final Accuracy: 0.7008456659619451\n",
            "    DONE.\n"
          ]
        }
      ]
    },
    {
      "cell_type": "markdown",
      "source": [
        "## Thinking/Feeling"
      ],
      "metadata": {
        "id": "tnMLGQMUnZ9-"
      }
    },
    {
      "cell_type": "code",
      "source": [
        "# 70% train, 15% test, 15% validation\n",
        "subsample = 20\n",
        "\n",
        "train_dataset_T = tokenizer_function(captions[0:84500:subsample], thinking[0:84500:subsample])\n",
        "val_dataset_T = tokenizer_function(captions[84500:102500:subsample], thinking[84500:102500:subsample])\n",
        "test_dataset_T = tokenizer_function(captions[102500::subsample], thinking[102500::subsample])"
      ],
      "metadata": {
        "outputId": "9ffc287e-b3ec-4bc4-9112-0467f107a856",
        "colab": {
          "base_uri": "https://localhost:8080/"
        },
        "id": "ZTmqpVNdnZ9-"
      },
      "execution_count": null,
      "outputs": [
        {
          "output_type": "stream",
          "name": "stderr",
          "text": [
            "/usr/local/lib/python3.10/dist-packages/transformers/tokenization_utils_base.py:2614: FutureWarning: The `pad_to_max_length` argument is deprecated and will be removed in a future version, use `padding=True` or `padding='longest'` to pad to the longest sequence in the batch, or use `padding='max_length'` to pad to a max length. In this case, you can give a specific length with `max_length` (e.g. `max_length=45`) or leave max_length to None to pad to the maximal input size of the model (e.g. 512 for Bert).\n",
            "  warnings.warn(\n"
          ]
        }
      ]
    },
    {
      "cell_type": "code",
      "source": [
        "from transformers import DistilBertForSequenceClassification, AdamW\n",
        "from torch.utils.data import DataLoader\n",
        "import torch.nn.functional as F\n",
        "device = torch.device('cuda') if torch.cuda.is_available() else torch.device('cpu')\n",
        "# device = torch.device('cpu')\n",
        "\n",
        "model_T = DistilBertForSequenceClassification.from_pretrained('distilbert-base-multilingual-cased', num_labels=2, output_attentions = False, output_hidden_states=False)\n",
        "model_T.to(device)\n",
        "\n",
        "train_loader = DataLoader(train_dataset_T, batch_size=32, shuffle=True) #Feel free to experiment with batch sizes\n",
        "val_loader = DataLoader(val_dataset_T, batch_size=32, shuffle=True)\n",
        "test_loader = DataLoader(test_dataset_T, batch_size=32, shuffle=True)"
      ],
      "metadata": {
        "outputId": "56df142c-8aaf-412a-a626-54bc83d6d5a2",
        "colab": {
          "base_uri": "https://localhost:8080/"
        },
        "id": "XHSiUAEznZ9-"
      },
      "execution_count": null,
      "outputs": [
        {
          "output_type": "stream",
          "name": "stderr",
          "text": [
            "Some weights of DistilBertForSequenceClassification were not initialized from the model checkpoint at distilbert-base-multilingual-cased and are newly initialized: ['classifier.bias', 'pre_classifier.weight', 'pre_classifier.bias', 'classifier.weight']\n",
            "You should probably TRAIN this model on a down-stream task to be able to use it for predictions and inference.\n"
          ]
        }
      ]
    },
    {
      "cell_type": "code",
      "source": [
        "optimizer = AdamW(model_T.parameters(),\n",
        "                lr = 5e-5, # args.learning_rate - default is 5e-5.\n",
        "                eps = 1e-8 # args.adam_epsilon  - default is 1e-8.\n",
        "              )\n"
      ],
      "metadata": {
        "outputId": "81304e02-b4fd-4b02-bb00-4bc692f0bf1b",
        "colab": {
          "base_uri": "https://localhost:8080/"
        },
        "id": "2qRyXMXLnZ9-"
      },
      "execution_count": null,
      "outputs": [
        {
          "output_type": "stream",
          "name": "stderr",
          "text": [
            "/usr/local/lib/python3.10/dist-packages/transformers/optimization.py:411: FutureWarning: This implementation of AdamW is deprecated and will be removed in a future version. Use the PyTorch implementation torch.optim.AdamW instead, or set `no_deprecation_warning=True` to disable this warning\n",
            "  warnings.warn(\n"
          ]
        }
      ]
    },
    {
      "cell_type": "markdown",
      "source": [
        "Now it is time to train. Notice how it is working, it might potentially help with your project as well!"
      ],
      "metadata": {
        "id": "u1NjS4IqnZ9_"
      }
    },
    {
      "cell_type": "code",
      "source": [
        "total_t0 = time.time()\n",
        "for epoch in tqdm(range(3)):\n",
        "  total_train_loss = 0\n",
        "  model_T.train()\n",
        "  for step, batch in enumerate(train_loader):\n",
        "\n",
        "    b_input_ids = batch[0].to(device)\n",
        "    b_input_mask = batch[1].to(device)\n",
        "    b_labels = batch[2].to(device)\n",
        "    model_T.zero_grad()\n",
        "    outputs = model_T(b_input_ids,\n",
        "                            attention_mask=b_input_mask,\n",
        "                            labels=b_labels)\n",
        "    loss = outputs.loss\n",
        "    total_train_loss += loss\n",
        "    loss.backward()\n",
        "    torch.nn.utils.clip_grad_norm_(model_T.parameters(), 1.0)\n",
        "    optimizer.step()\n",
        "    if(step %10 == 0):\n",
        "      print(loss)\n",
        "\n",
        "  avg_train_loss = total_train_loss / len(train_loader)\n",
        "  print(\"\")\n",
        "  print(\"  Average training loss: {0:.2f}\".format(avg_train_loss))\n",
        "\n",
        "  print(\"\")\n",
        "  print(\"Running Validation...\")\n",
        "\n",
        "  t0 = time.time()\n",
        "\n",
        "  # Put the model in evaluation mode-\n",
        "  model_T.eval()\n",
        "\n",
        "  # Tracking variables\n",
        "  total_eval_accuracy = 0\n",
        "  total_eval_loss = 0\n",
        "  nb_eval_steps = 0\n",
        "\n",
        "    # Evaluate data for one epoch\n",
        "  for batch in val_loader:\n",
        "      #\n",
        "      # `batch` contains three pytorch tensors:\n",
        "      #   [0]: input ids\n",
        "      #   [1]: attention masksx\n",
        "      #   [2]: labels\n",
        "      b_input_ids = batch[0].to(device)\n",
        "      b_input_mask = batch[1].to(device)\n",
        "      b_labels = batch[2].to(device)\n",
        "\n",
        "      with torch.no_grad():\n",
        "\n",
        "          outputs = model_T(b_input_ids,\n",
        "                                  attention_mask=b_input_mask,\n",
        "                                  labels=b_labels)\n",
        "\n",
        "      # Accumulate the validation loss.\n",
        "      loss = outputs.loss\n",
        "      logits = outputs.logits\n",
        "      total_eval_loss += loss.item()\n",
        "\n",
        "      # Move logits and labels to CPU\n",
        "      logits = logits.detach().cpu().numpy()\n",
        "      label_ids = b_labels.to('cpu').numpy()\n",
        "\n",
        "      # Calculate the accuracy for this batch of test sentences, and\n",
        "      # accumulate it over all batches.\n",
        "      total_eval_accuracy += flat_accuracy(logits, label_ids)\n",
        "\n",
        "\n",
        "  # Report the final accuracy for this validation run.\n",
        "  avg_val_accuracy = total_eval_accuracy / len(val_loader)\n",
        "  print(\"  Accuracy: {0:.2f}\".format(avg_val_accuracy))\n",
        "\n",
        "  # Calculate the average loss over all of the batches.\n",
        "  avg_val_loss = total_eval_loss / len(val_loader)\n",
        "\n",
        "  # Measure how long the validation run took.\n",
        "  validation_time = format_time(time.time() - t0)\n",
        "\n",
        "  print(\"  Validation Loss: {0:.2f}\".format(avg_val_loss))\n",
        "  print(\"  Validation took: {:}\".format(validation_time))\n",
        "\n",
        "print(\"\")\n",
        "print(\"Training complete!\")\n",
        "\n",
        "print(\"Total training took {:}\".format(format_time(time.time()-total_t0)))"
      ],
      "metadata": {
        "outputId": "a151b9ec-8931-49cd-bfb1-1c2c6c3cd93d",
        "colab": {
          "base_uri": "https://localhost:8080/"
        },
        "id": "ktF4Q3cTnZ9_"
      },
      "execution_count": null,
      "outputs": [
        {
          "output_type": "stream",
          "name": "stderr",
          "text": [
            "\r  0%|          | 0/3 [00:00<?, ?it/s]"
          ]
        },
        {
          "output_type": "stream",
          "name": "stdout",
          "text": [
            "tensor(0.6811, device='cuda:0', grad_fn=<NllLossBackward0>)\n",
            "tensor(0.5188, device='cuda:0', grad_fn=<NllLossBackward0>)\n",
            "tensor(0.6103, device='cuda:0', grad_fn=<NllLossBackward0>)\n",
            "tensor(0.5061, device='cuda:0', grad_fn=<NllLossBackward0>)\n",
            "tensor(0.5710, device='cuda:0', grad_fn=<NllLossBackward0>)\n",
            "tensor(0.6382, device='cuda:0', grad_fn=<NllLossBackward0>)\n",
            "tensor(0.5096, device='cuda:0', grad_fn=<NllLossBackward0>)\n",
            "tensor(0.7009, device='cuda:0', grad_fn=<NllLossBackward0>)\n",
            "tensor(0.6389, device='cuda:0', grad_fn=<NllLossBackward0>)\n",
            "tensor(0.5223, device='cuda:0', grad_fn=<NllLossBackward0>)\n",
            "tensor(0.6731, device='cuda:0', grad_fn=<NllLossBackward0>)\n",
            "tensor(0.6433, device='cuda:0', grad_fn=<NllLossBackward0>)\n",
            "tensor(0.6269, device='cuda:0', grad_fn=<NllLossBackward0>)\n",
            "tensor(0.6432, device='cuda:0', grad_fn=<NllLossBackward0>)\n",
            "\n",
            "  Average training loss: 0.61\n",
            "\n",
            "Running Validation...\n"
          ]
        },
        {
          "output_type": "stream",
          "name": "stderr",
          "text": [
            "\r 33%|███▎      | 1/3 [03:18<06:36, 198.38s/it]"
          ]
        },
        {
          "output_type": "stream",
          "name": "stdout",
          "text": [
            "  Accuracy: 0.70\n",
            "  Validation Loss: 0.60\n",
            "  Validation took: 0:00:15\n",
            "tensor(0.6075, device='cuda:0', grad_fn=<NllLossBackward0>)\n",
            "tensor(0.6410, device='cuda:0', grad_fn=<NllLossBackward0>)\n",
            "tensor(0.5716, device='cuda:0', grad_fn=<NllLossBackward0>)\n",
            "tensor(0.5332, device='cuda:0', grad_fn=<NllLossBackward0>)\n",
            "tensor(0.5526, device='cuda:0', grad_fn=<NllLossBackward0>)\n",
            "tensor(0.5896, device='cuda:0', grad_fn=<NllLossBackward0>)\n",
            "tensor(0.3503, device='cuda:0', grad_fn=<NllLossBackward0>)\n",
            "tensor(0.5363, device='cuda:0', grad_fn=<NllLossBackward0>)\n",
            "tensor(0.5811, device='cuda:0', grad_fn=<NllLossBackward0>)\n",
            "tensor(0.7322, device='cuda:0', grad_fn=<NllLossBackward0>)\n",
            "tensor(0.6045, device='cuda:0', grad_fn=<NllLossBackward0>)\n",
            "tensor(0.5558, device='cuda:0', grad_fn=<NllLossBackward0>)\n",
            "tensor(0.5581, device='cuda:0', grad_fn=<NllLossBackward0>)\n",
            "tensor(0.5141, device='cuda:0', grad_fn=<NllLossBackward0>)\n",
            "\n",
            "  Average training loss: 0.58\n",
            "\n",
            "Running Validation...\n"
          ]
        },
        {
          "output_type": "stream",
          "name": "stderr",
          "text": [
            "\r 67%|██████▋   | 2/3 [06:40<03:20, 200.40s/it]"
          ]
        },
        {
          "output_type": "stream",
          "name": "stdout",
          "text": [
            "  Accuracy: 0.72\n",
            "  Validation Loss: 0.60\n",
            "  Validation took: 0:00:15\n",
            "tensor(0.7362, device='cuda:0', grad_fn=<NllLossBackward0>)\n",
            "tensor(0.4688, device='cuda:0', grad_fn=<NllLossBackward0>)\n",
            "tensor(0.5888, device='cuda:0', grad_fn=<NllLossBackward0>)\n",
            "tensor(0.3904, device='cuda:0', grad_fn=<NllLossBackward0>)\n",
            "tensor(0.5838, device='cuda:0', grad_fn=<NllLossBackward0>)\n",
            "tensor(0.5093, device='cuda:0', grad_fn=<NllLossBackward0>)\n",
            "tensor(0.4785, device='cuda:0', grad_fn=<NllLossBackward0>)\n",
            "tensor(0.4173, device='cuda:0', grad_fn=<NllLossBackward0>)\n",
            "tensor(0.5066, device='cuda:0', grad_fn=<NllLossBackward0>)\n",
            "tensor(0.4065, device='cuda:0', grad_fn=<NllLossBackward0>)\n",
            "tensor(0.3612, device='cuda:0', grad_fn=<NllLossBackward0>)\n",
            "tensor(0.5323, device='cuda:0', grad_fn=<NllLossBackward0>)\n",
            "tensor(0.4346, device='cuda:0', grad_fn=<NllLossBackward0>)\n",
            "tensor(0.5191, device='cuda:0', grad_fn=<NllLossBackward0>)\n",
            "\n",
            "  Average training loss: 0.47\n",
            "\n",
            "Running Validation...\n"
          ]
        },
        {
          "output_type": "stream",
          "name": "stderr",
          "text": [
            "100%|██████████| 3/3 [10:02<00:00, 200.69s/it]"
          ]
        },
        {
          "output_type": "stream",
          "name": "stdout",
          "text": [
            "  Accuracy: 0.71\n",
            "  Validation Loss: 0.63\n",
            "  Validation took: 0:00:15\n",
            "\n",
            "Training complete!\n",
            "Total training took 0:10:02\n"
          ]
        },
        {
          "output_type": "stream",
          "name": "stderr",
          "text": [
            "\n"
          ]
        }
      ]
    },
    {
      "cell_type": "markdown",
      "source": [
        "Now we can check how our accuracy is!"
      ],
      "metadata": {
        "id": "GSNaifDSnZ9_"
      }
    },
    {
      "cell_type": "code",
      "source": [
        "print('Predicting labels for test sentences...')\n",
        "\n",
        "# Put model in evaluation mode\n",
        "model_T.eval()\n",
        "\n",
        "# Tracking variables\n",
        "predictions , true_labels = [], []\n",
        "\n",
        "# Predict\n",
        "for batch in test_loader:\n",
        "\n",
        "  # Unpack the inputs from our dataloader\n",
        "  b_input_ids = batch[0].to(device)\n",
        "  b_input_mask = batch[1].to(device)\n",
        "  b_labels = batch[2].to(device)\n",
        "  # Telling the model not to compute or store gradients, saving memory and\n",
        "  # speeding up prediction\n",
        "  with torch.no_grad():\n",
        "      # Forward pass, calculate logit predictions\n",
        "      outputs = model_T(b_input_ids,\n",
        "                      attention_mask=b_input_mask)\n",
        "  logits = outputs[0]\n",
        "\n",
        "  # Move logits and labels to CPU\n",
        "  logits = logits.detach().cpu().numpy()\n",
        "  label_ids = b_labels.to('cpu').numpy()\n",
        "\n",
        "  # Store predictions and true labels\n",
        "  predictions.extend(logits)\n",
        "  true_labels.extend(label_ids)\n",
        "print('Final Accuracy: {0}'.format(flat_accuracy(np.asarray(predictions), np.asarray(true_labels))))\n",
        "\n",
        "print('    DONE.')"
      ],
      "metadata": {
        "colab": {
          "base_uri": "https://localhost:8080/"
        },
        "id": "U6UNWP-unZ9_",
        "outputId": "a76832a2-5d34-4f47-eff2-cf2305cfeeba"
      },
      "execution_count": null,
      "outputs": [
        {
          "output_type": "stream",
          "name": "stdout",
          "text": [
            "Predicting labels for test sentences...\n",
            "Final Accuracy: 0.7066596194503171\n",
            "    DONE.\n"
          ]
        }
      ]
    },
    {
      "cell_type": "markdown",
      "source": [
        "## Judging/Perceiving"
      ],
      "metadata": {
        "id": "HZX_r2TnneVy"
      }
    },
    {
      "cell_type": "code",
      "source": [
        "# 70% train, 15% test, 15% validation\n",
        "subsample = 20\n",
        "\n",
        "train_dataset_J = tokenizer_function(captions[0:84500:subsample], judging[0:84500:subsample])\n",
        "val_dataset_J = tokenizer_function(captions[84500:102500:subsample], judging[84500:102500:subsample])\n",
        "test_dataset_J = tokenizer_function(captions[102500::subsample], judging[102500::subsample])"
      ],
      "metadata": {
        "outputId": "36d59fb2-f871-48ed-86fc-e8f195eec874",
        "colab": {
          "base_uri": "https://localhost:8080/"
        },
        "id": "P9jRPlylneVy"
      },
      "execution_count": null,
      "outputs": [
        {
          "output_type": "stream",
          "name": "stderr",
          "text": [
            "/usr/local/lib/python3.10/dist-packages/transformers/tokenization_utils_base.py:2614: FutureWarning: The `pad_to_max_length` argument is deprecated and will be removed in a future version, use `padding=True` or `padding='longest'` to pad to the longest sequence in the batch, or use `padding='max_length'` to pad to a max length. In this case, you can give a specific length with `max_length` (e.g. `max_length=45`) or leave max_length to None to pad to the maximal input size of the model (e.g. 512 for Bert).\n",
            "  warnings.warn(\n"
          ]
        }
      ]
    },
    {
      "cell_type": "code",
      "source": [
        "from transformers import DistilBertForSequenceClassification, AdamW\n",
        "from torch.utils.data import DataLoader\n",
        "import torch.nn.functional as F\n",
        "device = torch.device('cuda') if torch.cuda.is_available() else torch.device('cpu')\n",
        "# device = torch.device('cpu')\n",
        "\n",
        "model_J = DistilBertForSequenceClassification.from_pretrained('distilbert-base-multilingual-cased', num_labels=2, output_attentions = False, output_hidden_states=False)\n",
        "model_J.to(device)\n",
        "\n",
        "train_loader = DataLoader(train_dataset_J, batch_size=32, shuffle=True) #Feel free to experiment with batch sizes\n",
        "val_loader = DataLoader(val_dataset_J, batch_size=32, shuffle=True)\n",
        "test_loader = DataLoader(test_dataset_J, batch_size=32, shuffle=True)"
      ],
      "metadata": {
        "outputId": "4640c082-ab53-45dc-a4e1-3fb1eac441a9",
        "colab": {
          "base_uri": "https://localhost:8080/",
          "height": 104,
          "referenced_widgets": [
            "80027f702ae44115bda843676ff7147a",
            "e38bb46e4bac4e168728505ecb0a0bb8",
            "c43a4df071074360b5eef95a68514d1a",
            "8874d73bf311463b9f5a3c2d64ed73e5",
            "01d10dd211334ff19f784b7a5eb5334e",
            "c1f979e0dd794300aca902c6d68cc5a6",
            "86b886bd193d4f7ebceb4a40fa01fe0b",
            "c0e2e88b1e3f4b9daa79e10cfb32b5f0",
            "17f559dc9bfc49f59fd0924ebbc58380",
            "8945765bc5fc4e0bbbc7fe93c34c575e",
            "7d7865292c334358b036a3b5a3c0b933"
          ]
        },
        "id": "zXT69rnNneVz"
      },
      "execution_count": null,
      "outputs": [
        {
          "output_type": "display_data",
          "data": {
            "text/plain": [
              "model.safetensors:   0%|          | 0.00/542M [00:00<?, ?B/s]"
            ],
            "application/vnd.jupyter.widget-view+json": {
              "version_major": 2,
              "version_minor": 0,
              "model_id": "80027f702ae44115bda843676ff7147a"
            }
          },
          "metadata": {}
        },
        {
          "output_type": "stream",
          "name": "stderr",
          "text": [
            "Some weights of DistilBertForSequenceClassification were not initialized from the model checkpoint at distilbert-base-multilingual-cased and are newly initialized: ['classifier.weight', 'classifier.bias', 'pre_classifier.bias', 'pre_classifier.weight']\n",
            "You should probably TRAIN this model on a down-stream task to be able to use it for predictions and inference.\n"
          ]
        }
      ]
    },
    {
      "cell_type": "code",
      "source": [
        "optimizer = AdamW(model_J.parameters(),\n",
        "                lr = 5e-5, # args.learning_rate - default is 5e-5.\n",
        "                eps = 1e-8 # args.adam_epsilon  - default is 1e-8.\n",
        "              )\n"
      ],
      "metadata": {
        "outputId": "6035d7ad-e72a-4a6e-88f2-e4abf2524d03",
        "colab": {
          "base_uri": "https://localhost:8080/"
        },
        "id": "00sPkJsGneVz"
      },
      "execution_count": null,
      "outputs": [
        {
          "output_type": "stream",
          "name": "stderr",
          "text": [
            "/usr/local/lib/python3.10/dist-packages/transformers/optimization.py:411: FutureWarning: This implementation of AdamW is deprecated and will be removed in a future version. Use the PyTorch implementation torch.optim.AdamW instead, or set `no_deprecation_warning=True` to disable this warning\n",
            "  warnings.warn(\n"
          ]
        }
      ]
    },
    {
      "cell_type": "markdown",
      "source": [
        "Now it is time to train. Notice how it is working, it might potentially help with your project as well!"
      ],
      "metadata": {
        "id": "er6kmc9IneVz"
      }
    },
    {
      "cell_type": "code",
      "source": [
        "total_t0 = time.time()\n",
        "for epoch in tqdm(range(3)):\n",
        "  total_train_loss = 0\n",
        "  model_J.train()\n",
        "  for step, batch in enumerate(train_loader):\n",
        "\n",
        "    b_input_ids = batch[0].to(device)\n",
        "    b_input_mask = batch[1].to(device)\n",
        "    b_labels = batch[2].to(device)\n",
        "    model_J.zero_grad()\n",
        "    outputs = model_J(b_input_ids,\n",
        "                            attention_mask=b_input_mask,\n",
        "                            labels=b_labels)\n",
        "    loss = outputs.loss\n",
        "    total_train_loss += loss\n",
        "    loss.backward()\n",
        "    torch.nn.utils.clip_grad_norm_(model_J.parameters(), 1.0)\n",
        "    optimizer.step()\n",
        "    if(step %10 == 0):\n",
        "      print(loss)\n",
        "\n",
        "  avg_train_loss = total_train_loss / len(train_loader)\n",
        "  print(\"\")\n",
        "  print(\"  Average training loss: {0:.2f}\".format(avg_train_loss))\n",
        "\n",
        "  print(\"\")\n",
        "  print(\"Running Validation...\")\n",
        "\n",
        "  t0 = time.time()\n",
        "\n",
        "  # Put the model in evaluation mode-\n",
        "  model_J.eval()\n",
        "\n",
        "  # Tracking variables\n",
        "  total_eval_accuracy = 0\n",
        "  total_eval_loss = 0\n",
        "  nb_eval_steps = 0\n",
        "\n",
        "    # Evaluate data for one epoch\n",
        "  for batch in val_loader:\n",
        "      #\n",
        "      # `batch` contains three pytorch tensors:\n",
        "      #   [0]: input ids\n",
        "      #   [1]: attention masksx\n",
        "      #   [2]: labels\n",
        "      b_input_ids = batch[0].to(device)\n",
        "      b_input_mask = batch[1].to(device)\n",
        "      b_labels = batch[2].to(device)\n",
        "\n",
        "      with torch.no_grad():\n",
        "\n",
        "          outputs = model_J(b_input_ids,\n",
        "                                  attention_mask=b_input_mask,\n",
        "                                  labels=b_labels)\n",
        "\n",
        "      # Accumulate the validation loss.\n",
        "      loss = outputs.loss\n",
        "      logits = outputs.logits\n",
        "      total_eval_loss += loss.item()\n",
        "\n",
        "      # Move logits and labels to CPU\n",
        "      logits = logits.detach().cpu().numpy()\n",
        "      label_ids = b_labels.to('cpu').numpy()\n",
        "\n",
        "      # Calculate the accuracy for this batch of test sentences, and\n",
        "      # accumulate it over all batches.\n",
        "      total_eval_accuracy += flat_accuracy(logits, label_ids)\n",
        "\n",
        "\n",
        "  # Report the final accuracy for this validation run.\n",
        "  avg_val_accuracy = total_eval_accuracy / len(val_loader)\n",
        "  print(\"  Accuracy: {0:.2f}\".format(avg_val_accuracy))\n",
        "\n",
        "  # Calculate the average loss over all of the batches.\n",
        "  avg_val_loss = total_eval_loss / len(val_loader)\n",
        "\n",
        "  # Measure how long the validation run took.\n",
        "  validation_time = format_time(time.time() - t0)\n",
        "\n",
        "  print(\"  Validation Loss: {0:.2f}\".format(avg_val_loss))\n",
        "  print(\"  Validation took: {:}\".format(validation_time))\n",
        "\n",
        "print(\"\")\n",
        "print(\"Training complete!\")\n",
        "\n",
        "print(\"Total training took {:}\".format(format_time(time.time()-total_t0)))"
      ],
      "metadata": {
        "outputId": "98386492-9d73-49f5-bc8c-7826a50a6cbb",
        "colab": {
          "base_uri": "https://localhost:8080/"
        },
        "id": "EK34SB2sneVz"
      },
      "execution_count": null,
      "outputs": [
        {
          "output_type": "stream",
          "name": "stderr",
          "text": [
            "\r  0%|          | 0/3 [00:00<?, ?it/s]"
          ]
        },
        {
          "output_type": "stream",
          "name": "stdout",
          "text": [
            "tensor(0.6418, device='cuda:0', grad_fn=<NllLossBackward0>)\n",
            "tensor(0.6190, device='cuda:0', grad_fn=<NllLossBackward0>)\n",
            "tensor(0.7972, device='cuda:0', grad_fn=<NllLossBackward0>)\n",
            "tensor(0.6261, device='cuda:0', grad_fn=<NllLossBackward0>)\n",
            "tensor(0.5266, device='cuda:0', grad_fn=<NllLossBackward0>)\n",
            "tensor(0.7213, device='cuda:0', grad_fn=<NllLossBackward0>)\n",
            "tensor(0.6029, device='cuda:0', grad_fn=<NllLossBackward0>)\n",
            "tensor(0.5541, device='cuda:0', grad_fn=<NllLossBackward0>)\n",
            "tensor(0.5405, device='cuda:0', grad_fn=<NllLossBackward0>)\n",
            "tensor(0.6686, device='cuda:0', grad_fn=<NllLossBackward0>)\n",
            "tensor(0.5838, device='cuda:0', grad_fn=<NllLossBackward0>)\n",
            "tensor(0.7089, device='cuda:0', grad_fn=<NllLossBackward0>)\n",
            "tensor(0.7006, device='cuda:0', grad_fn=<NllLossBackward0>)\n",
            "tensor(0.6497, device='cuda:0', grad_fn=<NllLossBackward0>)\n",
            "\n",
            "  Average training loss: 0.63\n",
            "\n",
            "Running Validation...\n"
          ]
        },
        {
          "output_type": "stream",
          "name": "stderr",
          "text": [
            "\r 33%|███▎      | 1/3 [03:21<06:43, 201.74s/it]"
          ]
        },
        {
          "output_type": "stream",
          "name": "stdout",
          "text": [
            "  Accuracy: 0.59\n",
            "  Validation Loss: 0.64\n",
            "  Validation took: 0:00:14\n",
            "tensor(0.6432, device='cuda:0', grad_fn=<NllLossBackward0>)\n",
            "tensor(0.6036, device='cuda:0', grad_fn=<NllLossBackward0>)\n",
            "tensor(0.6472, device='cuda:0', grad_fn=<NllLossBackward0>)\n",
            "tensor(0.6390, device='cuda:0', grad_fn=<NllLossBackward0>)\n",
            "tensor(0.6334, device='cuda:0', grad_fn=<NllLossBackward0>)\n",
            "tensor(0.3726, device='cuda:0', grad_fn=<NllLossBackward0>)\n",
            "tensor(0.3361, device='cuda:0', grad_fn=<NllLossBackward0>)\n",
            "tensor(0.5091, device='cuda:0', grad_fn=<NllLossBackward0>)\n",
            "tensor(0.4911, device='cuda:0', grad_fn=<NllLossBackward0>)\n",
            "tensor(0.4014, device='cuda:0', grad_fn=<NllLossBackward0>)\n",
            "tensor(0.4266, device='cuda:0', grad_fn=<NllLossBackward0>)\n",
            "tensor(0.5021, device='cuda:0', grad_fn=<NllLossBackward0>)\n",
            "tensor(0.5792, device='cuda:0', grad_fn=<NllLossBackward0>)\n",
            "tensor(0.4854, device='cuda:0', grad_fn=<NllLossBackward0>)\n",
            "\n",
            "  Average training loss: 0.52\n",
            "\n",
            "Running Validation...\n"
          ]
        },
        {
          "output_type": "stream",
          "name": "stderr",
          "text": [
            "\r 67%|██████▋   | 2/3 [06:43<03:21, 201.68s/it]"
          ]
        },
        {
          "output_type": "stream",
          "name": "stdout",
          "text": [
            "  Accuracy: 0.60\n",
            "  Validation Loss: 0.68\n",
            "  Validation took: 0:00:14\n",
            "tensor(0.4428, device='cuda:0', grad_fn=<NllLossBackward0>)\n",
            "tensor(0.3948, device='cuda:0', grad_fn=<NllLossBackward0>)\n",
            "tensor(0.0995, device='cuda:0', grad_fn=<NllLossBackward0>)\n",
            "tensor(0.3171, device='cuda:0', grad_fn=<NllLossBackward0>)\n",
            "tensor(0.1719, device='cuda:0', grad_fn=<NllLossBackward0>)\n",
            "tensor(0.3232, device='cuda:0', grad_fn=<NllLossBackward0>)\n",
            "tensor(0.4346, device='cuda:0', grad_fn=<NllLossBackward0>)\n",
            "tensor(0.2384, device='cuda:0', grad_fn=<NllLossBackward0>)\n",
            "tensor(0.4020, device='cuda:0', grad_fn=<NllLossBackward0>)\n",
            "tensor(0.3662, device='cuda:0', grad_fn=<NllLossBackward0>)\n",
            "tensor(0.3433, device='cuda:0', grad_fn=<NllLossBackward0>)\n",
            "tensor(0.4453, device='cuda:0', grad_fn=<NllLossBackward0>)\n",
            "tensor(0.3286, device='cuda:0', grad_fn=<NllLossBackward0>)\n",
            "tensor(0.4480, device='cuda:0', grad_fn=<NllLossBackward0>)\n",
            "\n",
            "  Average training loss: 0.36\n",
            "\n",
            "Running Validation...\n"
          ]
        },
        {
          "output_type": "stream",
          "name": "stderr",
          "text": [
            "100%|██████████| 3/3 [10:05<00:00, 201.68s/it]"
          ]
        },
        {
          "output_type": "stream",
          "name": "stdout",
          "text": [
            "  Accuracy: 0.58\n",
            "  Validation Loss: 0.91\n",
            "  Validation took: 0:00:14\n",
            "\n",
            "Training complete!\n",
            "Total training took 0:10:05\n"
          ]
        },
        {
          "output_type": "stream",
          "name": "stderr",
          "text": [
            "\n"
          ]
        }
      ]
    },
    {
      "cell_type": "markdown",
      "source": [
        "Now we can check how our accuracy is!"
      ],
      "metadata": {
        "id": "TcPB2U9tneVz"
      }
    },
    {
      "cell_type": "code",
      "source": [
        "print('Predicting labels for test sentences...')\n",
        "\n",
        "# Put model in evaluation mode\n",
        "model_J.eval()\n",
        "\n",
        "# Tracking variables\n",
        "predictions , true_labels = [], []\n",
        "\n",
        "# Predict\n",
        "for batch in test_loader:\n",
        "\n",
        "  # Unpack the inputs from our dataloader\n",
        "  b_input_ids = batch[0].to(device)\n",
        "  b_input_mask = batch[1].to(device)\n",
        "  b_labels = batch[2].to(device)\n",
        "  # Telling the model not to compute or store gradients, saving memory and\n",
        "  # speeding up prediction\n",
        "  with torch.no_grad():\n",
        "      # Forward pass, calculate logit predictions\n",
        "      outputs = model_J(b_input_ids,\n",
        "                      attention_mask=b_input_mask)\n",
        "  logits = outputs[0]\n",
        "\n",
        "  # Move logits and labels to CPU\n",
        "  logits = logits.detach().cpu().numpy()\n",
        "  label_ids = b_labels.to('cpu').numpy()\n",
        "\n",
        "  # Store predictions and true labels\n",
        "  predictions.extend(logits)\n",
        "  true_labels.extend(label_ids)\n",
        "print('Final Accuracy: {0}'.format(flat_accuracy(np.asarray(predictions), np.asarray(true_labels))))\n",
        "\n",
        "print('    DONE.')"
      ],
      "metadata": {
        "colab": {
          "base_uri": "https://localhost:8080/"
        },
        "id": "_YYDXzPlneVz",
        "outputId": "388afe86-7869-43ee-cd1d-934d5d3d5d34"
      },
      "execution_count": null,
      "outputs": [
        {
          "output_type": "stream",
          "name": "stdout",
          "text": [
            "Predicting labels for test sentences...\n",
            "Final Accuracy: 0.612691466083151\n",
            "    DONE.\n"
          ]
        }
      ]
    },
    {
      "cell_type": "markdown",
      "source": [
        "## Base Rates"
      ],
      "metadata": {
        "id": "3zQSso2yyazy"
      }
    },
    {
      "cell_type": "code",
      "source": [
        "print(sum(extraversion)/len(extraversion),\n",
        "      sum(sensing)/len(sensing),\n",
        "      sum(thinking)/len(thinking),\n",
        "      sum(judging)/len(judging)\n",
        "      )"
      ],
      "metadata": {
        "colab": {
          "base_uri": "https://localhost:8080/"
        },
        "id": "mhWdy_VHycqm",
        "outputId": "70eb89f5-2ab7-4c8a-d242-4a4cc9eea2c7"
      },
      "execution_count": null,
      "outputs": [
        {
          "output_type": "stream",
          "name": "stdout",
          "text": [
            "0.5165464755009549 0.3143687826012599 0.295755779152296 0.5284967078072\n"
          ]
        }
      ]
    },
    {
      "cell_type": "markdown",
      "source": [
        "## Results\n",
        "distilbert-base-multilingual-cased, 5% subsample: E/I 0.599 acc, S/I 0.705 acc, T/F 0.700 acc, J/P 0.613 acc"
      ],
      "metadata": {
        "id": "EiSoRAO8phbE"
      }
    }
  ]
}